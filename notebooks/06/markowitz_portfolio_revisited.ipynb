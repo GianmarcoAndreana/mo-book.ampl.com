{
 "cells": [
  {
   "cell_type": "markdown",
   "id": "6b0b3c2f-3aaa-43fe-a8d0-2b696df5c1a6",
   "metadata": {
    "tags": []
   },
   "source": [
    "```{index} single: application; portfolio\n",
    "```\n",
    "```{index} single: application; investment\n",
    "```\n",
    "```{index} single: solver; cplex\n",
    "```\n",
    "\n",
    "# Markowitz portfolio optimization revisited"
   ]
  },
  {
   "cell_type": "code",
   "execution_count": 1,
   "id": "5da22c67-5c34-4c3a-90a4-61222899e855",
   "metadata": {
    "tags": []
   },
   "outputs": [],
   "source": [
    "# install dependencies and select solver\n",
    "!pip install -q amplpy numpy pandas\n",
    "\n",
    "SOLVER_CONIC = \"gurobi\"    ## ipopt, gurobi, knitro. Not Mosek for this model"
   ]
  },
  {
   "cell_type": "code",
   "execution_count": 2,
   "id": "b13edf26",
   "metadata": {
    "tags": []
   },
   "outputs": [
    {
     "name": "stdout",
     "output_type": "stream",
     "text": [
      "Please provide a valid license UUID. You can use a free https://ampl.com/ce license.\n"
     ]
    },
    {
     "data": {
      "application/vnd.jupyter.widget-view+json": {
       "model_id": "13313d45f27745129dfca3f09d425453",
       "version_major": 2,
       "version_minor": 0
      },
      "text/plain": [
       "VBox(children=(Output(), HBox(children=(Text(value='', description='License UUID:', style=TextStyle(descriptio…"
      ]
     },
     "metadata": {},
     "output_type": "display_data"
    }
   ],
   "source": [
    "from amplpy import AMPL, tools\n",
    "ampl = tools.ampl_notebook(\n",
    "    modules=[\"gurobi\"],  # modules to install\n",
    "    license_uuid=\"default\"       # license to use\n",
    ") # instantiate AMPL object and register notebook magics\n",
    "from IPython.display import Markdown, HTML\n",
    "import numpy as np\n",
    "import matplotlib.pyplot as plt"
   ]
  },
  {
   "cell_type": "markdown",
   "id": "a82bd88d-7b16-4c82-b0b7-5dbd0d81b71c",
   "metadata": {
    "tags": []
   },
   "source": [
    "## Problem description and model formulation\n",
    "\n",
    "Consider again the [Markowitz portfolio optimization](../05/markowitz_portfolio.ipynb) we presented earlier in Chapter 5. Recall that the matrix $\\Sigma$ describes the covariance among the uncertain return rates $r_i$, $i=1,\\dots, n$. Since $\\Sigma$ is positive semidefinite by definition, it allows for a Cholesky factorization, namely $\\Sigma = B B^\\top$. We can then rewrite the quadratic constraint as $\\|B^\\top x \\|_2 \\leq \\gamma$ and thus as $(\\gamma, B^\\top x) \\in \\mathcal{L}^{n+1}$ using the Lorentz cone. In this way, we realize that the original portfolio problem we formulated [earlier](../05/markowitz_portfolio.ipynb) is in fact a conic quadratic optimization problem, which can thus be solved faster and more reliably. The optimal solution of that problem was the one with the maximum expected return while allowing for a specific level $\\gamma$ of risk. \n",
    "\n",
    "However, an investor could aim for a different trade-off between return and risk and formulate a slightly different optimization problem, namely\n",
    "\n",
    "$$\n",
    "\\begin{align*}\n",
    "    \\max \\quad  &  R \\tilde{x} + \\mu^\\top x - \\alpha x^\\top \\Sigma x \\\\\n",
    "    \\text{s.t.}\\quad\n",
    "    & \\sum_{i=1}^n x_i + \\tilde{x}  = C  \\\\\n",
    "    & \\tilde x \\geq 0\\\\\n",
    "    & x_i \\geq 0 & \\forall \\, i=1,\\dots,n. \n",
    "\\end{align*}\n",
    "$$\n",
    "\n",
    "where $\\alpha \\geq 0$ is a *risk tolerance* parameter that describes the relative importance of return vs. risk for the investor.\n",
    "\n",
    "The risk, quantified by the variance of the investment return $x^\\top \\Sigma x = x^\\top B^\\top B x$, appears now in the objective function as a penalty term. Note that even in this new formulation we have a conic problem since we can rewrite it as\n",
    "\n",
    "$$\n",
    "\\begin{align*}\n",
    "    \\max \\quad  &  R \\tilde{x} + \\mu^\\top x - \\alpha s \\\\\n",
    "    \\text{s.t.}\\quad\n",
    "    & \\sum_{i=1}^n x_i + \\tilde{x}  = C  \\\\\n",
    "    & \\| B^\\top x\\|^2_2 \\leq s \\\\\n",
    "    & \\tilde x \\geq 0 \\\\\n",
    "    & s \\geq 0\\\\\n",
    "    & x_i \\geq 0 & \\forall \\, i=1,\\dots,n. \n",
    "\\end{align*}\n",
    "$$\n",
    "\n",
    "Solving for all values of $\\alpha \\geq 0$, one can obtain the so-called **efficient frontier**."
   ]
  },
  {
   "cell_type": "code",
   "execution_count": 3,
   "id": "97eb9dda",
   "metadata": {},
   "outputs": [
    {
     "name": "stdout",
     "output_type": "stream",
     "text": [
      "Overwriting markowitz_portfolio_revisited.mod\n"
     ]
    }
   ],
   "source": [
    "%%writefile markowitz_portfolio_revisited.mod\n",
    "\n",
    "# Specify the initial capital, the risk tolerance, and the guaranteed return rate. \n",
    "param C;\n",
    "param alpha;\n",
    "param R;\n",
    "\n",
    "# Specify the number of assets, their expected return, and their covariance matrix.\n",
    "param n;\n",
    "param mu{1..n};\n",
    "param Sigma{1..n, 1..n};\n",
    "\n",
    "var xtilde >= 0;\n",
    "var x{1..n} >= 0;\n",
    "var s >= 0;\n",
    "    \n",
    "maximize Objective:\n",
    "    sum {i in 1..n} mu[i]*x[i] + R*xtilde - alpha*s;\n",
    "    \n",
    "s.t. BoundedVariance:\n",
    "    sum {i in 1..n, j in 1..n} x[i]*Sigma[i,j]*x[j] <= s**2;\n",
    "    \n",
    "s.t. TotalAssets:\n",
    "    sum {i in 1..n} x[i] + xtilde == C;\n",
    "    "
   ]
  },
  {
   "cell_type": "code",
   "execution_count": 4,
   "id": "0e194e8d",
   "metadata": {
    "scrolled": true,
    "tags": []
   },
   "outputs": [
    {
     "name": "stdout",
     "output_type": "stream",
     "text": [
      "Gurobi 10.0.1: \b\b\b\b\b\b\b\b\b\b\b\b\b\b\bGurobi 10.0.1: optimal solution; objective 1.138348189\n",
      "0 simplex iterations\n",
      "6 barrier iterations\n"
     ]
    },
    {
     "data": {
      "text/markdown": [
       "**Solver status:** *solved*"
      ],
      "text/plain": [
       "<IPython.core.display.Markdown object>"
      ]
     },
     "metadata": {},
     "output_type": "display_data"
    },
    {
     "data": {
      "text/markdown": [
       "**Solution:** $\\tilde x = 0.000$              $x_1 = 0.589$,  $x_2 = 0.000$,  $x_3 = 0.411$"
      ],
      "text/plain": [
       "<IPython.core.display.Markdown object>"
      ]
     },
     "metadata": {},
     "output_type": "display_data"
    },
    {
     "data": {
      "text/markdown": [
       "**Maximizes objective value to:** $1.14$"
      ],
      "text/plain": [
       "<IPython.core.display.Markdown object>"
      ]
     },
     "metadata": {},
     "output_type": "display_data"
    }
   ],
   "source": [
    "# Specify the initial capital, the risk tolerance, and the guaranteed return rate. \n",
    "C = 1\n",
    "alpha = 0.1\n",
    "R = 1.05\n",
    "\n",
    "# Specify the number of assets, their expected return, and their covariance matrix.\n",
    "n = 3\n",
    "mu = np.array([1.25, 1.15, 1.35])\n",
    "Sigma = np.array([[1.5, 0.5, 2], [0.5, 2, 0], [2, 0, 5]])\n",
    "\n",
    "# If you want to change the covariance matrix Sigma, ensure you input a semi-definite positive one.\n",
    "# The easiest way to generate a random covariance matrix is first generating a random m x m matrix A \n",
    "# and then taking the matrix A^T A (which is always semi-definite positive)\n",
    "# m = 3\n",
    "# A = np.random.rand(m, m)\n",
    "# Sigma = A.T @ A\n",
    "\n",
    "def markowitz_revisited(alpha, mu, Sigma):\n",
    "    \n",
    "    ampl = AMPL()\n",
    "    ampl.read(\"markowitz_portfolio_revisited.mod\")\n",
    "\n",
    "    ampl.param[\"C\"] = C\n",
    "    ampl.param[\"alpha\"] = alpha\n",
    "    ampl.param[\"R\"] = R\n",
    "\n",
    "    ampl.param[\"n\"] = n\n",
    "    ampl.param[\"mu\"] = mu\n",
    "    ampl.param[\"Sigma\"] = {\n",
    "        (i+1, j+1): Sigma[i][j]\n",
    "        for i in range(n)\n",
    "        for j in range(n)\n",
    "    }\n",
    "\n",
    "    ampl.option[\"solver\"] = SOLVER_CONIC\n",
    "    ampl.solve()\n",
    "    \n",
    "    return ampl\n",
    "\n",
    "ampl = markowitz_revisited(alpha, mu, Sigma)\n",
    "xtilde = ampl.get_variable(\"xtilde\").value()\n",
    "x = ampl.get_variable(\"x\").get_values().to_dict()\n",
    "\n",
    "display(Markdown(f\"**Solver status:** *{ampl.get_value('solve_result')}*\"))\n",
    "display(Markdown(f\"**Solution:** $\\\\tilde x = {xtilde:.3f}$\"\n",
    "                 f\"              $x_1 = {x[1]:.3f}$,  $x_2 = {x[2]:.3f}$,  $x_3 = {x[3]:.3f}$\"))\n",
    "display(Markdown(f\"**Maximizes objective value to:**\"\n",
    "                 f\" ${ampl.get_objective('Objective').value():.2f}$\"))"
   ]
  },
  {
   "cell_type": "code",
   "execution_count": 5,
   "id": "9a2b00d7-433a-46c8-a4b6-c451244c9b0f",
   "metadata": {
    "tags": []
   },
   "outputs": [
    {
     "name": "stdout",
     "output_type": "stream",
     "text": [
      "Gurobi 10.0.1:Gurobi 10.0.1: optimal solution; objective 1.338818885\n",
      "0 simplex iterations\n",
      "4 barrier iterations\n",
      "Gurobi 10.0.1:Gurobi 10.0.1: optimal solution; objective 1.327639119\n",
      "0 simplex iterations\n",
      "5 barrier iterations\n",
      "Gurobi 10.0.1:Gurobi 10.0.1: optimal solution; objective 1.305278631\n",
      "0 simplex iterations\n",
      "5 barrier iterations\n",
      "Gurobi 10.0.1:Gurobi 10.0.1: optimal solution; objective 1.282917533\n",
      "0 simplex iterations\n",
      "4 barrier iterations\n",
      "Gurobi 10.0.1:Gurobi 10.0.1: optimal solution; objective 1.260557184\n",
      "0 simplex iterations\n",
      "5 barrier iterations\n",
      "Gurobi 10.0.1:Gurobi 10.0.1: optimal solution; objective 1.238196597\n",
      "0 simplex iterations\n",
      "5 barrier iterations\n",
      "Gurobi 10.0.1:Gurobi 10.0.1: optimal solution; objective 1.215835799\n",
      "0 simplex iterations\n",
      "5 barrier iterations\n",
      "Gurobi 10.0.1:Gurobi 10.0.1: optimal solution; objective 1.193474981\n",
      "0 simplex iterations\n",
      "6 barrier iterations\n",
      "Gurobi 10.0.1:Gurobi 10.0.1: optimal solution; objective 1.172034117\n",
      "0 simplex iterations\n",
      "6 barrier iterations\n",
      "Gurobi 10.0.1:Gurobi 10.0.1: optimal solution; objective 1.154236943\n",
      "0 simplex iterations\n",
      "5 barrier iterations\n",
      "Gurobi 10.0.1:Gurobi 10.0.1: optimal solution; objective 1.138348189\n",
      "0 simplex iterations\n",
      "6 barrier iterations\n",
      "Gurobi 10.0.1:Gurobi 10.0.1: optimal solution; objective 1.123513075\n",
      "0 simplex iterations\n",
      "8 barrier iterations\n",
      "Gurobi 10.0.1:Gurobi 10.0.1: optimal solution; objective 1.109608612\n",
      "0 simplex iterations\n",
      "8 barrier iterations\n",
      "Gurobi 10.0.1:Gurobi 10.0.1: optimal solution; objective 1.096458486\n",
      "0 simplex iterations\n",
      "6 barrier iterations\n",
      "Gurobi 10.0.1:Gurobi 10.0.1: optimal solution; objective 1.083820476\n",
      "0 simplex iterations\n",
      "5 barrier iterations\n",
      "Gurobi 10.0.1:Gurobi 10.0.1: optimal solution; objective 1.071553926\n",
      "0 simplex iterations\n",
      "6 barrier iterations\n",
      "Gurobi 10.0.1:Gurobi 10.0.1: optimal solution; objective 1.059563739\n",
      "0 simplex iterations\n",
      "5 barrier iterations\n",
      "Gurobi 10.0.1:Gurobi 10.0.1: optimal solution; objective 1.049999237\n",
      "0 simplex iterations\n",
      "4 barrier iterations\n",
      "Gurobi 10.0.1:Gurobi 10.0.1: optimal solution; objective 1.049999988\n",
      "0 simplex iterations\n",
      "4 barrier iterations\n",
      "Gurobi 10.0.1:Gurobi 10.0.1: optimal solution; objective 1.049999988\n",
      "0 simplex iterations\n",
      "4 barrier iterations\n",
      "Gurobi 10.0.1:Gurobi 10.0.1: optimal solution; objective 1.049999987\n",
      "0 simplex iterations\n",
      "4 barrier iterations\n",
      "Gurobi 10.0.1:Gurobi 10.0.1: optimal solution; objective 1.049999103\n",
      "0 simplex iterations\n",
      "3 barrier iterations\n",
      "Gurobi 10.0.1:Gurobi 10.0.1: optimal solution; objective 1.049999723\n",
      "0 simplex iterations\n",
      "3 barrier iterations\n"
     ]
    },
    {
     "data": {
      "image/png": "[encoded data removed]",
      "text/plain": [
       "<Figure size 640x480 with 1 Axes>"
      ]
     },
     "metadata": {},
     "output_type": "display_data"
    }
   ],
   "source": [
    "alpha_values = [0.005, 0.01, 0.02, 0.03, 0.04, 0.05, 0.06, 0.07, 0.08, 0.09, 0.1, 0.11, 0.12, 0.13, 0.14, 0.15, 0.16, 0.17, 0.18, 0.19, 0.20, 0.25, 0.5]\n",
    "objective = []\n",
    "\n",
    "for alpha in alpha_values:\n",
    "    ampl = markowitz_revisited(alpha, mu, Sigma)\n",
    "    objective.append(round(ampl.get_objective(\"Objective\").value(), 3))\n",
    "    \n",
    "plt.plot(alpha_values, objective)\n",
    "plt.xlabel(r'Risk tolerance $\\alpha$')\n",
    "plt.ylabel('Optimal objective value')\n",
    "plt.show()"
   ]
  }
 ],
 "metadata": {
  "kernelspec": {
   "display_name": "Python 3 (ipykernel)",
   "language": "python",
   "name": "python3"
  },
  "language_info": {
   "codemirror_mode": {
    "name": "ipython",
    "version": 3
   },
   "file_extension": ".py",
   "mimetype": "text/x-python",
   "name": "python",
   "nbconvert_exporter": "python",
   "pygments_lexer": "ipython3",
   "version": "3.10.6"
  },
  "varInspector": {
   "cols": {
    "lenName": 16,
    "lenType": 16,
    "lenVar": 40
   },
   "kernels_config": {
    "python": {
     "delete_cmd_postfix": "",
     "delete_cmd_prefix": "del ",
     "library": "var_list.py",
     "varRefreshCmd": "print(var_dic_list())"
    },
    "r": {
     "delete_cmd_postfix": ") ",
     "delete_cmd_prefix": "rm(",
     "library": "var_list.r",
     "varRefreshCmd": "cat(var_dic_list()) "
    }
   },
   "types_to_exclude": [
    "module",
    "function",
    "builtin_function_or_method",
    "instance",
    "_Feature"
   ],
   "window_display": false
  }
 },
 "nbformat": 4,
 "nbformat_minor": 5
}
