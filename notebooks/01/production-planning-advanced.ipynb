{
  "cells": [
    {
      "cell_type": "markdown",
      "metadata": {
        "id": "view-in-github",
        "colab_type": "text"
      },
      "source": [
        "<a href=\"https://colab.research.google.com/github/fdabrandao/MO-book-with-AMPL/blob/dev/notebooks/01/production-planning-advanced.ipynb\" target=\"_parent\"><img src=\"https://colab.research.google.com/assets/colab-badge.svg\" alt=\"Open In Colab\"/></a>"
      ]
    },
    {
      "cell_type": "markdown",
      "metadata": {
        "id": "AVkGJGu-Ob6L",
        "tags": []
      },
      "source": [
        "# A Data-Driven AMPL Model\n",
        "\n",
        "In this notebook, we'll revisit the production planning example. However, this time we'll demonstrate how Python's data structures combine with AMPL's ability to separate model and data, to create an optimization model that scales with the size of the data tables. This enables the model to adjust to new products, varying prices, or changing demand. We refer to this as \"data-driven\" modeling.\n",
        "\n",
        "This notebook introduces two new AMPL model components that describe the data in a general way:\n",
        "\n",
        "* Sets\n",
        "* Parameters\n",
        "\n",
        "These components enable the model to specify variables,  constraints, and summations that are *indexed* over sets. The combination of sets and indices is essential to building scalable and maintainable models for more complex applications.\n",
        "\n",
        "We will begin this analysis by examining the production planning data sets to identify the underlying problem structure."
      ]
    },
    {
      "cell_type": "code",
      "execution_count": 23,
      "metadata": {
        "id": "cS2_YeGSctc4"
      },
      "outputs": [],
      "source": [
        "# install dependencies and select solver\n",
        "!pip install -q amplpy matplotlib pandas"
      ]
    },
    {
      "cell_type": "markdown",
      "metadata": {
        "tags": [],
        "id": "6w-u0Bd3ctc9"
      },
      "source": [
        "## Data representations\n",
        "\n",
        "We begin by revisiting the data sets and mathematical model developed for the basic production planning problem presented in the previous notebook. The original data sets were given as:\n",
        "\n",
        "| Product | Material <br> required | Labor A <br> required | Labor B <br> required | Market <br> Demand | Price |\n",
        "| :-: | :-: | :-: | :-: | :-: | :-: |\n",
        "| U | 10 g | 1 hr | 2 hr | $\\leq$ 40 units | \\$270 |\n",
        "| V |  9 g | 1 hr | 1 hr | unlimited | \\$210 |\n",
        "\n",
        "| Resource | Amount <br> Available | Cost |\n",
        "| :-: | :-: | :-: |\n",
        "| Material | ? | \\$10 / g |\n",
        "| Labor A | 80 hours | \\$50 / hour |\n",
        "| Labor B | 100 hours | \\$40 / hour |\n",
        "\n",
        "Two distinct sets of objects are evident from these tables. The first is the set of products comprised of $U$ and $V$. The second is the set of resources used to produce those products, which we we abbreviated as $M$, $A$, and $B$ in our model.\n",
        "\n",
        "Having identified these sets, the data for this application be factored into three simple tables. The first two tables list attributes of the products and attributes of the resources. The third table summarizes the process used to create the products from the resources, which requires providing a value for each combination of product and resource:\n",
        "\n",
        "**Table: Products**\n",
        "\n",
        "| Product | Demand | Price |\n",
        "| :-: | :-: | :-: |\n",
        "| U |  $\\leq$ 40 units | \\$270 |\n",
        "| V |  unlimited | \\$210 |\n",
        "\n",
        "**Table: Resources**\n",
        "\n",
        "| Resource | Available | Cost |\n",
        "| :-: | :-: | :-: |\n",
        "| M | ? | \\$10 / g |\n",
        "| A | 80 hours | \\$50 / hour |\n",
        "| B | 100 hours | \\$40 / hour |\n",
        "\n",
        "**Table: Processes**\n",
        "\n",
        "| Product | M | A | B\n",
        "| :-: | :-: | :-: | :-: |\n",
        "| U | 10 g | 1 hr | 2 hr |\n",
        "| V |  9 g | 1 hr | 1 hr |\n"
      ]
    },
    {
      "cell_type": "markdown",
      "metadata": {
        "id": "Lrx4Bpo2ctc-"
      },
      "source": [
        "Python has many built-in data types and libraries that are useful for handling tabular data, and there are several options that would be appropriate for the task at hand. Nested dictionaries can be a good choice data of moderate size. In the following examples, we will show how nested dictionaries can be used to represent the three tables described above.\n",
        "\n",
        "The first table describes the products. The product names serve as keys for outermost dictionary, and attribute names as keys for the inner dictionaries. The attribute values are numbers; `None` is specified when a value is not present."
      ]
    },
    {
      "cell_type": "code",
      "execution_count": 24,
      "metadata": {
        "id": "J49LJ253ctc_",
        "outputId": "d431c219-56ed-4968-c5d9-5a292e6e5e89",
        "colab": {
          "base_uri": "https://localhost:8080/"
        }
      },
      "outputs": [
        {
          "output_type": "stream",
          "name": "stdout",
          "text": [
            "U demand     40\n",
            "U price      270\n",
            "V demand     None\n",
            "V price      210\n"
          ]
        }
      ],
      "source": [
        "products = {\n",
        "    \"U\": {\"demand\": 40, \"price\": 270},\n",
        "    \"V\": {\"demand\": None, \"price\": 210},\n",
        "}\n",
        "\n",
        "# print data\n",
        "for product, attributes in products.items():\n",
        "    for attribute, value in attributes.items():\n",
        "        print(f\"{product} {attribute:10s} {value}\")"
      ]
    },
    {
      "cell_type": "markdown",
      "metadata": {
        "id": "phqusXNvctdA"
      },
      "source": [
        "The second table is the nested dictionary listing attributes and values for resources consumed."
      ]
    },
    {
      "cell_type": "code",
      "execution_count": 25,
      "metadata": {
        "id": "pq3vFoVJctdB",
        "outputId": "0b2f003f-20ae-4266-ebc0-b9faf56f3db4",
        "colab": {
          "base_uri": "https://localhost:8080/"
        }
      },
      "outputs": [
        {
          "output_type": "stream",
          "name": "stdout",
          "text": [
            "M        available  None\n",
            "M        cost       10\n",
            "A        available  80\n",
            "A        cost       50\n",
            "B        available  100\n",
            "B        cost       40\n"
          ]
        }
      ],
      "source": [
        "resources = {\n",
        "    \"M\": {\"available\": None, \"cost\": 10},\n",
        "    \"A\": {\"available\":   80, \"cost\": 50},\n",
        "    \"B\": {\"available\":  100, \"cost\": 40},\n",
        "}\n",
        "\n",
        "for resource, attributes in resources.items():\n",
        "    for attribute, value in attributes.items():\n",
        "        print(f\"{resource:8s} {attribute:10s} {value}\")"
      ]
    },
    {
      "cell_type": "markdown",
      "metadata": {
        "id": "Qv-516GQctdC"
      },
      "source": [
        "The third table data shows the amount of each resource needed to produce one unit of each product. Both sets serve as keys here: the product names for outermost dictionary, and resource names for the inner dictionaries."
      ]
    },
    {
      "cell_type": "code",
      "execution_count": 26,
      "metadata": {
        "id": "Ou9fADPBctdD",
        "outputId": "3d28e869-b904-4dce-8950-019c93f0511c",
        "colab": {
          "base_uri": "https://localhost:8080/"
        }
      },
      "outputs": [
        {
          "output_type": "stream",
          "name": "stdout",
          "text": [
            "U    M          10\n",
            "U    A          2\n",
            "U    B          1\n",
            "V    M          9\n",
            "V    A          1\n",
            "V    B          1\n"
          ]
        }
      ],
      "source": [
        "processes = {\n",
        "    \"U\": {\"M\": 10, \"A\": 2, \"B\": 1},\n",
        "    \"V\": {\"M\":  9, \"A\": 1, \"B\": 1},\n",
        "}\n",
        "\n",
        "for product, process in processes.items():\n",
        "    for resource, value in process.items():\n",
        "        print(f\"{product:4s} {resource:10s} {value}\")"
      ]
    },
    {
      "cell_type": "markdown",
      "metadata": {
        "jp-MarkdownHeadingCollapsed": true,
        "tags": [],
        "id": "JrmOWyi0ctdE"
      },
      "source": [
        "## Mathematical model\n",
        "\n",
        "By rearranging the problem data into straightforward tables, the structure of the production planning problem becomes evident. We can identify a set of products, a set of resources, and a collection of parameters that specify the processes for transforming resources into products. Compared to the previous notebook, these abstractions allow us to create mathematical models that can adapt and scale with the supplied data.\n",
        "\n",
        "Let $\\cal{P}$ and $\\cal{R}$ be the set of products and resources, respectively, and let $p$ and $r$ be representative elements of those sets. We use indexed decision variables $x_r$ to denote the amount of resource $r$ that is consumed in production, and $y_p$ to denote the amount of product $p$ produced.\n",
        "\n",
        "The problem data provides attributes that constrain the decision variables. For example, the decision variables all have lower bounds of zero, and some have upper bounds. We represent these as\n",
        "\n",
        "$$\n",
        "\\begin{aligned}\n",
        "    0 \\leq x_r \\leq bx_r & & \\forall r\\in\\cal{R} \\\\\n",
        "    0 \\leq y_p \\leq by_p & & \\forall p\\in\\cal{P} \\\\\n",
        "\\end{aligned}\n",
        "$$\n",
        "\n",
        "where the upper bounds, $u_r$ and $v_q$, come from the tables of attributes. For cases where the upper bounds don't exist . . . **add explanation here**\n",
        "\n",
        "The objective is given as before,\n",
        "\n",
        "$$\n",
        "\\begin{aligned}\n",
        "    \\text{profit} & = \\text{revenue} - \\text{cost} \\\\\n",
        "\\end{aligned}\n",
        "$$\n",
        "\n",
        "but now the expressions for revenue and cost are\n",
        "\n",
        "$$\n",
        "\\begin{aligned}\n",
        "    \\text{revenue} & = \\sum_{p\\in\\cal{P}} cy_p y_p  \\\\\n",
        "    \\text{cost} & = \\sum_{r\\in\\cal{R}} cx_r x_r \\\\\n",
        "\\end{aligned}\n",
        "$$\n",
        "\n",
        "where $cy_p$ and $cx_r$ are parameters specifying the price for resources and the cost for products. The limits on available resources can be written as\n",
        "\n",
        "$$\n",
        "\\begin{aligned}\n",
        "    \\sum_{p\\in\\cal{P}} a_{rp} y_p & \\leq x_r & \\forall r\\in\\cal{R}\n",
        "\\end{aligned}\n",
        "$$\n",
        "\n",
        "where $a_rp$ is the amount of resource $r$ needed to make 1 unit of product $p$. Putting these pieces together, we have the following model for the production planning problem.\n",
        "\n",
        "$$\n",
        "\\begin{align}\n",
        "{\\rm maximize} \\quad & \\sum_{p\\in\\cal{P}} cy_p y_p - \\sum_{r\\in\\cal{R}} cx_r x_r \\\\\n",
        "\\text{subject to} \\quad & \\sum_{p\\in\\cal{P}} a_{rp} y_p  \\leq x_r & \\forall r\\in\\cal{R} \\nonumber \\\\\n",
        " &   0 \\leq x_r \\leq bx_r & \\forall r\\in\\cal{R} \\nonumber  \\\\\n",
        " &   0 \\leq y_p \\leq by_p & \\forall p\\in\\cal{P} \\nonumber  \\\\\n",
        "\\end{align}\n",
        "$$\n",
        "\n",
        "Compared to the previous notebook, when formulated this way, the model can be applied to any problem with the same structure, regardless of the number of products or resources. This flexibility is possible due to the use of sets to describe the products and resources for a particular problem, indices to refer to elements of those sets, and data tables that hold the relevant parameter values.\n",
        "\n",
        "Generalizing mathematical models in this fashion is a feature of all large-scale optimization applications. Next we will see how this type of generalization is facilitated in AMPL."
      ]
    },
    {
      "cell_type": "markdown",
      "metadata": {
        "id": "Z9izg44dctdF"
      },
      "source": [
        "## The production model in AMPL\n",
        "\n",
        "As before, we begin the construction of an AMPL model by importing the needed components into the AMPL environment."
      ]
    },
    {
      "cell_type": "code",
      "execution_count": 27,
      "metadata": {
        "id": "Uqz3b8xuctdF",
        "colab": {
          "base_uri": "https://localhost:8080/"
        },
        "outputId": "5f7948e3-83a1-4619-9c56-6fe4158249dd"
      },
      "outputs": [
        {
          "output_type": "stream",
          "name": "stdout",
          "text": [
            "Using default Community Edition License for Colab. Get yours at: https://ampl.com/ce\n",
            "Licensed to AMPL Community Edition License for the AMPL Model Colaboratory (https://colab.ampl.com).\n"
          ]
        }
      ],
      "source": [
        "from amplpy import AMPL, tools\n",
        "\n",
        "ampl = tools.ampl_notebook(\n",
        "    modules=[\"highs\"], # modules to install\n",
        "    license_uuid=\"default\", # license to use\n",
        "    g=globals()) # instantiate AMPL object and register magics"
      ]
    },
    {
      "cell_type": "markdown",
      "metadata": {
        "id": "CYEdqS6sctdG"
      },
      "source": [
        "Next we use AMPL `set` statements to define the product and resource sets. Notice that at this point, we are only telling AMPL about the two sets will be used in the model. The members of these sets will be sent from Python to AMPL later, as part of the problem data.\n",
        "\n",
        "In mathematical formulations, it is customary to keep the names of all components short. But when writing the model in AMPL, we are free to use longer, more meaningful names that make the model statements easier to read. Thus, for example, here we use `PRODUCTS` and `RESOURCES` as the AMPL names of the set are are called $\\cal P$ and $\\cal R$ in the mathematical model."
      ]
    },
    {
      "cell_type": "code",
      "execution_count": 28,
      "metadata": {
        "id": "_DrA1iQ6ctdG"
      },
      "outputs": [],
      "source": [
        "%%ampl_eval\n",
        "# define sets\n",
        "\n",
        "set PRODUCTS;\n",
        "set RESOURCES;"
      ]
    },
    {
      "cell_type": "markdown",
      "metadata": {
        "id": "Bo6264AJctdH"
      },
      "source": [
        "The next step is to introduce parameters that will be used as data in the objective function and the constraints.\n",
        "\n",
        "A statement that defines and AMPL parameter begin with the `param` keyword and a unique name. Then between braces `{` and `}` it specifies the index sets for the parameter. For example:\n",
        "\n",
        "- `param demand {PRODUCTS};` states that there is a demand value for each member of the set PRODUCTS.\n",
        "\n",
        "- `param need {RESOURCES,PRODUCTS};` states that there is a need value for each combination of a resource and a product.\n",
        "\n",
        "At the end of each `param` statement, we specify that the values for the parameter must be `> 0` or `>= 0`, as appropriate. These specifications will be used to later to check that the actually data values are appropriate for the problem."
      ]
    },
    {
      "cell_type": "code",
      "execution_count": 29,
      "metadata": {
        "id": "2JrQACvVctdH"
      },
      "outputs": [],
      "source": [
        "%%ampl_eval\n",
        "\n",
        "param demand {PRODUCTS} >= 0;\n",
        "param price {PRODUCTS} > 0;\n",
        "\n",
        "param available {RESOURCES} >= 0;\n",
        "param cost {RESOURCES} > 0;\n",
        "\n",
        "param need {RESOURCES,PRODUCTS} >= 0;"
      ]
    },
    {
      "cell_type": "markdown",
      "metadata": {
        "id": "BWJ_ElJFctdH"
      },
      "source": [
        "The decision variables, $x$ and $y$, are indexed by the set of resources and products, respectively. The indexing is specified by passing the relevant sets as the first argumentns to Pyomo `Var()`. In addition to indexing, it always good practice to specify any known and fixed bounds on the variables. This is done by specifying a function (in Pyomo parlance sometimes called a rule) that returns the bound for a given index. Here we use a Python lambda function with two arguments, model and an index referring to a member of a set, to return a tuple with the lower and upper bound."
      ]
    },
    {
      "cell_type": "code",
      "execution_count": 21,
      "metadata": {
        "id": "Ee1AbvSBctdH"
      },
      "outputs": [],
      "source": [
        "%%ampl_eval\n",
        "\n",
        "var x{r in RESOURCES} >= 0, <= available[r];\n",
        "var y{p in PRODUCTS} >= 0, <= demand[p];\n",
        "\n",
        "#model.x = pyo.Var(model.RESOURCES, bounds=lambda model, resource: (0,  model.available[resource]))\n",
        "#model.y = pyo.Var(model.PRODUCTS, bounds=lambda model, product: (0, model.demand[product]))"
      ]
    },
    {
      "cell_type": "markdown",
      "metadata": {
        "id": "B5oNLBh5ctdH"
      },
      "source": [
        "The objective is expressed with Pyomo `quicksum` which accepts a Python generator to successive terms in the sum. Here we use the parameters $c_p$ and $c_r$ that appear in the mathematical version of the model, and which were declared above in the Pyomo version of the model."
      ]
    },
    {
      "cell_type": "code",
      "execution_count": null,
      "metadata": {
        "id": "jYyLpse3ctdI"
      },
      "outputs": [],
      "source": [
        "%%ampl_eval\n",
        "\n",
        "var revenue = sum{p in PRODUCTS} cp[p] * y[p];\n",
        "var cost = sum{r in RESOURCES} cr[r] * x[r];\n",
        "\n",
        "# create objective\n",
        "maximize profit: revenue - cost;\n",
        "\n",
        "#model.revenue = pyo.quicksum(model.cp[product] * model.y[product] for product in model.PRODUCTS)\n",
        "#model.cost = pyo.quicksum(model.cr[resource] * model.x[resource] for resource in model.RESOURCES)\n",
        "#\n",
        "## create objective\n",
        "#@model.Objective(sense=pyo.maximize)\n",
        "#def profit(model):\n",
        "#    return model.revenue - model.cost"
      ]
    },
    {
      "cell_type": "markdown",
      "metadata": {
        "id": "QOD6rVX_ctdI"
      },
      "source": [
        "The Pyomo `Constraint` decorator accepts one or more sets as arguments. Then, for every member of every set, the decorated function creates an associated constraint. Creating indexed constraints indexed in this manner are an essential building block for more complex models."
      ]
    },
    {
      "cell_type": "code",
      "execution_count": null,
      "metadata": {
        "id": "svwpLdJHctdI"
      },
      "outputs": [],
      "source": [
        "%%ampl_eval\n",
        "\n",
        "# create indexed constraint\n",
        "s.t. materials_used {r in RESOURCES}:\n",
        "    sum{p in PRODUCTS} a[r, p] * y[p] <= x[r];\n",
        "\n",
        "## create indexed constraint\n",
        "#@model.Constraint(model.RESOURCES)\n",
        "#def materials_used(model, resource):\n",
        "#    return pyo.quicksum(model.a[resource, product] * model.y[product] for product in model.PRODUCTS) <= model.x[resource]"
      ]
    },
    {
      "cell_type": "markdown",
      "metadata": {
        "id": "74WdA_kSctdI"
      },
      "source": [
        "The final step is to solve the model and report the solution. Here we create a simple report using `pyo.value()` to access values of the decision variables, and using the model sets to construct iterators to report the value of indexed variables."
      ]
    },
    {
      "cell_type": "code",
      "execution_count": null,
      "metadata": {
        "id": "SvByD4BOctdJ",
        "outputId": "4be94a75-ee20-4dd5-a9c9-13e6d0c803e0"
      },
      "outputs": [
        {
          "name": "stdout",
          "output_type": "stream",
          "text": [
            "HiGHS 1.5.1: \b\b\b\b\b\b\b\b\b\b\b\b\bHiGHS 1.5.1: optimal solution; objective 2400\n",
            "3 simplex iterations\n",
            "0 barrier iterations\n",
            "Profit = 2400.0\n",
            "\n",
            "Production Report\n",
            " U  produced =  20.0\n",
            " V  produced =  60.0\n",
            "\n",
            "Resource Report\n",
            " M consumed = 740.0\n",
            " labor A consumed = 100.0\n",
            " labor B consumed = 80.0\n"
          ]
        }
      ],
      "source": [
        "# load set data\n",
        "ampl.set[\"PRODUCTS\"] = list(products.keys())\n",
        "ampl.set[\"RESOURCES\"] = list(resources.keys())\n",
        "\n",
        "# extract data from nested dictionaries\n",
        "cp = {k : v[\"price\"] for k, v in products.items()}\n",
        "demand = {k : v[\"demand\"] for k, v in products.items()}\n",
        "\n",
        "cr = {k : v[\"price\"] for k, v in resources.items()}\n",
        "available = {k : v[\"available\"] for k, v in resources.items()}\n",
        "\n",
        "a = {(k2, k) : v2 for k, v in processes.items() for k2, v2 in v.items()}\n",
        "\n",
        "# None is interpreted as an infinite value\n",
        "INF = float(\"inf\")\n",
        "\n",
        "for k, v in demand.items():\n",
        "    if not v:\n",
        "        demand[k] = INF\n",
        "\n",
        "for k, v in available.items():\n",
        "    if not v:\n",
        "        available[k] = INF\n",
        "\n",
        "# load data for parameters\n",
        "ampl.param[\"cp\"] = cp\n",
        "ampl.param[\"demand\"] = demand\n",
        "ampl.param[\"cr\"] = cr\n",
        "ampl.param[\"available\"] = available\n",
        "ampl.param[\"a\"] = a\n",
        "\n",
        "# set solver and solve\n",
        "ampl.option[\"solver\"] = SOLVER\n",
        "ampl.solve()\n",
        "\n",
        "# create a solution report\n",
        "print(f\"Profit = {ampl.obj['profit'].value()}\")\n",
        "\n",
        "print(\"\\nProduction Report\")\n",
        "y = ampl.var[\"y\"].get_values()\n",
        "\n",
        "for product in y:\n",
        "    print(f\" {product[0]}  produced =  {product[1]}\")\n",
        "\n",
        "print(\"\\nResource Report\")\n",
        "x = ampl.var[\"x\"].get_values()\n",
        "\n",
        "for resource in x:\n",
        "    print(f\" {resource[0]} consumed = {resource[1]}\")"
      ]
    },
    {
      "cell_type": "markdown",
      "metadata": {
        "id": "TniGUMcLctdJ"
      },
      "source": [
        "## For Python experts: Creating subclasses of `AMPL`\n",
        "\n",
        "Some readers of these notebooks may be more experienced Python developers who wish to apply Pyomo in more specialized, data driven applications. The following cell shows how the Pyomo `ConcreteModel()` class can be extended by subclassing to create specialized model classes. Here we create a subclass called `ProductionModel` that accepts a particular representation of the problem data to produce a production model object. The production model object inherits all of the methods associated with any `ConcreteModel`, such as `.display()`, `.solve()`, and `.pprint()`, but can be extended with additional methods."
      ]
    },
    {
      "cell_type": "code",
      "execution_count": null,
      "metadata": {
        "id": "UwwMXq9tctdJ",
        "outputId": "8ea2a5c6-d955-4d06-e713-a8569dd026fe"
      },
      "outputs": [
        {
          "name": "stdout",
          "output_type": "stream",
          "text": [
            "Overwriting production_planning.mod\n"
          ]
        }
      ],
      "source": [
        "%%writefile production_planning.mod\n",
        "\n",
        "# sets\n",
        "set PRODUCTS;\n",
        "set RESOURCES;\n",
        "\n",
        "# parameters\n",
        "param demand{PRODUCTS};\n",
        "param cp{PRODUCTS};\n",
        "param available{RESOURCES};\n",
        "param cr{RESOURCES};\n",
        "param a{RESOURCES, PRODUCTS};\n",
        "\n",
        "# variables\n",
        "var x{r in RESOURCES} >= 0, <= available[r];\n",
        "var y{p in PRODUCTS} >= 0, <= demand[p];\n",
        "\n",
        "# auxiliary variables\n",
        "var revenue = sum{p in PRODUCTS} cp[p] * y[p];\n",
        "var cost = sum{r in RESOURCES} cr[r] * x[r];\n",
        "\n",
        "# objective\n",
        "maximize profit: revenue - cost;\n",
        "\n",
        "# constraints\n",
        "s.t. materials_used {r in RESOURCES}:\n",
        "    sum{p in PRODUCTS} a[r, p] * y[p] <= x[r];"
      ]
    },
    {
      "cell_type": "code",
      "execution_count": null,
      "metadata": {
        "id": "69sZb_YcctdK",
        "outputId": "20fe216f-8ad8-4d96-f179-0e643b7b7f53"
      },
      "outputs": [
        {
          "data": {
            "text/html": [
              "<div>\n",
              "<style scoped>\n",
              "    .dataframe tbody tr th:only-of-type {\n",
              "        vertical-align: middle;\n",
              "    }\n",
              "\n",
              "    .dataframe tbody tr th {\n",
              "        vertical-align: top;\n",
              "    }\n",
              "\n",
              "    .dataframe thead th {\n",
              "        text-align: right;\n",
              "    }\n",
              "</style>\n",
              "<table border=\"1\" class=\"dataframe\">\n",
              "  <thead>\n",
              "    <tr style=\"text-align: right;\">\n",
              "      <th></th>\n",
              "      <th>cp</th>\n",
              "      <th>demand</th>\n",
              "    </tr>\n",
              "    <tr>\n",
              "      <th>PRODUCTS</th>\n",
              "      <th></th>\n",
              "      <th></th>\n",
              "    </tr>\n",
              "  </thead>\n",
              "  <tbody>\n",
              "    <tr>\n",
              "      <th>U</th>\n",
              "      <td>270.0</td>\n",
              "      <td>40.0</td>\n",
              "    </tr>\n",
              "    <tr>\n",
              "      <th>V</th>\n",
              "      <td>210.0</td>\n",
              "      <td>inf</td>\n",
              "    </tr>\n",
              "  </tbody>\n",
              "</table>\n",
              "</div>"
            ],
            "text/plain": [
              "             cp  demand\n",
              "PRODUCTS               \n",
              "U         270.0    40.0\n",
              "V         210.0     inf"
            ]
          },
          "metadata": {},
          "output_type": "display_data"
        },
        {
          "data": {
            "text/html": [
              "<div>\n",
              "<style scoped>\n",
              "    .dataframe tbody tr th:only-of-type {\n",
              "        vertical-align: middle;\n",
              "    }\n",
              "\n",
              "    .dataframe tbody tr th {\n",
              "        vertical-align: top;\n",
              "    }\n",
              "\n",
              "    .dataframe thead th {\n",
              "        text-align: right;\n",
              "    }\n",
              "</style>\n",
              "<table border=\"1\" class=\"dataframe\">\n",
              "  <thead>\n",
              "    <tr style=\"text-align: right;\">\n",
              "      <th></th>\n",
              "      <th>cr</th>\n",
              "      <th>available</th>\n",
              "    </tr>\n",
              "    <tr>\n",
              "      <th>RESOURCES</th>\n",
              "      <th></th>\n",
              "      <th></th>\n",
              "    </tr>\n",
              "  </thead>\n",
              "  <tbody>\n",
              "    <tr>\n",
              "      <th>M</th>\n",
              "      <td>10.0</td>\n",
              "      <td>inf</td>\n",
              "    </tr>\n",
              "    <tr>\n",
              "      <th>labor A</th>\n",
              "      <td>50.0</td>\n",
              "      <td>100.0</td>\n",
              "    </tr>\n",
              "    <tr>\n",
              "      <th>labor B</th>\n",
              "      <td>40.0</td>\n",
              "      <td>80.0</td>\n",
              "    </tr>\n",
              "  </tbody>\n",
              "</table>\n",
              "</div>"
            ],
            "text/plain": [
              "             cr  available\n",
              "RESOURCES                 \n",
              "M          10.0        inf\n",
              "labor A    50.0      100.0\n",
              "labor B    40.0       80.0"
            ]
          },
          "metadata": {},
          "output_type": "display_data"
        },
        {
          "data": {
            "text/html": [
              "<div>\n",
              "<style scoped>\n",
              "    .dataframe tbody tr th:only-of-type {\n",
              "        vertical-align: middle;\n",
              "    }\n",
              "\n",
              "    .dataframe tbody tr th {\n",
              "        vertical-align: top;\n",
              "    }\n",
              "\n",
              "    .dataframe thead th {\n",
              "        text-align: right;\n",
              "    }\n",
              "</style>\n",
              "<table border=\"1\" class=\"dataframe\">\n",
              "  <thead>\n",
              "    <tr style=\"text-align: right;\">\n",
              "      <th></th>\n",
              "      <th>M</th>\n",
              "      <th>labor A</th>\n",
              "      <th>labor B</th>\n",
              "    </tr>\n",
              "  </thead>\n",
              "  <tbody>\n",
              "    <tr>\n",
              "      <th>U</th>\n",
              "      <td>10</td>\n",
              "      <td>2</td>\n",
              "      <td>1</td>\n",
              "    </tr>\n",
              "    <tr>\n",
              "      <th>V</th>\n",
              "      <td>9</td>\n",
              "      <td>1</td>\n",
              "      <td>1</td>\n",
              "    </tr>\n",
              "  </tbody>\n",
              "</table>\n",
              "</div>"
            ],
            "text/plain": [
              "    M  labor A  labor B\n",
              "U  10        2        1\n",
              "V   9        1        1"
            ]
          },
          "metadata": {},
          "output_type": "display_data"
        },
        {
          "name": "stdout",
          "output_type": "stream",
          "text": [
            "HiGHS 1.5.1: \b\b\b\b\b\b\b\b\b\b\b\b\bHiGHS 1.5.1: optimal solution; objective 2400\n",
            "3 simplex iterations\n",
            "0 barrier iterations\n",
            "Profit = 2400.0\n",
            "\n",
            "Production Report\n"
          ]
        },
        {
          "data": {
            "text/html": [
              "<div>\n",
              "<style scoped>\n",
              "    .dataframe tbody tr th:only-of-type {\n",
              "        vertical-align: middle;\n",
              "    }\n",
              "\n",
              "    .dataframe tbody tr th {\n",
              "        vertical-align: top;\n",
              "    }\n",
              "\n",
              "    .dataframe thead th {\n",
              "        text-align: right;\n",
              "    }\n",
              "</style>\n",
              "<table border=\"1\" class=\"dataframe\">\n",
              "  <thead>\n",
              "    <tr style=\"text-align: right;\">\n",
              "      <th></th>\n",
              "      <th>produced</th>\n",
              "    </tr>\n",
              "    <tr>\n",
              "      <th>PRODUCTS</th>\n",
              "      <th></th>\n",
              "    </tr>\n",
              "  </thead>\n",
              "  <tbody>\n",
              "    <tr>\n",
              "      <th>U</th>\n",
              "      <td>20.0</td>\n",
              "    </tr>\n",
              "    <tr>\n",
              "      <th>V</th>\n",
              "      <td>60.0</td>\n",
              "    </tr>\n",
              "  </tbody>\n",
              "</table>\n",
              "</div>"
            ],
            "text/plain": [
              "          produced\n",
              "PRODUCTS          \n",
              "U             20.0\n",
              "V             60.0"
            ]
          },
          "metadata": {},
          "output_type": "display_data"
        },
        {
          "name": "stdout",
          "output_type": "stream",
          "text": [
            "\n",
            "Resource Report\n"
          ]
        },
        {
          "data": {
            "text/html": [
              "<div>\n",
              "<style scoped>\n",
              "    .dataframe tbody tr th:only-of-type {\n",
              "        vertical-align: middle;\n",
              "    }\n",
              "\n",
              "    .dataframe tbody tr th {\n",
              "        vertical-align: top;\n",
              "    }\n",
              "\n",
              "    .dataframe thead th {\n",
              "        text-align: right;\n",
              "    }\n",
              "</style>\n",
              "<table border=\"1\" class=\"dataframe\">\n",
              "  <thead>\n",
              "    <tr style=\"text-align: right;\">\n",
              "      <th></th>\n",
              "      <th>consumed</th>\n",
              "    </tr>\n",
              "    <tr>\n",
              "      <th>RESOURCES</th>\n",
              "      <th></th>\n",
              "    </tr>\n",
              "  </thead>\n",
              "  <tbody>\n",
              "    <tr>\n",
              "      <th>M</th>\n",
              "      <td>740.0</td>\n",
              "    </tr>\n",
              "    <tr>\n",
              "      <th>labor A</th>\n",
              "      <td>100.0</td>\n",
              "    </tr>\n",
              "    <tr>\n",
              "      <th>labor B</th>\n",
              "      <td>80.0</td>\n",
              "    </tr>\n",
              "  </tbody>\n",
              "</table>\n",
              "</div>"
            ],
            "text/plain": [
              "           consumed\n",
              "RESOURCES          \n",
              "M             740.0\n",
              "labor A       100.0\n",
              "labor B        80.0"
            ]
          },
          "metadata": {},
          "output_type": "display_data"
        }
      ],
      "source": [
        "import pandas as pd\n",
        "\n",
        "class ProductionModel(AMPL):\n",
        "    \"\"\"\n",
        "    A class representing a production model using AMPL.\n",
        "    \"\"\"\n",
        "\n",
        "    def __init__(self, products, resources, processes):\n",
        "        \"\"\"\n",
        "        Initialize ProductionModel as an AMPL instance.\n",
        "\n",
        "        :param products: A dictionary containing product information.\n",
        "        :param resources: A dictionary containing resource information.\n",
        "        :param processes: A dictionary containing process information.\n",
        "        \"\"\"\n",
        "        super(ProductionModel, self).__init__()\n",
        "\n",
        "        # save data in the model instance\n",
        "        self.products = products\n",
        "        self.resources = resources\n",
        "        self.processes = processes\n",
        "\n",
        "        # flag to monitor solution status\n",
        "        self.solved = False\n",
        "\n",
        "    def load_data(self):\n",
        "        \"\"\"\n",
        "        Prepare the data and pass the information to AMPL.\n",
        "        \"\"\"\n",
        "        # convert the data dictionaries into pandas data frames\n",
        "        products = pd.DataFrame(self.products).T\n",
        "        products.rename(columns={'price':'cp'}, inplace=True)\n",
        "        products.fillna(INF, inplace=True)\n",
        "        products.index.rename(\"PRODUCTS\", inplace=True)\n",
        "\n",
        "        resources = pd.DataFrame(self.resources).T\n",
        "        resources.rename(columns={'price':'cr'}, inplace=True)\n",
        "        resources.fillna(INF, inplace=True)\n",
        "        resources.index.rename(\"RESOURCES\", inplace=True)\n",
        "\n",
        "        processes = pd.DataFrame(self.processes).T\n",
        "\n",
        "        # display the generated data frames\n",
        "        display(products)\n",
        "        display(resources)\n",
        "        display(processes)\n",
        "\n",
        "        # pass data to AMPL\n",
        "        self.set_data(products, \"PRODUCTS\")\n",
        "        self.set_data(resources, \"RESOURCES\")\n",
        "        self.get_parameter(\"a\").set_values(processes.unstack())\n",
        "\n",
        "    def solve(self, solver=SOLVER):\n",
        "        \"\"\"\n",
        "        Read the model, load the data, set the solver and solve the optimization problem.\n",
        "        \"\"\"\n",
        "        self.read(\"production_planning.mod\")\n",
        "        self.load_data()\n",
        "        self.option[\"solver\"] = solver\n",
        "        super(ProductionModel, self).solve()\n",
        "        self.solved = True\n",
        "\n",
        "    def report(self):\n",
        "        \"\"\"\n",
        "        Solve, if necessary, then report the model solution.\n",
        "        \"\"\"\n",
        "        if not self.solved:\n",
        "            self.solve()\n",
        "\n",
        "        print(f\"Profit = {self.obj['profit'].value()}\")\n",
        "\n",
        "        print(\"\\nProduction Report\")\n",
        "        y = self.var[\"y\"].get_values().to_pandas()\n",
        "        y.rename(columns={y.columns[0]: \"produced\"}, inplace=True)\n",
        "        y.index.rename(\"PRODUCTS\", inplace=True)\n",
        "        display(y)\n",
        "\n",
        "        print(\"\\nResource Report\")\n",
        "        x = self.var[\"x\"].get_values().to_pandas()\n",
        "        x.rename(columns={x.columns[0]: \"consumed\"}, inplace=True)\n",
        "        x.index.rename(\"RESOURCES\", inplace=True)\n",
        "        display(x)\n",
        "\n",
        "\n",
        "m = ProductionModel(products, resources, processes)\n",
        "m.report()\n"
      ]
    }
  ],
  "metadata": {
    "colab": {
      "provenance": [],
      "include_colab_link": true
    },
    "kernelspec": {
      "display_name": "Python 3 (ipykernel)",
      "language": "python",
      "name": "python3"
    },
    "language_info": {
      "codemirror_mode": {
        "name": "ipython",
        "version": 3
      },
      "file_extension": ".py",
      "mimetype": "text/x-python",
      "name": "python",
      "nbconvert_exporter": "python",
      "pygments_lexer": "ipython3",
      "version": "3.10.6"
    },
    "latex_envs": {
      "LaTeX_envs_menu_present": true,
      "autoclose": false,
      "autocomplete": true,
      "bibliofile": "biblio.bib",
      "cite_by": "apalike",
      "current_citInitial": 1,
      "eqLabelWithNumbers": true,
      "eqNumInitial": 1,
      "hotkeys": {
        "equation": "Ctrl-E",
        "itemize": "Ctrl-I"
      },
      "labels_anchors": false,
      "latex_user_defs": false,
      "report_style_numbering": false,
      "user_envs_cfg": false
    }
  },
  "nbformat": 4,
  "nbformat_minor": 0
}