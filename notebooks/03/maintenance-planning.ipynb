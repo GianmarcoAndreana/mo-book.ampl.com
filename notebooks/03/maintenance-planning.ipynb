{
 "cells": [
  {
   "cell_type": "markdown",
   "metadata": {
    "colab_type": "text",
    "id": "9O_tHTY_PL_s"
   },
   "source": [
    "```{index} disjunctive programming\n",
    "```\n",
    "```{index} single: solver; cbc\n",
    "```\n",
    "```{index} single: application; maintenance planning\n",
    "```\n",
    "\n",
    "# Extra material: Maintenance planning"
   ]
  },
  {
   "cell_type": "markdown",
   "metadata": {
    "colab_type": "text",
    "id": "Y_yzzUJQDJtr"
   },
   "source": [
    "## Problem statement\n",
    "\n",
    "\n",
    "A process unit is operating over a maintenance planning horizon from $1$ to $T$ days.  On day $t$ the unit makes a profit $c[t]$ which is known in advance. The unit needs to shut down for $P$ maintenance periods during the planning period.  Once started, a maintenance period takes $M$ days to finish.\n",
    "\n",
    "Find a maintenance schedule that allows the maximum profit to be produced."
   ]
  },
  {
   "cell_type": "markdown",
   "metadata": {},
   "source": [
    "## Imports"
   ]
  },
  {
   "cell_type": "code",
   "execution_count": null,
   "metadata": {},
   "outputs": [],
   "source": [
    "# install dependencies and select solver\n",
    "!pip install -q amplpy matplotlib\n",
    "\n",
    "SOLVER = \"cbc\"\n",
    "\n",
    "from amplpy import AMPL, tools\n",
    "\n",
    "ampl = tools.ampl_notebook(\n",
    "    modules=[\"cbc\"], # modules to install\n",
    "    license_uuid=\"default\" # license to use\n",
    ")"
   ]
  },
  {
   "cell_type": "code",
   "execution_count": 2,
   "metadata": {},
   "outputs": [],
   "source": [
    "import matplotlib.pyplot as plt\n",
    "import numpy as np\n",
    "import pandas as pd"
   ]
  },
  {
   "cell_type": "markdown",
   "metadata": {
    "colab_type": "text",
    "id": "RrSgeD0ewWpE"
   },
   "source": [
    "## Modeling with disjunctive constraints\n",
    "\n",
    "The model is comprised of two sets of the binary variables indexed 1 to $T$. Binary variables $x_t$ correspond to the operating mode of the process unit, with $x_t=1$ indicating the unit is operating on day $t$ and able to earn a profit $c_t$. Binary variable $y_t=1$ indicates the first day of a maintenance period during which the unit is not operating and earning $0$ profit."
   ]
  },
  {
   "cell_type": "markdown",
   "metadata": {
    "colab_type": "text",
    "id": "RrSgeD0ewWpE"
   },
   "source": [
    "### Objective\n",
    "\n",
    "The planning objective is to maximize profit realized during the days the plant is operational. \n",
    "\n",
    "$$\n",
    "\\begin{align*}\n",
    "\\mbox{Profit} & = \\max_{x, y} \\sum_{t=1}^T c_t x_t\n",
    "\\end{align*}\n",
    "$$\n",
    "\n",
    "subject to completing $P$ maintenance periods.  "
   ]
  },
  {
   "cell_type": "markdown",
   "metadata": {
    "colab_type": "text",
    "id": "RrSgeD0ewWpE"
   },
   "source": [
    "### Constraints\n",
    "\n",
    "**Number of maintenance periods is equal to P.**\n",
    "\n",
    "Completing $P$ maintenance periods requires a total of $P$ starts.\n",
    "\n",
    "$$\n",
    "\\begin{align*}\n",
    "\\sum_{t=1}^T y_t &  = P \\\\\n",
    "\\end{align*}\n",
    "$$\n",
    "\n",
    "**Maintenance periods do not overlap.**\n",
    "\n",
    "No more than one maintenance period can start in any consecutive set of M days.\n",
    "\n",
    "$$\n",
    "\\begin{align*}\n",
    "\\sum_{s=0}^{M-1}y_{t+s} & \\leq 1 \\qquad \\forall t = 1, 2, \\ldots, T-M+1\n",
    "\\end{align*}\n",
    "$$\n",
    "\n",
    "This last requirement could be modified if some period of time should occur between maintenance periods.\n",
    "\n",
    "**The unit must shut down for M days following a maintenance start.**\n",
    "\n",
    "The final requirement is a disjunctive constraint that says either $y_t = 0$ or the sum $\\sum_{s}^{M-1}x_{t+s} = 0$, but not both. Mathematically, this forms a set of constraints reading\n",
    "\n",
    "$$\n",
    "\\begin{align*}\n",
    "\\left(y_t = 0\\right) \\veebar \\left(\\sum_{s=0}^{M-1}x_{t+s} = 0\\right)\\qquad \\forall t = 1, 2, \\ldots, T-M+1\n",
    "\\end{align*}\n",
    "$$\n",
    "\n",
    "where $\\veebar$ denotes an exclusive or condition."
   ]
  },
  {
   "cell_type": "markdown",
   "metadata": {},
   "source": [
    "## AMPL solution"
   ]
  },
  {
   "cell_type": "markdown",
   "metadata": {
    "colab_type": "text",
    "id": "Bae6-dR_lYkm"
   },
   "source": [
    "### Parameter values"
   ]
  },
  {
   "cell_type": "code",
   "execution_count": 3,
   "metadata": {
    "colab": {},
    "colab_type": "code",
    "id": "L5TaVPbkEPZ0"
   },
   "outputs": [],
   "source": [
    "# problem parameters\n",
    "T = 90        # planning period from 1..T\n",
    "M = 3         # length of maintenance period\n",
    "P = 4         # number of maintenance periods\n",
    "\n",
    "# daily profits\n",
    "np.random.seed(0)\n",
    "c = {k: np.random.uniform() for k in range(1, T+1)}"
   ]
  },
  {
   "cell_type": "markdown",
   "metadata": {
    "colab_type": "text",
    "id": "e28FWA1GlNyQ"
   },
   "source": [
    "### AMPL model\n",
    "\n",
    "The disjunctive constraints can be represented directly in AMPL using [Logic, Nonlinear & Constraint Programming Extensions](https://ampl.com/products/ampl/logic-and-constraint-programming-extensions/). The extension transforms the disjunctive constraints to a mixed integer linear optimization (MILO) problem using convex hull and cutting plane methods."
   ]
  },
  {
   "cell_type": "code",
   "execution_count": 4,
   "metadata": {},
   "outputs": [
    {
     "name": "stdout",
     "output_type": "stream",
     "text": [
      "Writing maintenance_planning.mod\n"
     ]
    }
   ],
   "source": [
    "%%writefile maintenance_planning.mod\n",
    "\n",
    "param T; # number of planning periods\n",
    "param P; # number of maintenance periods\n",
    "param M; # number of days for each maintenance period\n",
    "\n",
    "set PH := 1..T; # set of planning horizon time periods\n",
    "\n",
    "set Y := 1..(T - M + 1);\n",
    "set S := 0..(M - 1);\n",
    "\n",
    "param c{PH}; # profit\n",
    "\n",
    "var x{PH} binary;\n",
    "var y{PH} binary;\n",
    "\n",
    "maximize profit: sum{t in PH} c[t] * x[t];\n",
    "\n",
    "s.t. required_maintenance: P == sum{t in Y} y[t];\n",
    "s.t. no_overlap {t in Y}: sum{s in S} y[t + s] <= 1;\n",
    "s.t. required_shutdown {t in Y}:\n",
    "    (y[t] == 0 or sum{s in S} x[t + s] == 0)\n",
    "    and not\n",
    "    (y[t] == 0 and sum{s in S} x[t + s] == 0);"
   ]
  },
  {
   "cell_type": "code",
   "execution_count": 5,
   "metadata": {
    "colab": {
     "base_uri": "https://localhost:8080/",
     "height": 1014
    },
    "colab_type": "code",
    "executionInfo": {
     "elapsed": 1543,
     "status": "ok",
     "timestamp": 1557947668999,
     "user": {
      "displayName": "Jeffrey Kantor",
      "photoUrl": "https://lh5.googleusercontent.com/-8zK5aAW5RMQ/AAAAAAAAAAI/AAAAAAAAKB0/kssUQyz8DTQ/s64/photo.jpg",
      "userId": "09038942003589296665"
     },
     "user_tz": 240
    },
    "id": "cUARDFzP9fla",
    "outputId": "ba0f2867-3a14-4314-c09f-bb4a76ebd1a7",
    "scrolled": false
   },
   "outputs": [
    {
     "name": "stdout",
     "output_type": "stream",
     "text": [
      "cbc 2.10.7: \b\b\b\b\b\b\b\b\b\b\b\bcbc 2.10.7: optimal solution; objective 41.92584964\n",
      "21 simplex iterations\n",
      "21 barrier iterations\n"
     ]
    },
    {
     "data": {
      "image/png": "[encoded data removed]",
      "text/plain": [
       "<Figure size 900x400 with 3 Axes>"
      ]
     },
     "metadata": {},
     "output_type": "display_data"
    }
   ],
   "source": [
    "class MP(object):\n",
    "\n",
    "    def __init__(self, c, M, P):\n",
    "        \n",
    "        self.T = len(c)\n",
    "        self.M = M\n",
    "        self.P = P\n",
    "        self.c = c\n",
    "        \n",
    "        self.modfile = 'maintenance_planning.mod'\n",
    "        \n",
    "        self.ampl = AMPL()\n",
    "        self.ampl.option['solver'] = SOLVER\n",
    "        self.solved = False\n",
    "\n",
    "\n",
    "    def load_data(self):\n",
    "\n",
    "        self.ampl.param['T'] = self.T\n",
    "        self.ampl.param['P'] = self.P\n",
    "        self.ampl.param['M'] = self.M\n",
    "        self.ampl.param['c'] = self.c\n",
    "\n",
    "        \n",
    "    def set_solver(self, solver):\n",
    "        self.ampl.option['solver'] = solver\n",
    "\n",
    "        \n",
    "    def set_modfile(self, modfile):\n",
    "        self.modfile = modfile\n",
    "\n",
    "        \n",
    "    def solve(self):\n",
    "\n",
    "        self.ampl.read(self.modfile)\n",
    "        self.load_data()\n",
    "        self.ampl.solve()\n",
    "        self.solved = True\n",
    "\n",
    "        \n",
    "    def plot_schedule(self):\n",
    "        \n",
    "        if not self.solved:\n",
    "            self.solve()\n",
    "            \n",
    "        T = self.T\n",
    "        M = self.M\n",
    "        P = self.P\n",
    "        PH = list(range(1, T + 1))\n",
    "        Y = list(range(1, T - M + 2))\n",
    "        S = list(range(M))\n",
    "\n",
    "        fig,ax = plt.subplots(3, 1, figsize=(9,4))\n",
    "    \n",
    "        ax[0].bar(PH, [self.c[t] for t in PH])\n",
    "        ax[0].set_title('daily profit $c_t$')\n",
    "\n",
    "        x = self.ampl.var['x'].get_values().to_dict()\n",
    "        \n",
    "        ax[1].bar(PH, [x[t] for t in PH], label='normal operation')\n",
    "        ax[1].set_title('unit operating schedule $x_t$')\n",
    "\n",
    "        y = self.ampl.var['y'].get_values().to_dict()\n",
    "        \n",
    "        ax[2].bar(Y, [y[t] for t in Y])\n",
    "        ax[2].set_title(str(P) + ' maintenance starts $y_t$')\n",
    "        for a in ax:\n",
    "            a.set_xlim(0.1, T+0.9)\n",
    "        \n",
    "        plt.tight_layout()\n",
    "        \n",
    "\n",
    "model = MP(c, M, P)\n",
    "model.plot_schedule()"
   ]
  },
  {
   "cell_type": "markdown",
   "metadata": {
    "colab_type": "text",
    "id": "gcy3yD4J_6OC"
   },
   "source": [
    "## Ramping constraints\n",
    "\n",
    "Prior to maintenance shutdown, a large processing unit may take some time to safely ramp down from full production. And then require more time to safely ramp back up to full production following maintenance. To provide for ramp-down and ramp-up periods, we modify the problem formation in the following ways.\n",
    "\n",
    "* The variable denoting unit operation, $x_t$ is changed from a binary variable to a continuous variable $0 \\leq x_t \\leq 1$ denoting the fraction of total capacity at which the unit is operating on day $t$.\n",
    "\n",
    "* Two new variable sequences, $0 \\leq u_t^+ \\leq u_t^{+,\\max}$ and $0\\leq u_t^- \\leq u_t^{-,\\max}$, are introduced which denote the fraction increase or decrease in unit capacity to completed on day $t$.\n",
    "\n",
    "* An additional sequence of equality constraints is introduced relating $x_t$ to $u_t^+$ and $u_t^-$.\n",
    "\n",
    "$$\n",
    "\\begin{align*}\n",
    "x_{t} & = x_{t-1} + u^+_t - u^-_t\n",
    "\\end{align*}\n",
    "$$\n",
    "\n",
    "We begin the AMPL model by specifying the constraints, then modifying the Big-M formulation to add the features described above."
   ]
  },
  {
   "cell_type": "code",
   "execution_count": 6,
   "metadata": {
    "colab": {},
    "colab_type": "code",
    "id": "9fRtZc5nCInh"
   },
   "outputs": [
    {
     "name": "stdout",
     "output_type": "stream",
     "text": [
      "Writing maintenance_planning_ramp.mod\n"
     ]
    }
   ],
   "source": [
    "%%writefile maintenance_planning_ramp.mod\n",
    "\n",
    "param T; # number of planning periods\n",
    "param P; # number of maintenance periods\n",
    "param M; # number of days for each maintenance period\n",
    "\n",
    "param upos_max;\n",
    "param uneg_max;\n",
    "\n",
    "set PH := 1..T; # set of planning horizon time periods\n",
    "\n",
    "set Y := 1..(T - M + 1);\n",
    "set S := 0..(M - 1);\n",
    "\n",
    "param c{PH}; # profit\n",
    "\n",
    "var x{PH} >= 0, <= 1;\n",
    "var y{PH} binary;\n",
    "var upos{PH} >= 0, <= upos_max;\n",
    "var uneg{PH} >= 0, <= uneg_max;\n",
    "\n",
    "maximize profit: sum{t in PH} c[t] * x[t];\n",
    "\n",
    "s.t. required_maintenance: P == sum{t in Y} y[t];\n",
    "s.t. no_overlap {t in Y}: sum{s in S} y[t + s] <= 1;\n",
    "s.t. required_shutdown {t in Y}:\n",
    "    y[t] == 1 ==> sum{s in S} x[t + s] == 0;\n",
    "s.t. ramp {t in PH: t != 1}:\n",
    "    x[t] == x[t-1] + upos[t] - uneg[t];"
   ]
  },
  {
   "cell_type": "code",
   "execution_count": 7,
   "metadata": {
    "colab": {
     "base_uri": "https://localhost:8080/",
     "height": 297
    },
    "colab_type": "code",
    "executionInfo": {
     "elapsed": 3307,
     "status": "ok",
     "timestamp": 1557947674808,
     "user": {
      "displayName": "Jeffrey Kantor",
      "photoUrl": "https://lh5.googleusercontent.com/-8zK5aAW5RMQ/AAAAAAAAAAI/AAAAAAAAKB0/kssUQyz8DTQ/s64/photo.jpg",
      "userId": "09038942003589296665"
     },
     "user_tz": 240
    },
    "id": "ESHZWcEaA9gP",
    "outputId": "030e96a8-1ae1-47f5-f4c6-d83378818838"
   },
   "outputs": [
    {
     "name": "stdout",
     "output_type": "stream",
     "text": [
      "cbc 2.10.7: \b\b\b\b\b\b\b\b\b\b\b\bcbc 2.10.7: optimal solution; objective 39.53508979\n",
      "4839 simplex iterations\n",
      "4839 barrier iterations\n",
      "12 branching nodes\n"
     ]
    },
    {
     "data": {
      "image/png": "[encoded data removed]",
      "text/plain": [
       "<Figure size 900x400 with 3 Axes>"
      ]
     },
     "metadata": {},
     "output_type": "display_data"
    }
   ],
   "source": [
    "class MPRamp(MP):\n",
    "\n",
    "    def __init__(self, c, M, P, upos_max, uneg_max):\n",
    "\n",
    "        super(MPRamp, self).__init__(c, M, P)\n",
    "        super(MPRamp, self).set_modfile('maintenance_planning_ramp.mod')        \n",
    "        self.upos_max = upos_max\n",
    "        self.uneg_max = uneg_max\n",
    "        \n",
    "\n",
    "    def load_data(self):\n",
    "\n",
    "        super(MPRamp, self).load_data()        \n",
    "        self.ampl.param['upos_max'] = self.upos_max\n",
    "        self.ampl.param['uneg_max'] = self.uneg_max\n",
    "\n",
    "\n",
    "upos_max = 0.3334\n",
    "uneg_max = 0.5000\n",
    "\n",
    "model = MPRamp(c, M, P, upos_max, uneg_max)\n",
    "model.plot_schedule()"
   ]
  },
  {
   "cell_type": "markdown",
   "metadata": {
    "colab_type": "text",
    "id": "HM_k7HkbThAe"
   },
   "source": [
    "## Specifying the minimum number of operational days between maintenance periods\n",
    "\n",
    "Up to this point we have imposed no constraints on the frequency of maintenance periods. Without such constraints, particularly when ramping constraints are imposed, is that maintenance periods will be scheduled back-to-back, which is clearly not a useful result for most situations.\n",
    "\n",
    "The next revision of the model is to incorporate a requirement that $N$ operational days be scheduled between any maintenance periods. This does allow for maintenance to be postponed until the very end of the planning period. The disjunctive constraints read\n",
    "\n",
    "$$\n",
    "\\begin{align*}\n",
    "\\left(y_t = 0\\right) \\veebar \\left(\\sum_{s=0}^{(M + N -1) \\wedge (t + s \\leq T)}x_{t+s} = 0\\right)\\qquad \\forall t = 1, 2, \\ldots, T-M+1\n",
    "\\end{align*}\n",
    "$$\n",
    "\n",
    "where the upper bound on the summation is needed to handle the terminal condition. \n",
    "\n",
    "Paradoxically, this is an example where the Big-M method provides a much faster solution.\n",
    "\n",
    "$$\n",
    "\\begin{align*}\n",
    "\\sum_{s=0}^{(M + N -1) \\wedge (t + s \\leq T)}x_{t+s} \\leq (M+N)(1-y_t) \\qquad \\forall t = 1, 2, \\ldots, T-M+1\n",
    "\\end{align*}\n",
    "$$\n",
    "\n",
    "The following cell implements both sets of constraints. "
   ]
  },
  {
   "cell_type": "code",
   "execution_count": 8,
   "metadata": {
    "colab": {},
    "colab_type": "code",
    "id": "fEOMGHPvUJzJ"
   },
   "outputs": [
    {
     "name": "stdout",
     "output_type": "stream",
     "text": [
      "Writing maintenance_planning_ramp_operational.mod\n"
     ]
    }
   ],
   "source": [
    "%%writefile maintenance_planning_ramp_operational.mod\n",
    "\n",
    "param T; # number of planning periods\n",
    "param P; # number of maintenance periods\n",
    "param M; # number of days for each maintenance period\n",
    "param N;\n",
    "\n",
    "param upos_max;\n",
    "param uneg_max;\n",
    "\n",
    "set PH := 1..T; # set of planning horizon time periods\n",
    "\n",
    "set Y := 1..(T - M + 1);\n",
    "set S := 0..(M - 1);\n",
    "set W := 0..(M + N - 1);\n",
    "    \n",
    "param c{PH}; # profit\n",
    "\n",
    "var x{PH} >= 0, <= 1;\n",
    "var y{PH} binary;\n",
    "var upos{PH} >= 0, <= upos_max;\n",
    "var uneg{PH} >= 0, <= uneg_max;\n",
    "\n",
    "maximize profit: sum{t in PH} c[t] * x[t];\n",
    "\n",
    "# ramp constraint\n",
    "s.t. ramp {t in PH: t > 1}:\n",
    "    x[t] == x[t-1] + upos[t] - uneg[t];\n",
    "# required number P of maintenance starts\n",
    "s.t. sumy: P == sum{t in Y} y[t];\n",
    "# no more than one maintenance start in the period of length M\n",
    "s.t. sprd {t in Y}:\n",
    "    sum{s in W: t + s <= T} y[t+s] <= 1;\n",
    "\n",
    "# Choose one of the following constraints (disj or bigm).\n",
    "# Comment out the constraint not used.\n",
    "#s.t. disj {t in Y}:\n",
    "#    y[t] == 1 ==> sum{s in W: t + s <= T} x[t+s] == 0;\n",
    "\n",
    "s.t. bigm {t in Y}:\n",
    "    sum{s in W: t + s <= T} x[t+s] <= (M+N)*(1 - y[t]);"
   ]
  },
  {
   "cell_type": "code",
   "execution_count": 9,
   "metadata": {
    "colab": {
     "base_uri": "https://localhost:8080/",
     "height": 297
    },
    "colab_type": "code",
    "executionInfo": {
     "elapsed": 3249,
     "status": "ok",
     "timestamp": 1557947681109,
     "user": {
      "displayName": "Jeffrey Kantor",
      "photoUrl": "https://lh5.googleusercontent.com/-8zK5aAW5RMQ/AAAAAAAAAAI/AAAAAAAAKB0/kssUQyz8DTQ/s64/photo.jpg",
      "userId": "09038942003589296665"
     },
     "user_tz": 240
    },
    "id": "m93Na6TkUqDb",
    "outputId": "cae87fae-7eba-46c3-ea3b-7e2427c4f529"
   },
   "outputs": [
    {
     "name": "stdout",
     "output_type": "stream",
     "text": [
      "cbc 2.10.7: \b\b\b\b\b\b\b\b\b\b\b\bcbc 2.10.7: optimal solution; objective 26.64390078\n",
      "90873 simplex iterations\n",
      "90873 barrier iterations\n",
      "492 branching nodes\n"
     ]
    },
    {
     "data": {
      "image/png": "[encoded data removed]",
      "text/plain": [
       "<Figure size 900x400 with 3 Axes>"
      ]
     },
     "metadata": {},
     "output_type": "display_data"
    }
   ],
   "source": [
    "class MPRampOperational(MPRamp):\n",
    "\n",
    "    def __init__(self, c, M, P, upos_max, uneg_max, N):\n",
    "\n",
    "        super(MPRampOperational, self).__init__(c, M, P, upos_max, uneg_max)\n",
    "        super(MPRampOperational, self).set_modfile('maintenance_planning_ramp_operational.mod')\n",
    "        self.N = N\n",
    "        \n",
    "        \n",
    "    def load_data(self):\n",
    "\n",
    "        super(MPRampOperational, self).load_data()        \n",
    "        self.ampl.param['N'] = self.N\n",
    "        \n",
    "\n",
    "N = 10  # minimum number of operational days between maintenance periods\n",
    "model = MPRampOperational(c, M, P, upos_max, uneg_max, N)\n",
    "model.plot_schedule()"
   ]
  },
  {
   "cell_type": "markdown",
   "metadata": {
    "colab_type": "text",
    "id": "3j0fLxBOwSch"
   },
   "source": [
    "## Exercises\n",
    "\n",
    "1. Rather than specify how many maintenance periods must be accommodated, modify the model so that the process unit can operate no more than $N$ days without a maintenance shutdown.  (Hint. You may to introduce an additional set of binary variables, $z_t$ to denote the start of an operational period.)\n",
    "\n",
    "2. Do a systematic comparison of the Big-M, Convex Hull, and Cutting Plane techniques for implementing the disjunctive constraints. Your comparison should include a measure of complexity (such as the number of decision variables and constraints in the resulting transformed problems), computational effort, and the effect of solver (such as HiGHS vs cbc)."
   ]
  }
 ],
 "metadata": {
  "kernelspec": {
   "display_name": "Python 3 (ipykernel)",
   "language": "python",
   "name": "python3"
  },
  "language_info": {
   "codemirror_mode": {
    "name": "ipython",
    "version": 3
   },
   "file_extension": ".py",
   "mimetype": "text/x-python",
   "name": "python",
   "nbconvert_exporter": "python",
   "pygments_lexer": "ipython3",
   "version": "3.10.6"
  }
 },
 "nbformat": 4,
 "nbformat_minor": 4
}
