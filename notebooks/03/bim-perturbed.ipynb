{
 "cells": [
  {
   "cell_type": "markdown",
   "id": "236fc575-3f76-4906-b795-7ff47cdcb2b8",
   "metadata": {},
   "source": [
    "```{index} single: solver; cbc\n",
    "```\n",
    "```{index} single: application; production planning\n",
    "```\n",
    "\n",
    "# BIM production with perturbed data"
   ]
  },
  {
   "cell_type": "code",
   "execution_count": null,
   "id": "88547152-b76c-4a6f-9b6d-2e43ace3a637",
   "metadata": {
    "tags": []
   },
   "outputs": [],
   "source": [
    "# install dependencies and select solver\n",
    "!pip install -q amplpy\n",
    "\n",
    "SOLVER = \"cbc\"\n",
    "\n",
    "from amplpy import AMPL, tools\n",
    "\n",
    "ampl = tools.ampl_notebook(\n",
    "    modules=[\"cbc\"], license_uuid=\"default\"  # modules to install  # license to use\n",
    ")"
   ]
  },
  {
   "cell_type": "markdown",
   "id": "69b647c3-f706-4591-8287-f10921ff6efa",
   "metadata": {},
   "source": [
    "## Problem description\n",
    "\n",
    "The company BIM realizes that a $1\\%$ fraction of the copper always gets wasted while producing both types of microchips, more specifically $1\\%$ of the required amount. This means that it actually takes $4.04$ gr of copper to produce a logic chip and $2.02$ gr of copper to produce a memory chip. If we rewrite the linear problem of [the basic BIM problem](../02/bim.ipynb) and modify accordingly the coefficients in the corresponding constraints, we obtain the following problem \n",
    "\n",
    "$$\n",
    "\\begin{align*}\n",
    "        \\max \\quad & 12x_1+9x_2  \\\\\n",
    "        \\text{s.t.} \\quad & x_1 \\leq 1000 & \\text{(silicon)}\\\\\n",
    "        & x_2 \\leq 1500 & \\text{(germanium)}\\\\\n",
    "        & x_1+x_2 \\leq 1750 & \\text{(plastic)}\\\\\n",
    "        & 4.04 x_1+2.02 x_2 \\leq 4800 & \\text{(copper with waste)}\\\\\n",
    "        &x_1, x_2 \\geq 0.\n",
    "\\end{align*}\n",
    "$$\n",
    "\n",
    "If we solve it, we obtain a different optimal solution than the original one, namely $(x_1,x_2) \\approx (626.238,1123.762)$ and an optimal value of roughly $17628.713$. Note, in particular, that this new optimal solution is not integer, but on the other hand in the linear optimization problem above there is no constraint requiring $x_1$ and $x_2$ to be such."
   ]
  },
  {
   "cell_type": "code",
   "execution_count": 2,
   "id": "43094d8c",
   "metadata": {},
   "outputs": [
    {
     "name": "stdout",
     "output_type": "stream",
     "text": [
      "Writing BIM_perturbed_LO.mod\n"
     ]
    }
   ],
   "source": [
    "%%writefile BIM_perturbed_LO.mod\n",
    "\n",
    "var x1 >= 0;\n",
    "var x2 >= 0;\n",
    "\n",
    "maximize profit: 12 * x1 + 9 * x2;\n",
    "\n",
    "s.t. silicon: x1 <= 1000;\n",
    "s.t. germanium: x2 <= 1500;\n",
    "s.t. plastic: x1 + x2 <= 1750;\n",
    "s.t. copper: 4.04 * x1 + 2.02 * x2 <= 4800;"
   ]
  },
  {
   "cell_type": "code",
   "execution_count": 3,
   "id": "a0c47721-754d-421c-93d1-a5539852ff41",
   "metadata": {},
   "outputs": [
    {
     "name": "stdout",
     "output_type": "stream",
     "text": [
      "cbc 2.10.7cbc 2.10.7: optimal solution; objective 17628.71287\n",
      "0 simplex iterations\n",
      "x = (626.238, 1123.762), optimal value = 17628.713\n"
     ]
    }
   ],
   "source": [
    "m = AMPL()\n",
    "m.read(\"BIM_perturbed_LO.mod\")\n",
    "\n",
    "m.option[\"solver\"] = SOLVER\n",
    "m.solve()\n",
    "\n",
    "print(\n",
    "    \"x = ({:.3f}, {:.3f}), optimal value = {:.3f}\".format(\n",
    "        m.var[\"x1\"].value(), m.var[\"x2\"].value(), m.obj[\"profit\"].value()\n",
    "    )\n",
    ")"
   ]
  },
  {
   "cell_type": "markdown",
   "id": "fc74513f-5b6a-4aac-9284-619533ac64b1",
   "metadata": {},
   "source": [
    "In terms of production, of course, we would simply produce entire chips but it is not clear how to implement the fractional solution $(x_1,x_2) \\approx (626.238,1123.762)$. Rounding down to $(x_1,x_2) = (626,1123)$ will intuitively yield a feasible solution, but we might be giving away some profit and/or not using efficiently the available material. Rounding up to $(x_1,x_2) = (627,1124)$ could possibly lead to an unfeasible solution for which the available material is not enough. We can of course manually inspect by hand all these candidate integer solutions, but if the problem involved many more decision variables or had a more complex structure, this would become much harder and possibly not lead to the true optimal solution.\n",
    "\n",
    "A much safer approach is to explicitly require the two decision variables to be non-negative integers, thus transforming the original into the following mixed-integer linear optimization (MILO) problem:\n",
    "\n",
    "$$\n",
    "\\begin{align*}\n",
    "        \\max \\quad & 12x_1+9x_2  \\\\\n",
    "        \\text{s.t.} \\quad & x_1 \\leq 1000 & \\text{(silicon)}\\\\\n",
    "        & x_2 \\leq 1500 & \\text{(germanium)}\\\\\n",
    "        & x_1+x_2 \\leq 1750 & \\text{(plastic)}\\\\\n",
    "        & 4.04 x_1+2.02 x_2 \\leq 4800 & \\text{(copper with waste)}\\\\\n",
    "        &x_1, x_2 \\in \\mathbb{N}.\n",
    "\\end{align*}\n",
    "$$\n",
    "\n",
    "The optimal solution is $(x_1,x_2) = (626,1124)$ with a profit of $17628$. Note that for this specific problem both the naive rounding strategies outlined above would have not yielded the true optimal solution. The Python code for obtaining the optimal solution using MILO solvers is given below."
   ]
  },
  {
   "cell_type": "code",
   "execution_count": 4,
   "id": "749df509",
   "metadata": {},
   "outputs": [
    {
     "name": "stdout",
     "output_type": "stream",
     "text": [
      "Writing BIM_perturbed_MILO.mod\n"
     ]
    }
   ],
   "source": [
    "%%writefile BIM_perturbed_MILO.mod\n",
    "\n",
    "var x1 integer >= 0;\n",
    "var x2 integer >= 0;\n",
    "\n",
    "maximize profit: 12 * x1 + 9 * x2;\n",
    "\n",
    "s.t. silicon: x1 <= 1000;\n",
    "s.t. germanium: x2 <= 1500;\n",
    "s.t. plastic: x1 + x2 <= 1750;\n",
    "s.t. copper: 4.04 * x1 + 2.02 * x2 <= 4800;"
   ]
  },
  {
   "cell_type": "code",
   "execution_count": 5,
   "id": "19ddcf89-0efb-443e-87b3-567286c57ecc",
   "metadata": {
    "tags": []
   },
   "outputs": [
    {
     "name": "stdout",
     "output_type": "stream",
     "text": [
      "cbc 2.10.7: \b\b\b\b\b\b\b\b\b\b\b\bcbc 2.10.7: optimal solution; objective 17628\n",
      "1 simplex iterations\n",
      "1 barrier iterations\n",
      "x = (626.000, 1124.000), optimal value = 17628.000\n"
     ]
    }
   ],
   "source": [
    "m = AMPL()\n",
    "m.read(\"BIM_perturbed_MILO.mod\")\n",
    "\n",
    "m.option[\"solver\"] = SOLVER\n",
    "m.solve()\n",
    "\n",
    "print(\n",
    "    \"x = ({:.3f}, {:.3f}), optimal value = {:.3f}\".format(\n",
    "        m.var[\"x1\"].value(), m.var[\"x2\"].value(), m.obj[\"profit\"].value()\n",
    "    )\n",
    ")"
   ]
  }
 ],
 "metadata": {
  "kernelspec": {
   "display_name": "Python 3 (ipykernel)",
   "language": "python",
   "name": "python3"
  },
  "language_info": {
   "codemirror_mode": {
    "name": "ipython",
    "version": 3
   },
   "file_extension": ".py",
   "mimetype": "text/x-python",
   "name": "python",
   "nbconvert_exporter": "python",
   "pygments_lexer": "ipython3",
   "version": "3.10.6"
  }
 },
 "nbformat": 4,
 "nbformat_minor": 5
}
