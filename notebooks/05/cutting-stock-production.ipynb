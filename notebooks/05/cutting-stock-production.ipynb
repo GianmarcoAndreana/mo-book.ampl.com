{
 "cells": [
  {
   "cell_type": "markdown",
   "metadata": {
    "id": "_eaxyfyDjXUh"
   },
   "source": [
    "# Extra Material: Cutting Stock Production\n",
    "\n",
    "This is a version of the cutting stock problem intended for actual use. The narrative text has been largely removed."
   ]
  },
  {
   "cell_type": "markdown",
   "metadata": {},
   "source": [
    "## Code Library"
   ]
  },
  {
   "cell_type": "code",
   "execution_count": 4,
   "metadata": {
    "colab": {
     "base_uri": "https://localhost:8080/"
    },
    "executionInfo": {
     "elapsed": 52005,
     "status": "ok",
     "timestamp": 1683316564313,
     "user": {
      "displayName": "Jeffrey Kantor",
      "userId": "09038942003589296665"
     },
     "user_tz": 240
    },
    "id": "bmKKVtw8jcK6",
    "outputId": "a84b1ba2-6a3f-4453-c6aa-3bfc4a4760f6"
   },
   "outputs": [],
   "source": [
    "# install Pyomo and solvers\n",
    "import sys\n",
    "import os\n",
    "\n",
    "if 'google.colab' in sys.modules:\n",
    "    !pip install idaes-pse --pre >/dev/null 2>/dev/null\n",
    "    !idaes get-extensions --to ./bin \n",
    "    os.environ['PATH'] += ':bin'\n",
    "    \n",
    "SOLVER_MILO = \"cbc\"\n",
    "SOLVER_MINLO = \"couenne\""
   ]
  },
  {
   "cell_type": "code",
   "execution_count": 6,
   "metadata": {},
   "outputs": [],
   "source": [
    "import matplotlib.pyplot as plt\n",
    "import pyomo.environ as pyo    \n",
    "\n",
    "\n",
    "def make_patterns(stocks, finish):\n",
    "    \"\"\"\n",
    "    Generates patterns of feasible cuts from stock lengths to meet specified finish lengths.\n",
    "\n",
    "    Parameters:\n",
    "    stocks (dict): A dictionary where keys are stock identifiers and values are dictionaries \n",
    "                   with key 'length' representing the length of each stock.\n",
    "\n",
    "    finish (dict): A dictionary where keys are finish identifiers and values are dictionaries\n",
    "                   with key 'length' representing the required finish lengths.\n",
    "\n",
    "    Returns:\n",
    "    patterns (list): A list of dictionaries, where each dictionary represents a pattern of cuts. \n",
    "                   Each pattern dictionary contains 'stock' (the stock identifier) and 'cuts' \n",
    "                   (a dictionary where keys are finish identifiers and the value is the number \n",
    "                   of cuts from the stock for each finish).\n",
    "    \"\"\"\n",
    "    patterns = []\n",
    "    for f in finish:\n",
    "        feasible = False\n",
    "        for s in stocks:\n",
    "            \n",
    "            # max number of f that fit on s\n",
    "            num_cuts = int(stocks[s]['length']/finish[f]['length'])\n",
    "            \n",
    "            # make pattern and add to list of patterns\n",
    "            if num_cuts > 0:\n",
    "                feasible = True\n",
    "                cuts_dict = {key: 0 for key in finish.keys()}\n",
    "                cuts_dict[f] = num_cuts\n",
    "                patterns.append({'stock': s, 'cuts': cuts_dict})\n",
    "                    \n",
    "        if not feasible:\n",
    "            print(f\"No feasible pattern was found for {f}\")\n",
    "            return []\n",
    "    return patterns\n",
    "\n",
    "\n",
    "def cut_patterns(stocks, finish, patterns):\n",
    "    m = pyo.ConcreteModel()\n",
    "\n",
    "    m.S = pyo.Set(initialize=list(stocks.keys()))\n",
    "    m.F = pyo.Set(initialize=list(finish.keys()))\n",
    "    m.P = pyo.RangeSet(0, len(patterns)-1)\n",
    "    \n",
    "    m.x = pyo.Var(m.P, domain=pyo.NonNegativeIntegers)\n",
    "\n",
    "    @m.Objective(sense=pyo.minimize)\n",
    "    def cost(m):\n",
    "        s = {p: patterns[p]['stock'] for p in m.P}\n",
    "        c = {p:  stocks[s[p]]['cost'] for p in m.P}\n",
    "        return sum(c[p] * m.x[p] for p in m.P)\n",
    "\n",
    "    @m.Constraint(m.F)\n",
    "    def demand(m, f):\n",
    "        a = {p: patterns[p]['cuts'][f] for p in m.P}\n",
    "        return sum(a[p] * m.x[p] for p in m.P) >= finish[f]['demand']\n",
    "    \n",
    "    solver = pyo.SolverFactory(SOLVER_MILO)\n",
    "    solver.solve(m)\n",
    "    return [m.x[p]() for p in m.P], m.cost()\n",
    "\n",
    "\n",
    "def generate_pattern_dual(stocks, finish, patterns):\n",
    "    m = pyo.ConcreteModel()\n",
    "\n",
    "    m.S = pyo.Set(initialize=list(stocks.keys()))\n",
    "    m.F = pyo.Set(initialize=list(finish.keys()))\n",
    "    m.P = pyo.RangeSet(0, len(patterns)-1)\n",
    "    \n",
    "    m.x = pyo.Var(m.P, domain=pyo.NonNegativeReals)\n",
    "\n",
    "    @m.Objective(sense=pyo.minimize)\n",
    "    def cost(m):\n",
    "        s = {p: patterns[p]['stock'] for p in m.P}\n",
    "        c = {p: stocks[s[p]]['cost'] for p in m.P}\n",
    "        return sum(c[p] * m.x[p] for p in m.P)\n",
    "\n",
    "    @m.Constraint(m.F)\n",
    "    def demand(m, f):\n",
    "        a = {p: patterns[p]['cuts'][f] for p in m.P}\n",
    "        return sum(a[p] * m.x[p] for p in m.P) >= finish[f]['demand']\n",
    "    \n",
    "    # solve and get duals\n",
    "    m.dual = pyo.Suffix(direction=pyo.Suffix.IMPORT)\n",
    "    solver = pyo.SolverFactory('cbc')\n",
    "    solver.solve(m)\n",
    "    \n",
    "    # solve for reduced cost for each stock\n",
    "    @m.Block(m.S)\n",
    "    def subprob(b, s):\n",
    "        m = b.model()\n",
    "        b.a = pyo.Var(m.F, domain=pyo.NonNegativeIntegers)\n",
    "        \n",
    "        @b.Objective(sense=pyo.maximize)\n",
    "        def marginal_value(b):\n",
    "            return  sum(b.a[f] * m.dual[m.demand[f]] for f in m.F)\n",
    "        \n",
    "        @b.Constraint()\n",
    "        def stock_length(b):\n",
    "            return sum(b.a[f] * finish[f]['length'] for f in m.F) <= stocks[s]['length']\n",
    "    \n",
    "        pyo.SolverFactory(SOLVER_MILO).solve(b)\n",
    "        \n",
    "        return b\n",
    "        \n",
    "    reduced_value = [m.subprob[s].marginal_value() - stocks[s]['cost']  for s in m.S]\n",
    "    s = list(m.S)[reduced_value.index(max(reduced_value))]\n",
    "    return {'stock': s, 'cuts': {f: round(m.subprob[s].a[f]()) for f in m.F}}\n",
    "\n",
    "\n",
    "def generate_pattern_bilinear(stocks, finish, patterns):\n",
    "    m = pyo.ConcreteModel()\n",
    "\n",
    "    m.S = pyo.Set(initialize=list(stocks.keys()))\n",
    "    m.F = pyo.Set(initialize=list(finish.keys()))\n",
    "    m.P = pyo.RangeSet(0, len(patterns)-1)\n",
    "    \n",
    "    m.x = pyo.Var(m.P, domain=pyo.NonNegativeReals)\n",
    "    m.xp = pyo.Var(domain=pyo.NonNegativeReals)\n",
    "    \n",
    "    def a_bounds(m, f):\n",
    "        return (0, max([int(stocks[s]['length']/finish[f]['length']) for s in m.S]))\n",
    "    m.ap = pyo.Var(m.F, domain=pyo.NonNegativeIntegers, bounds=a_bounds)\n",
    "    m.bp = pyo.Var(m.S, domain=pyo.Binary)\n",
    "\n",
    "    @m.Objective(sense=pyo.minimize)\n",
    "    def cost(m):\n",
    "        s = {p: patterns[p]['stock'] for p in m.P}\n",
    "        c = {p:  stocks[s[p]]['cost'] for p in m.P}\n",
    "        return sum(c[p] * m.x[p] for p in m.P) + m.xp * sum(m.bp[s] * stocks[s]['cost'] for s in m.S)\n",
    "    \n",
    "    @m.Constraint()\n",
    "    def sum_to_one(m):\n",
    "        return sum(m.bp[s] for s in m.S) == 1\n",
    "    \n",
    "    @m.Constraint()\n",
    "    def add_pattern(m):\n",
    "        return sum(m.ap[f] * finish[f]['length'] for f in m.F) <= sum(m.bp[s] * stocks[s]['length'] for s in m.S)\n",
    "\n",
    "    @m.Constraint(m.F)\n",
    "    def demand(m, f):\n",
    "        return sum(patterns[p]['cuts'][f] * m.x[p] for p in m.P) + m.ap[f] * m.xp >= finish[f]['demand']\n",
    "    \n",
    "    solver = pyo.SolverFactory(SOLVER_MINLO)\n",
    "    solver.solve(m)\n",
    "    new_pattern = {'stock': [s for s in m.S if m.bp[s]() > 0.5][0], \n",
    "                   'cuts': {f: round(m.ap[f]()) for f in m.F}}\n",
    "    return new_pattern\n",
    "\n",
    "\n",
    "def cut_stock(stocks, finish):\n",
    "    # Generate initial set of patterns\n",
    "    patterns = make_patterns(stocks, finish)\n",
    "\n",
    "    # Phase 1: Generate patterns using dual method\n",
    "    print(\"Phase 1 \", end=\".\")\n",
    "    new_pattern = generate_pattern_dual(stocks, finish, patterns)\n",
    "    while new_pattern not in patterns:\n",
    "        patterns.append(new_pattern)\n",
    "        new_pattern = generate_pattern_dual(stocks, finish, patterns)\n",
    "        print(end=\".\")\n",
    "        \n",
    "    x, cost = cut_patterns(stocks, finish, patterns)\n",
    "    print(f\" Cost = {cost}\")\n",
    "\n",
    "    # Phase 2: Generate patterns using bilinear method\n",
    "    print(\"Phase 2 \", end=\".\")\n",
    "    new_pattern = generate_pattern_bilinear(stocks, finish, patterns)\n",
    "    while new_pattern not in patterns:\n",
    "        patterns.append(new_pattern)\n",
    "        new_pattern = generate_pattern_bilinear(stocks, finish, patterns)\n",
    "        print(end=\".\")\n",
    "    \n",
    "    x, cost = cut_patterns(stocks, finish, patterns) \n",
    "    print(f\" Cost = {cost}\")\n",
    "    \n",
    "    # Get the indices of non-zero patterns\n",
    "    non_zero_indices = [index for index, value in enumerate(x) if value > 0]\n",
    "\n",
    "    # Return only the non-zero patterns, their corresponding values, and the cost\n",
    "    return [patterns[index] for index in non_zero_indices], [x[index] for index in non_zero_indices], cost\n",
    "\n",
    "\n",
    "def plot_patterns(stocks, finish, patterns):  \n",
    "    # set up figure parameters\n",
    "    lw = 0.6\n",
    "    cmap = plt.get_cmap(\"tab10\")\n",
    "    colors = {f: cmap(k % 10) for k, f in enumerate(finish.keys())}\n",
    "    fig, ax = plt.subplots(1, 1, figsize=(8, 0.05 + 0.4*len(patterns)))\n",
    "    \n",
    "    for k, pattern in enumerate(patterns):\n",
    "        # get stock key/name\n",
    "        s = pattern['stock']\n",
    "        \n",
    "        # plot stock as a grey background\n",
    "        y_lo = (-k - lw/2, -k - lw/2)\n",
    "        y_hi = (-k + lw/2, -k + lw/2)\n",
    "        ax.fill_between((0, stocks[s]['length']), y_lo, y_hi, color=\"k\", alpha=0.1)\n",
    "        \n",
    "        # overlay finished parts\n",
    "        xa = 0\n",
    "        for f, n  in pattern['cuts'].items():\n",
    "            for j in range(n):\n",
    "                xb = xa + finish[f]['length']\n",
    "                ax.fill_between((xa, xb), y_lo, y_hi, alpha=1.0, color=colors[f])\n",
    "                ax.plot((xb, xb), (y_lo[0], y_hi[0]), 'w', lw=1, solid_capstyle=\"butt\")\n",
    "                ax.text((xa + xb)/2, -k, f, ha=\"center\", va=\"center\", fontsize=6, color=\"w\", weight=\"bold\")\n",
    "                xa = xb\n",
    "        \n",
    "    # clean up axes\n",
    "    ax.spines[['top', 'right', 'left', 'bottom']].set_visible(False)\n",
    "    ax.set_yticks(range(0, -len(patterns), -1), [pattern['stock'] for pattern in patterns], fontsize=8)\n",
    "    return ax\n",
    "\n",
    "def plot_nonzero_patterns(stocks, finish, patterns, x, cost):\n",
    "    k = [j for j, _ in enumerate(x) if _ > 0]\n",
    "    ax = plot_patterns(stocks, finish, [patterns[j] for j in k])\n",
    "    ticks = [f\"{x[k]} x {pattern['stock']}\" for k, pattern in enumerate(patterns) if x[k] > 0]\n",
    "    ax.set_yticks(range(0, -len(k), -1), ticks, fontsize=8)\n",
    "    ax.set_title(f\"Cost = {round(cost,2)}\", fontsize=10)\n",
    "    return ax\n",
    "       "
   ]
  },
  {
   "cell_type": "markdown",
   "metadata": {},
   "source": [
    "## Problem Data"
   ]
  },
  {
   "cell_type": "code",
   "execution_count": 8,
   "metadata": {},
   "outputs": [],
   "source": [
    "stocks = {\n",
    "    '2x4 96': {'length': 96, 'cost': 1},\n",
    "} \n",
    "\n",
    "finish = {\n",
    "    '70': {'length': 70, 'demand': 2},  # base side rails (2)\n",
    "    '48': {'length': 48, 'demand': 2},  # seat frame sides (2)\n",
    "    '41': {'length': 41, 'demand': 4},  # seat slats (4)\n",
    "    '29 3/4': {'length': 29.75, 'demand': 2},  # back rails (2)\n",
    "    '24': {'length': 24, 'demand': 1},  # seat top stile (1) + back top stile (1)\n",
    "    '22 3/4': {'length': 22.75, 'demand': 4},  # back slats (4)\n",
    "    '19': {'length': 19, 'demand': 3},  # base cross rails (3)\n",
    "    '18 3/4': {'length': 18.75, 'demand': 1},  # bottom of support brace\n",
    "    '17': {'length': 17, 'demand': 2},  # seat top stile (1) + back top stile (1)\n",
    "    '16': {'length': 16, 'demand': 4},  # base end rails (2) + base bracket supports (2)\n",
    "    '12': {'length': 12, 'demand': 1},  # rip to make 2 back support braces\n",
    "    '8 1/2': {'length': 8.5, 'demand': 4},  # back support block\n",
    "}"
   ]
  },
  {
   "cell_type": "code",
   "execution_count": 9,
   "metadata": {},
   "outputs": [
    {
     "data": {
      "text/plain": [
       "{'2x4 96': {'length': 96.25, 'cost': 1}}"
      ]
     },
     "metadata": {},
     "output_type": "display_data"
    },
    {
     "data": {
      "text/plain": [
       "{'70': {'length': 70.25, 'demand': 2},\n",
       " '48': {'length': 48.25, 'demand': 2},\n",
       " '41': {'length': 41.25, 'demand': 4},\n",
       " '29 3/4': {'length': 30.0, 'demand': 2},\n",
       " '24': {'length': 24.25, 'demand': 1},\n",
       " '22 3/4': {'length': 23.0, 'demand': 4},\n",
       " '19': {'length': 19.25, 'demand': 3},\n",
       " '18 3/4': {'length': 19.0, 'demand': 1},\n",
       " '17': {'length': 17.25, 'demand': 2},\n",
       " '16': {'length': 16.25, 'demand': 4},\n",
       " '12': {'length': 12.25, 'demand': 1},\n",
       " '8 1/2': {'length': 8.75, 'demand': 4}}"
      ]
     },
     "metadata": {},
     "output_type": "display_data"
    }
   ],
   "source": [
    "# add kerf width\n",
    "kerf = 0.25\n",
    "\n",
    "for s in stocks:\n",
    "    stocks[s][\"length\"] += kerf\n",
    "    \n",
    "for f in finish:\n",
    "    finish[f][\"length\"] += kerf\n",
    "    \n",
    "display(stocks)\n",
    "display(finish)"
   ]
  },
  {
   "cell_type": "markdown",
   "metadata": {},
   "source": [
    "## Solution"
   ]
  },
  {
   "cell_type": "code",
   "execution_count": 7,
   "metadata": {},
   "outputs": [
    {
     "name": "stdout",
     "output_type": "stream",
     "text": [
      "Phase 1 ..................... Cost = 9.0\n",
      "Phase 2 ..... Cost = 9.0\n"
     ]
    },
    {
     "data": {
      "text/plain": [
       "<Axes: title={'center': 'Cost = 9.0'}>"
      ]
     },
     "execution_count": 7,
     "metadata": {},
     "output_type": "execute_result"
    },
    {
     "data": {
      "image/png": "[encoded data removed]",
      "text/plain": [
       "<Figure size 800x325 with 1 Axes>"
      ]
     },
     "metadata": {},
     "output_type": "display_data"
    }
   ],
   "source": [
    "patterns, x, cost = cut_stock(stocks, finish)\n",
    "plot_nonzero_patterns(stocks, finish, patterns, x, cost)"
   ]
  },
  {
   "cell_type": "code",
   "execution_count": null,
   "metadata": {},
   "outputs": [],
   "source": []
  }
 ],
 "metadata": {
  "colab": {
   "authorship_tag": "ABX9TyMAEgtZ2QtPtbxWXdXZAIk/",
   "provenance": []
  },
  "kernelspec": {
   "display_name": "Python 3 (ipykernel)",
   "language": "python",
   "name": "python3"
  },
  "language_info": {
   "codemirror_mode": {
    "name": "ipython",
    "version": 3
   },
   "file_extension": ".py",
   "mimetype": "text/x-python",
   "name": "python",
   "nbconvert_exporter": "python",
   "pygments_lexer": "ipython3",
   "version": "3.9.16"
  }
 },
 "nbformat": 4,
 "nbformat_minor": 4
}
