{
 "cells": [
  {
   "cell_type": "markdown",
   "metadata": {
    "id": "bDLJBWVorXGZ"
   },
   "source": [
    "```{index} single: application; energy systems\n",
    "```\n",
    "```{index} single: solver; cbc\n",
    "```\n",
    "```{index} pandas dataframe\n",
    "```\n",
    "```{index} network optimization\n",
    "```\n",
    "```{index} stochastic optimization\n",
    "```\n",
    "```{index} SAA\n",
    "```\n",
    "```{index} linear decision rules\n",
    "```\n",
    "# Optimal power flow problem with recourse actions\n",
    "\n",
    "In this notebook we illustrate an application of the idea of linear decision rules to a two-stage optimal power flow problem in which the power of the conventional generators has to adapt automatically to balance out energy surplus/shortage due to changes in renewable resources input.\n",
    "\n",
    "We will be working with a modified version of the [energy dispatch problem](../04/power-network.ipynb) and the [OPF problem with wind curtailment](../10/opf-wind-curtailment.ipynb). Please refer to the corresponding notebooks for the basics of power networks."
   ]
  },
  {
   "cell_type": "code",
   "execution_count": 1,
   "metadata": {},
   "outputs": [],
   "source": [
    "# install dependencies and select solver\n",
    "%pip install -q amplpy pandas matplotlib numpy scipy\n",
    "\n",
    "SOLVER = \"highs\"\n",
    "\n",
    "from amplpy import AMPL, ampl_notebook\n",
    "\n",
    "ampl = ampl_notebook(\n",
    "    modules=[\"highs\"],  # modules to install\n",
    "    license_uuid=\"default\",  # license to use\n",
    ")  # instantiate AMPL object and register magics"
   ]
  },
  {
   "cell_type": "code",
   "execution_count": null,
   "metadata": {},
   "outputs": [],
   "source": [
    "# Load packages\n",
    "from IPython.display import Markdown, HTML\n",
    "import numpy as np\n",
    "import numpy.random as rnd\n",
    "import pandas as pd\n",
    "import matplotlib.pyplot as plt\n",
    "from ast import literal_eval as make_tuple\n",
    "import networkx as nx\n",
    "import time\n",
    "\n",
    "\n",
    "def get_firststagecost(model):\n",
    "    return model.get_value(\"sum{i in V: is_generator[i]==1} c[i]*p[i]\")\n",
    "\n",
    "\n",
    "def get_optimal_production_levels(model):\n",
    "    q = model.get_data(\"{i in CG} p[i]\")\n",
    "    q = q.to_list()\n",
    "    q = [i[1] for i in q]\n",
    "\n",
    "    return [np.round(i, 2) for i in q]\n",
    "\n",
    "\n",
    "def get_participation_factors(model):\n",
    "    q = [i[1] for i in model.get_data(\"{i in CG} alpha[i]\")]\n",
    "    return [np.round(i, 2) for i in q]\n",
    "\n",
    "\n",
    "def get_averagerecoursecost(model, df, T, abstotalimbalances):\n",
    "    q_alpha = [i[1] for i in model.var[\"alpha\"].get_values()]\n",
    "\n",
    "    averagerecoursecost = (\n",
    "        1\n",
    "        / T\n",
    "        * sum(\n",
    "            sum(\n",
    "                2 * df.iloc[i][\"c\"] * q_alpha[i] * abstotalimbalances[t]\n",
    "                for i in df.index.values\n",
    "            )\n",
    "            for t in range(T)\n",
    "        )\n",
    "    )\n",
    "    return averagerecoursecost"
   ]
  },
  {
   "cell_type": "markdown",
   "metadata": {},
   "source": [
    "## Problem description\n",
    "\n",
    "We consider a variant of the Optimal Power Flow problem in which each conventional generator $i$ commits in advance to produce a specific amount $p_i$ of energy as determined by the OPF problem assuming the renewable energy production from all solar panels and wind turbines will be equal to the forecasted one, also denoted as $\\bar{p}_j$. The realized renewable energy output of generator $j \\in \\mathcal{G}^{\\text{wind}} \\cup \\mathcal{G}^{\\text{solar}}$, however, shall deviate from their forecast values, by an amount $\\Delta_j$, and result in a power production of\n",
    "\n",
    "$$\n",
    "p_j = \\bar{p}_j + \\Delta_j, \\quad  j \\in \\mathcal{G}^{\\text{wind}} \\cup \\mathcal{G}^{\\text{solar}}\n",
    "$$\n",
    "\n",
    "Then, the conventional generators need to take a _recourse action_ to make sure that the network is balanced, i.e., that the total energy production equals the total energy demand. This means that the problem has a two-stage structure:\n",
    "- first, the 'nominal' energy generation levels are set for the coal and gas units\n",
    "- then, the actual renewable energy output of the wind/solar generators is observed\n",
    "- power generation levels of the coal and gas units need to be adapted.\n",
    "\n",
    "If we were optimizing for the average-case total cost, then a proper two-stage formulation of our problem would be as follows:\n",
    "\n",
    "$$\n",
    "\\begin{align*}\n",
    "\\begin{array}{llll}\n",
    "\\min \\quad & \\sum_{i \\in \\mathcal{G}^{\\text{coal}} \\cup \\mathcal{G}^{\\text{gas}}} c_i(\\bar{p}_i) +  \\mathbb{E} Q(\\bar{p}, \\Delta) \\\\\n",
    "\\text{s.t.} \\quad & p_{i}^{\\min } \\leq \\bar{p}_{i} \\leq p_{i}^{\\max } & \\forall i \\in \\mathcal{G}^{\\text{coal}} \\cup \\mathcal{G}^{\\text{gas}}\n",
    "\\end{array}\n",
    "\\end{align*}\n",
    "$$\n",
    "where the second stage problem is\n",
    "$$\n",
    "\\begin{align*}\n",
    "\\begin{array}{lllll}\n",
    "Q(\\bar{p},\\Delta) := &\\min \\quad & \\sum_{i \\in \\mathcal{G}^{\\text{coal}} \\cup \\mathcal{G}^{\\text{gas}}} \\hat{c}_i(r_i) \\\\\n",
    "&\\text{s.t.} \\quad & p_i = \\bar{p}_i + r_i & \\forall \\, i \\in \\mathcal{G}^{\\text{coal}} \\cup \\mathcal{G}^{\\text{gas}} \\\\\n",
    "&& p_{i}^{\\min } \\leq p_{i} \\leq p_{i}^{\\max } & \\forall \\, i \\in \\mathcal{G}^{\\text{coal}} \\cup \\mathcal{G}^{\\text{gas}} \\\\\n",
    "&& \\sum_{j: (i, j) \\in E} f_{ij} - \\sum_{j: (j, i) \\in E} f_{ji} = p_i - d_i & \\forall \\, i \\in \\mathcal{G}^{\\text{coal}} \\cup \\mathcal{G}^{\\text{gas}} \\\\\n",
    "&& \\sum_{j: (i, j) \\in E} f_{ij} - \\sum_{j: (j, i) \\in E} f_{ji} = \\bar{p}_i + \\Delta_i - d_i & \\forall \\, i \\in \\mathcal{G}^{\\text{wind}} \\cup \\mathcal{G}^{\\text{solar}}\\\\\n",
    "&& \\sum_{j: (i, j) \\in E} f_{ij} - \\sum_{j: (j, i) \\in E} f_{ji} = \\bar{p}_i - d_i & \\forall \\, i \\in V \\setminus (\\mathcal{G}^{\\text{wind}} \\cup \\mathcal{G}^{\\text{solar}} \\cup \\mathcal{G}^{\\text{coal}} \\cup \\mathcal{G}^{\\text{gas}}) \\\\\n",
    "&& f_{ij} =  b_{ij}(\\theta_i - \\theta_j), & \\forall \\, (i, j) \\in E \\\\\n",
    "&& -f_{ij}^{\\max} \\leq f_{ij} \\leq  f_{ij}^{\\max}    & \\forall \\, (i, j) \\in E\\\\\n",
    "&& \\theta_i \\in \\mathbb{R} & \\forall \\, i \\in V \\\\\n",
    "&& f_{ij} \\in \\mathbb{R} & \\forall \\, (i, j) \\in E\\\\\n",
    "&& r_i \\in \\mathbb{R} & \\forall \\, i \\in \\mathcal{G}^{\\text{coal}} \\cup \\mathcal{G}^{\\text{gas}},\n",
    "\\end{array}\n",
    "\\end{align*}\n",
    "$$\n",
    "\n",
    "where $c_i(.)$ and $\\hat{c}_i(.)$ are the cost functions related to the pre-committed $\\bar{p}_i$ and changed $r_i$ amounts of energy, remembering that among $\\bar{p}_i$'s, only those with $i \\in \\mathcal{G}^{\\text{coal}} \\cup \\mathcal{G}^{\\text{gas}}$ are actual decision variables while $\\bar{p}_i$, $i \\in \\mathcal{G}^{\\text{solar}} \\cup \\mathcal{G}^{\\text{wind}}$ are known parameters (think of them as wind and solar power forecasts).\n",
    "\n",
    "In the [OPF problem with wind curtailment](../10/opf-wind-curtailment.ipynb) we solved a similar problem using the SAA method. More specifically, we generated a number of scenarios for the unknown parameters and combined the second-stage problems related to each of these scenarios with the single first-stage problem obtaining one large MILO problem.\n",
    "In this notebook, we are going to use a slightly different approach, namely implementing a specific type of linear decision rules. For each conventional generator, we set a recourse action, that is real-time adjustment of its power production, based on the realization of the renewable energy. More specifically, each conventional generator $i \\in \\mathcal{G}^{\\text{coal}} \\cup \\mathcal{G}^{\\text{gas}}$ has a _participation factor_ $\\alpha_i \\geq 0$ which determines to which extent that generator responds to the total imbalance $\\sum_j \\Delta_j$. Specifically, the power production _after the recourse action_ at the conventional generator $i$ is denoted by $p_i$ and is given by\n",
    "\n",
    "$$\n",
    "p_i := \\bar{p}_i - \\alpha_i \\sum_{j \\in \\mathcal{G}^{\\text{wind}} \\cup \\mathcal{G}^{\\text{solar}}} \\Delta_j, \\qquad i \\in \\mathcal{G}^{\\text{coal}} \\cup \\mathcal{G}^{\\text{gas}}\n",
    "$$\n",
    "\n",
    "In the notation of the problem above, we picked the recourse action $r_i$ to be a function of the uncertain parameters $\\Delta$'s rather than a decision variable, since\n",
    "\n",
    "$$\n",
    "r_i = - \\alpha_i \\sum_{j \\in \\mathcal{G}^{\\text{wind}} \\cup \\mathcal{G}^{\\text{solar}}} \\Delta_j.\n",
    "$$\n",
    "\n",
    "The participation factor $\\alpha_i \\in [0,1]$ indicates the fraction of the power imbalance that generator $i$ needs to help compensate. To ensure that the power balance is satisfied, we need to have $\\sum_{i \\in \\mathcal{G}^{\\text{coal}} \\cup \\mathcal{G}^{\\text{gas}}} \\alpha_i = 1$. Indeed, in this case, assuming the power was balanced in the first stage, i.e., $\\sum_{i \\in \\mathcal{G}} p_i - \\sum_{i \\in V} d_i =0$, then the net power balance after the second stage is\n",
    "\n",
    "$$\n",
    "\\begin{align*}\n",
    "\\sum_{i \\in \\mathcal{G}} p_i - \\sum_{i \\in V} d_i \n",
    "&= \\sum_{j \\in \\mathcal{G}^{\\text{wind}} \\cup \\mathcal{G}^{\\text{solar}}} (\\bar{p}_j + \\Delta_j) + \\sum_{i \\in \\mathcal{G}^{\\text{coal}} \\cup \\mathcal{G}^{\\text{gas}}} (\\bar{p}_i - \\alpha_i \\sum_{j \\in \\mathcal{G}^{\\text{wind}} \\cup \\mathcal{G}^{\\text{solar}}} \\Delta_j) - \\sum_{i \\in V} d_i\\\\\n",
    "&= \\sum_{j \\in \\mathcal{G}^{\\text{wind}} \\cup \\mathcal{G}^{\\text{solar}}} \\Delta_j - \\sum_{j \\in \\mathcal{G}^{\\text{wind}} \\cup \\mathcal{G}^{\\text{solar}}}  \\left (\\sum_{i \\in \\mathcal{G}^{\\text{coal}} \\cup \\mathcal{G}^{\\text{gas}}} \\alpha_i \\right) \\Delta_j + \\sum_{i \\in \\mathcal{G}} \\bar{p}_i - \\sum_{i \\in V} d_i \\\\\n",
    "& = \\sum_{i \\in \\mathcal{G}} \\bar{p}_i - \\sum_{i \\in V} d_i = 0\n",
    "\\end{align*}\n",
    "$$\n",
    "\n",
    "The participation factors $\\alpha_i$'s do not have to be equal for all generators and in fact, they can be optimized jointly together with the initial power levels $p_i$. Since the energy produced as recourse action is more expensive, we account for this by adding to the objective function the cost term $\\sum_{i \\in \\mathcal{G}^{\\text{coal}} \\cup \\mathcal{G}^{\\text{gas}}} \\hat{c}_i(\\alpha_i \\sum_{j \\in \\mathcal{G}^{\\text{wind}} \\cup \\mathcal{G}^{\\text{solar}}} \\Delta_j)$ for some cost functions $\\hat{c}_i(.)$.\n",
    "\n",
    "The resulting two-stage stochastic problem is\n",
    "$$\n",
    "\\begin{align*}\n",
    "\\begin{array}{llll}\n",
    "\\min \\quad & \\sum_{i \\in \\mathcal{G}^{\\text{coal}} \\cup \\mathcal{G}^{\\text{gas}}} c_i(\\bar{p}_i) + \\mathbb{E} Q(\\bar{p}, \\alpha, \\Delta) \\\\\n",
    "\\text{s.t.} \\quad \n",
    "& \\sum_{i \\in \\mathcal{G}^{\\text{coal}} \\cup \\mathcal{G}^{\\text{gas}}} \\alpha_i = 1 \\\\\n",
    "& p_{i}^{\\min } \\leq \\bar{p}_{i} \\leq p_{i}^{\\max } & \\forall i \\in \\mathcal{G}^{\\text{coal}} \\cup \\mathcal{G}^{\\text{gas}} \\\\\n",
    "& \\alpha_i \\geq 0 & \\forall i \\in \\mathcal{G}^{\\text{coal}} \\cup \\mathcal{G}^{\\text{gas}}\n",
    "\\end{array}\n",
    "\\end{align*}\n",
    "$$\n",
    "where the second stage problem is\n",
    "$$\n",
    "\\begin{align*}\n",
    "\\begin{array}{lllll}\n",
    "Q(\\bar{p},\\alpha,\\Delta) := &\\min \\quad & \\sum_{i \\in \\mathcal{G}^{\\text{coal}} \\cup \\mathcal{G}^{\\text{gas}}} \\hat{c}_i(\\alpha_i \\sum_{j \\in \\mathcal{G}^{\\text{wind}} \\cup \\mathcal{G}^{\\text{solar}}} \\Delta_j) \\\\\n",
    "&\\text{s.t.} \\quad & p_{i}^{\\min } \\leq p_i - \\alpha_i \\sum_{j \\in \\mathcal{G}^{\\text{wind}} \\cup \\mathcal{G}^{\\text{solar}}} \\Delta_j \\leq p_{i}^{\\max } & \\forall i \\in \\mathcal{G}^{\\text{coal}} \\cup \\mathcal{G}^{\\text{gas}} \\\\\n",
    "&& \\sum_{j: (i, j) \\in E} f_{ij} - \\sum_{j: (j, i) \\in E} f_{ji} = \\bar{p}_i - \\alpha_i \\sum_{j \\in \\mathcal{G}^{\\text{wind}} \\cup \\mathcal{G}^{\\text{solar}}} \\Delta_j - d_i & \\forall \\, i \\in \\mathcal{G}^{\\text{coal}} \\cup \\mathcal{G}^{\\text{gas}} \\\\\n",
    "&& \\sum_{j: (i, j) \\in E} f_{ij} - \\sum_{j: (j, i) \\in E} f_{ji} = \\bar{p}_i + \\Delta_i - d_i & \\forall \\, i \\in \\mathcal{G}^{\\text{wind}} \\cup \\mathcal{G}^{\\text{solar}}\\\\\n",
    "&& \\sum_{j: (i, j) \\in E} f_{ij} - \\sum_{j: (j, i) \\in E} f_{ji} = \\bar{p}_i - d_i & \\forall \\, i \\in V \\setminus (\\mathcal{G}^{\\text{wind}} \\cup \\mathcal{G}^{\\text{solar}} \\cup \\mathcal{G}^{\\text{coal}} \\cup \\mathcal{G}^{\\text{gas}}) \\\\\n",
    "&& f_{ij} =  b_{ij}(\\theta_i - \\theta_j), & \\forall \\, (i, j) \\in E \\\\\n",
    "&& -f_{ij}^{\\max} \\leq f_{ij} \\leq  f_{ij}^{\\max}    & \\forall (i, j) \\in E\\\\\n",
    "&& \\theta_i \\in \\mathbb{R} & \\forall i \\in V \\\\\n",
    "&& f_{ij} \\in \\mathbb{R}  & \\forall (i, j) \\in E.\n",
    "\\end{array}\n",
    "\\end{align*}\n",
    "$$\n",
    "\n",
    "The only remaining question is where to take the values for $\\Delta_j$'s from. One way of doing things would be to construct an uncertainty set for $\\Delta_j$ and make sure that the inequality constraints hold for all realizations of $\\Delta_j$ using the technique of robust counterparts/adversarial approach from Chapter 8. This would be a solid approach if we were optimizing for the worst-case value of the objective function, instead of an expectation.\n",
    "\n",
    "However, since in this particular application we optimize for the expected value it makes sense for us to resort to the SAA method. More specifically, we sample $T$ realizations of the renewable fluctuations $\\Delta$'s, denoted as $\\{\\Delta^s\\}_{s=1,\\dots,T}$, and we approximate the expectation through an empirical average across all those samples while enforcing that the constraints hold for every such realization. In this way, the resulting problem we actually solve is:\n",
    "\n",
    "$$\n",
    "\\begin{align*}\n",
    "\\begin{array}{llll}\n",
    "& \\min \\quad & \\sum_{i \\in \\mathcal{G}^{\\text{coal}} \\cup \\mathcal{G}^{\\text{gas}}} c_i(\\bar{p}_i) + \\frac{1}{T} \\sum\\limits_{s = 1}^T  \\sum_{i \\in \\mathcal{G}^{\\text{coal}} \\cup \\mathcal{G}^{\\text{gas}}} \\hat{c}_i(\\alpha_i \\sum_{j \\in \\mathcal{G}^{\\text{wind}} \\cup \\mathcal{G}^{\\text{solar}}} \\Delta_j^s)\\\\\n",
    "& \\text{s.t.} \\quad & p_{i}^{\\min } \\leq \\bar{p}_i - \\alpha_i \\sum_{j \\in \\mathcal{G}^{\\text{wind}} \\cup \\mathcal{G}^{\\text{solar}}} \\Delta_j^s \\leq p_{i}^{\\max } & \\forall i \\in \\mathcal{G}^{\\text{coal}} \\cup \\mathcal{G}^{\\text{gas}}, \\, \\forall s = 1, \\ldots, T \\\\\n",
    "&& \\sum_{j: (i, j) \\in E} f_{ij}^s - \\sum_{j: (j, i) \\in E} f_{ji}^s = \\bar{p}_i - \\alpha_i \\sum_{j \\in \\mathcal{G}^{\\text{wind}} \\cup \\mathcal{G}^{\\text{solar}}} \\Delta_j^s - d_i & \\forall \\, i \\in \\mathcal{G}^{\\text{coal}} \\cup \\mathcal{G}^{\\text{gas}}, \\, \\forall s = 1, \\ldots, T\\\\\n",
    "&& \\sum_{j: (i, j) \\in E} f_{ij}^s - \\sum_{j: (j, i) \\in E} f_{ji}^s = \\bar{p}_i + \\Delta_i^s - d_i & \\forall \\, i \\in \\mathcal{G}^{\\text{wind}} \\cup \\mathcal{G}^{\\text{solar}}, \\, \\forall s = 1, \\ldots, T\\\\\n",
    "&& \\sum_{j: (i, j) \\in E} f_{ij}^s - \\sum_{j: (j, i) \\in E} f_{ji}^s = \\bar{p}_i - d_i & \\forall \\, i \\in V \\setminus (\\mathcal{G}^{\\text{wind}} \\cup \\mathcal{G}^{\\text{solar}} \\cup \\mathcal{G}^{\\text{coal}} \\cup \\mathcal{G}^{\\text{gas}}), \\, \\forall s = 1, \\ldots, T\\\\\n",
    "&& f_{ij}^s =  b_{ij}(\\theta_i^s - \\theta_j^s), & \\forall \\, (i, j) \\in E, \\, \\forall s = 1, \\ldots, T\\\\\n",
    "&& -f_{ij}^{\\max} \\leq f_{ij}^s \\leq  f_{ij}^{\\max}    & \\forall (i, j) \\in E, \\, \\forall s = 1, \\ldots, T\\\\\n",
    "&& \\theta_i^s \\in \\mathbb{R} & \\forall i \\in V, \\, \\forall s = 1, \\ldots, T \\\\\n",
    "&& f_{ij}^s \\in \\mathbb{R} & \\forall (i, j) \\in E, \\, \\forall s = 1, \\ldots, T\\\\\n",
    "&& \\sum_{i \\in \\mathcal{G}^{\\text{coal}} \\cup \\mathcal{G}^{\\text{gas}}} \\alpha_i = 1 \\\\\n",
    "&& p_{i}^{\\min } \\leq \\bar{p}_{i} \\leq p_{i}^{\\max } & \\forall i \\in \\mathcal{G}^{\\text{coal}} \\cup \\mathcal{G}^{\\text{gas}} \\\\\n",
    "&& \\alpha_i \\geq 0 & \\forall i \\in \\mathcal{G}^{\\text{coal}} \\cup \\mathcal{G}^{\\text{gas}}.\n",
    "\\end{array}\n",
    "\\end{align*}\n",
    "$$\n",
    "\n",
    "To recover a linear problem, we assume that the energy generation costs are modeled as:\n",
    "$$\n",
    "\\begin{align*}\n",
    "    c_i(x) := c_i x, \\quad \\hat{c}_i(x) = 2 c_i |x|,\n",
    "\\end{align*}\n",
    "$$\n",
    "where $c_i$ is the unit production cost of the $i$-th generator. This structure for the $\\hat{c}_i(\\cdot)$ functions means we assume that any real-time adjustment in the energy dispatch of a generator is twice as costly as a pre-scheduled unit of energy generated there."
   ]
  },
  {
   "cell_type": "markdown",
   "metadata": {
    "id": "BOJKv8sSuuV1"
   },
   "source": [
    "## AMPL solution"
   ]
  },
  {
   "cell_type": "markdown",
   "metadata": {
    "id": "DYkkFfFaKMRG"
   },
   "source": [
    "### Data imports\n",
    "\n",
    "Importantly for our problem, the variable costs of producing a unit of energy per generator are stored in their corresponding 'c_var' attributes. For the rest, we are using the same data elements as in the [OPF problem with wind curtailment](../10/opf-wind-curtailment.ipynb)."
   ]
  },
  {
   "cell_type": "code",
   "execution_count": 3,
   "metadata": {
    "id": "wKwPFK-PKi7-"
   },
   "outputs": [],
   "source": [
    "# Download the data\n",
    "base_url = (\n",
    "    \"https://raw.githubusercontent.com/fdabrandao/MO-book-with-AMPL/dev/notebooks/10/\"\n",
    ")\n",
    "nodes_df = pd.read_csv(base_url + \"nodes.csv\").set_index(\"node_id\")\n",
    "edges_df = pd.read_csv(base_url + \"edges.csv\").set_index([\"node_id1\", \"node_id2\"])\n",
    "\n",
    "# Replace 'na' by an empty string\n",
    "nodes_df.fillna(\"\", inplace=True)\n",
    "# Rename column acording to the model\n",
    "nodes_df.rename(columns={\"c_var\": \"c\"}, inplace=True)\n",
    "# Remove unused column\n",
    "nodes_df.drop([\"c_fixed\"], axis=1, inplace=True)\n",
    "\n",
    "network = {\"nodes\": nodes_df, \"edges\": edges_df}"
   ]
  },
  {
   "cell_type": "markdown",
   "metadata": {},
   "source": [
    "### SAA implementation\n",
    "\n",
    "The following cell is the AMPL function implementation of our final optimization problem above, with an optional argument indicating if the participation factors should be taken as uniform across all conventional generators. For ease of accounting for the second-stage costs $\\hat{c}_i(\\cdot)$, we assume that the function takes as an argument not only a list of scenarios for the renewable energy generation, but also the corresponding total and absolute values of the imbalances in the network."
   ]
  },
  {
   "cell_type": "code",
   "execution_count": 4,
   "metadata": {},
   "outputs": [
    {
     "name": "stdout",
     "output_type": "stream",
     "text": [
      "Overwriting opf_ldr.mod\n"
     ]
    }
   ],
   "source": [
    "%%writefile opf_ldr.mod\n",
    "\n",
    "# Define sets\n",
    "set T;\n",
    "set V;\n",
    "set E within V cross V;\n",
    "\n",
    "set SWH;\n",
    "set CG;\n",
    "set NG;\n",
    "\n",
    "# Define parameters\n",
    "param uniformparticipationfactors;\n",
    "\n",
    "param p_min{V} >= 0;\n",
    "param p_max{i in V} >= p_min[i];\n",
    "param is_generator{V};\n",
    "param energy_type{V} symbolic;\n",
    "param c{V};\n",
    "param d{V};\n",
    "\n",
    "param abs_total_imbalance{T} >= 0;\n",
    "param total_imbalance{T};\n",
    "param nT := card(T);\n",
    "\n",
    "param b{E};\n",
    "param f_max{E};\n",
    "\n",
    "param imbalances{T, V};\n",
    "\n",
    "# Declare decision variables\n",
    "var p{i in V} >= p_min[i], <= p_max[i];\n",
    "var r{V, T} >= 0;\n",
    "var alpha{V} >= 0, <= 1;\n",
    "var theta{V, T};\n",
    "var f{E, T};\n",
    "\n",
    "# Declare objective function including the recourse actions\n",
    "minimize obj:\n",
    "    sum{i in V: is_generator[i] == 1} c[i] * p[i] +\n",
    "    1 / nT * sum{t in T, i in V: energy_type[i] == \"coal\" or energy_type[i] == \"gas\"}\n",
    "        2 * c[i] * alpha[i] * abs_total_imbalance[t];\n",
    "\n",
    "# Declare constraints\n",
    "s.t. windsolarhydro_nopartecipationfactors {i in SWH}: alpha[i] = 0;\n",
    "s.t. load_nopartecipationfactors {i in NG}: alpha[i] = 0;\n",
    "s.t. sum_one: sum{i in V} alpha[i] = 1;\n",
    "s.t. uniformparticipationfactors_check {i in CG}:\n",
    "    uniformparticipationfactors == 1 ==> alpha[i] = 1 / card(CG);\n",
    "\n",
    "# Second-stage production levels must also meet generator limits\n",
    "s.t. power_withrecourse {i in V, t in T}:\n",
    "    r[i, t] = p[i] - alpha[i] * total_imbalance[t];\n",
    "\n",
    "s.t. generation_upper_bound_withrecourse {i in CG, t in T}:\n",
    "    r[i, t] <= p_max[i];\n",
    "\n",
    "s.t. generation_lower_bound_withrecourse {i in CG, t in T}:\n",
    "    r[i, t] >= p_min[i];\n",
    "\n",
    "# Expressions for outgoing and incoming flows\n",
    "s.t. flow_conservation {i in V, t in T}:\n",
    "    sum{(j, i) in E} f[j, i, t] - \n",
    "    sum{(i, j) in E} f[i, j, t]\n",
    "    == r[i, t] + imbalances[t, i] - d[i];\n",
    "\n",
    "s.t. susceptance {(i, j) in E, t in T}:\n",
    "    f[i, j, t] = b[i, j] * (theta[i, t] - theta[j, t]);\n",
    "\n",
    "s.t. flows_upper_bound {(i, j) in E, t in T}:\n",
    "    f[i, j, t] <= f_max[i, j];\n",
    "\n",
    "s.t. flows_lower_bound {(i, j) in E, t in T}:\n",
    "    -f[i, j, t] <= f_max[i, j];"
   ]
  },
  {
   "cell_type": "code",
   "execution_count": 5,
   "metadata": {},
   "outputs": [],
   "source": [
    "# Define an OPF problem with recourse actions for the conventional generators based on participation factors\n",
    "def OPF_participationfactors(\n",
    "    network,\n",
    "    imbalances,\n",
    "    totalimbalances,\n",
    "    abstotalimbalances,\n",
    "    uniformparticipationfactors=False,\n",
    "):\n",
    "    nimbalances = len(imbalances)\n",
    "\n",
    "    temp = {}\n",
    "    for i, j in enumerate(imbalances):\n",
    "        for k, v in j.items():\n",
    "            temp[i, k] = v\n",
    "\n",
    "    imbalances = temp\n",
    "\n",
    "    nodes_df = network[\"nodes\"]\n",
    "    edges_df = network[\"edges\"]\n",
    "\n",
    "    ampl = AMPL()\n",
    "    ampl.read(\"opf_ldr.mod\")\n",
    "\n",
    "    # load data in pandas data frames\n",
    "    ampl.set_data(nodes_df, \"V\")\n",
    "    ampl.set_data(edges_df, \"E\")\n",
    "\n",
    "    # data for remaining sets\n",
    "    ampl.set[\"T\"] = list(range(nimbalances))\n",
    "    ampl.set[\"SWH\"] = nodes_df[\n",
    "        nodes_df[\"energy_type\"].isin([\"wind\", \"solar\", \"hydro\"])\n",
    "    ].index\n",
    "    ampl.set[\"CG\"] = nodes_df[nodes_df[\"energy_type\"].isin([\"coal\", \"gas\"])].index\n",
    "    ampl.set[\"NG\"] = nodes_df[nodes_df[\"energy_type\"].eq(\"\")].index\n",
    "\n",
    "    # data for parameters\n",
    "    ampl.param[\"abs_total_imbalance\"] = abstotalimbalances\n",
    "    ampl.param[\"total_imbalance\"] = totalimbalances\n",
    "    ampl.param[\"uniformparticipationfactors\"] = 1 if uniformparticipationfactors else 0\n",
    "    ampl.param[\"imbalances\"] = imbalances\n",
    "\n",
    "    ampl.option[\"solver\"] = \"highs\"\n",
    "    ampl.option[\"presolve\"] = 0  # or change presolve_eps\n",
    "    ampl.get_output(\"solve;\")\n",
    "\n",
    "    return ampl"
   ]
  },
  {
   "cell_type": "markdown",
   "metadata": {},
   "source": [
    "### Scenario generation\n",
    "Next, we generate $T=100$ scenarios in which the wind and solar production deviate from the forecasted values. Such deviations, named *imbalances*, are generated uniformly at random assuming the realized wind or solar power is between 0.5 and 1.5 times the forecasted value.\n",
    "\n",
    "For ease of calculations, for each scenario, we define a separate data structure with the total energy imbalance and the total absolute imbalance."
   ]
  },
  {
   "cell_type": "code",
   "execution_count": 6,
   "metadata": {},
   "outputs": [],
   "source": [
    "# Define the set of nodes with possible deviations from forecasts, i.e. those with either a wind or a solar generator\n",
    "SW = {48, 53, 58, 60, 64, 65}\n",
    "SW_df = nodes_df[nodes_df.index.isin(SW)]\n",
    "\n",
    "# Define the number of scenarios and the random seed\n",
    "T = 100\n",
    "seed = 0\n",
    "rng = np.random.default_rng(seed)\n",
    "\n",
    "# Imbalances are generated uniformly at random assuming the realized\n",
    "# wind or solar power is between 0.5 and 1.5 times the forecasted value\n",
    "imbalances = [\n",
    "    {\n",
    "        i: rng.uniform(-nodes_df[\"p_min\"][i] / 2, nodes_df[\"p_min\"][i] / 2)\n",
    "        if i in SW\n",
    "        else 0\n",
    "        for i in nodes_df.index\n",
    "    }\n",
    "    for t in range(T)\n",
    "]\n",
    "totalimbalances = {t: sum(imbalances[t].values()) for t in range(len(imbalances))}\n",
    "abstotalimbalances = {t: abs(totalimbalances[t]) for t in range(len(totalimbalances))}"
   ]
  },
  {
   "cell_type": "markdown",
   "metadata": {},
   "source": [
    "### Perfect forecast case (no imbalances)\n",
    "\n",
    "We first solve the optimization model in the case where the forecast for solar and wind power are perfect, meaning there is no imbalance. In this case, the recourse actions are not needed and the second stage part of the problem is trivial. "
   ]
  },
  {
   "cell_type": "code",
   "execution_count": 7,
   "metadata": {
    "scrolled": true
   },
   "outputs": [
    {
     "name": "stdout",
     "output_type": "stream",
     "text": [
      "First-stage energy production cost = 40385.16\n",
      "The optimal production levels for the conventional generators are: [135.69, 227.38, 235.31, 371.35, 0, 0, 298.39, 336.95, 0, 0]\n"
     ]
    }
   ],
   "source": [
    "# Define trivial arrays for the case of perfect forecast and no need of recourse actions\n",
    "zeroimbalances = [{i: 0 for i in nodes_df.index}]\n",
    "zerototalimbalances = {0: sum(zeroimbalances[0].values())}\n",
    "zeroabstotalimbalances = {0: abs(zerototalimbalances[0])}\n",
    "\n",
    "# Solve the model\n",
    "m = OPF_participationfactors(\n",
    "    network,\n",
    "    zeroimbalances,\n",
    "    zerototalimbalances,\n",
    "    zeroabstotalimbalances,\n",
    "    uniformparticipationfactors=True,\n",
    ")\n",
    "firststagecost = get_firststagecost(m)\n",
    "print(f\"First-stage energy production cost = {firststagecost:.2f}\")\n",
    "\n",
    "print(\n",
    "    f\"The optimal production levels for the conventional generators are: {get_optimal_production_levels(m)}\"\n",
    ")"
   ]
  },
  {
   "cell_type": "markdown",
   "metadata": {},
   "source": [
    "It is key to understand how this solution would perform if there were perturbations in renewable energy production.\n",
    "\n",
    "First of all, it is not guaranteed that it is possible to find a feasible solution in such a case. Following an approach similar to that of the [OPF problem with wind curtailment](../10/opf-wind-curtailment.ipynb), one can solve for the remaining variables when keeping the initial solution $\\bar{p}$ fixed and check that with uniform participation factors, it is not possible to find a feasible flow in any of the scenarios we consider. If instead we allow for non-uniform participation factors, then this is not possible in 13 out of 100 scenarios.\n",
    "\n",
    "Putting the feasibility issues aside for a moment, let us check how much extra cost would there be with uniform participation factors would there be on average across our scenarios. We can calculate this by taking the total imbalance and computing the cost of the recourse action to cover it, assuming that every coal and gas generator adjusts its production proportionally to the optimal participation factor previously obtained."
   ]
  },
  {
   "cell_type": "code",
   "execution_count": 8,
   "metadata": {},
   "outputs": [
    {
     "name": "stdout",
     "output_type": "stream",
     "text": [
      "Average energy production cost due to recourse actions = 5354.25 (but including many infeasible scenarios!)\n",
      "Average total cost = 45739.41 (but including many infeasible scenarios!)\n"
     ]
    }
   ],
   "source": [
    "averagerecoursecost = get_averagerecoursecost(m, nodes_df, T, abstotalimbalances)\n",
    "\n",
    "averagetotalcost = m.obj[\"obj\"].value() + averagerecoursecost\n",
    "print(\n",
    "    f\"Average energy production cost due to recourse actions = {averagerecoursecost:.2f} (but including many infeasible scenarios!)\"\n",
    ")\n",
    "print(\n",
    "    f\"Average total cost = {averagetotalcost:.2f} (but including many infeasible scenarios!)\"\n",
    ")"
   ]
  },
  {
   "cell_type": "markdown",
   "metadata": {},
   "source": [
    "### Stochastic case (nonzero imbalances)\n",
    "\n",
    "If we assume that the forecast for solar and wind power is not perfect, then the total energy imbalance in the network will be nonzero in each scenario. The resulting average total cost of energy production would be much higher than the deterministic scenario. This is intuitive because recourse actions are needed to cover the imbalance, and the recourse actions are much more expensive than the first-stage production-level decisions.\n",
    "\n",
    "We now solve the two-stage stochastic optimization model that accounts for the fluctuations of solar and wind power from their forecasts, using the 100 generated scenarios. In this case, the recourse actions are still needed, but we assume fixed uniform participation factors equal to $0.1$ for all the ten conventional generators in $\\in \\mathcal{G}^{\\text{coal}} \\cup \\mathcal{G}^{\\text{gas}}$."
   ]
  },
  {
   "cell_type": "code",
   "execution_count": 9,
   "metadata": {},
   "outputs": [
    {
     "name": "stdout",
     "output_type": "stream",
     "text": [
      "The optimal production levels for the conventional generators are [127.0, 205.65, 213.57, 349.62, 27.39, 27.39, 276.66, 323.04, 27.39, 27.39]\n",
      "The participation factors for the conventional generators are [0.1, 0.1, 0.1, 0.1, 0.1, 0.1, 0.1, 0.1, 0.1, 0.1]\n",
      "\n",
      "First-stage energy production cost = 41719.19\n",
      "Average energy production cost due to recourse actions = 5354.25\n",
      "Total cost = 47073.44\n"
     ]
    }
   ],
   "source": [
    "m = OPF_participationfactors(\n",
    "    network,\n",
    "    imbalances,\n",
    "    totalimbalances,\n",
    "    abstotalimbalances,\n",
    "    uniformparticipationfactors=True,\n",
    ")\n",
    "\n",
    "print(\n",
    "    \"The optimal production levels for the conventional generators are\",\n",
    "    get_optimal_production_levels(m),\n",
    ")\n",
    "\n",
    "q = [i[1] for i in m.get_data(\"{i in CG} alpha[i]\")]\n",
    "print(\n",
    "    \"The participation factors for the conventional generators are\",\n",
    "    [np.round(i, 2) for i in q],\n",
    ")\n",
    "\n",
    "firststagecost = get_firststagecost(m)\n",
    "averagerecoursecost = get_averagerecoursecost(m, nodes_df, T, abstotalimbalances)\n",
    "\n",
    "print(f\"\\nFirst-stage energy production cost = {firststagecost:.2f}\")\n",
    "print(\n",
    "    f\"Average energy production cost due to recourse actions = {averagerecoursecost:.2f}\"\n",
    ")\n",
    "print(f\"Total cost = {m.obj['obj'].value():.2f}\")"
   ]
  },
  {
   "cell_type": "markdown",
   "metadata": {},
   "source": [
    "We see that the total average production cost is slightly higher than in the first \"perfect forecast\" nominal scenario, but the benefit of this newly obtained solution is that we are sure that in all scenarios we have a feasible power flow dispatch.\n",
    "\n",
    "We argue that using this solution should be preferable: even if the 'nominal' solution had a slightly lower average production cost, we need to factor in how costly will it be for the network operator when the solution becomes infeasible. Having an infeasible network configuration means there is a risk of cascading failures and/or blackout, which besides possibly damaging the infrastructure is dramatically more expensive from a financial and societal perspective, and having a 13% chance of this happening is just unaffordable.\n",
    "\n",
    "Next, we also optimize the participation factors $\\alpha_i$'s jointly with the initial power levels, to see if we can achieve a reduction in the average total cost. We can do this using the same function as before but changing the argument ``uniformparticipationfactors`` to ``False``."
   ]
  },
  {
   "cell_type": "code",
   "execution_count": 10,
   "metadata": {},
   "outputs": [
    {
     "name": "stdout",
     "output_type": "stream",
     "text": [
      "The optimal production levels for the conventional generators are [134.75, 227.38, 235.31, 371.35, 0, 0, 298.39, 281.66, 0, 56.24]\n",
      "The optimal participation factors for the conventional generators are [0.06, 0, -0.0, -0.0, 0, 0, 0, 0.73, 0, 0.21]\n",
      "\n",
      "First-stage energy production cost = 40446.13\n",
      "Average energy production cost due to recourse actions = 5969.05\n",
      "Total cost = 46415.18\n"
     ]
    }
   ],
   "source": [
    "m = OPF_participationfactors(\n",
    "    network,\n",
    "    imbalances,\n",
    "    totalimbalances,\n",
    "    abstotalimbalances,\n",
    "    uniformparticipationfactors=False,\n",
    ")\n",
    "print(\n",
    "    \"The optimal production levels for the conventional generators are\",\n",
    "    get_optimal_production_levels(m),\n",
    ")\n",
    "print(\n",
    "    \"The optimal participation factors for the conventional generators are\",\n",
    "    get_participation_factors(m),\n",
    ")\n",
    "\n",
    "firststagecost = get_firststagecost(m)\n",
    "averagerecoursecost = get_averagerecoursecost(m, nodes_df, T, abstotalimbalances)\n",
    "\n",
    "print(f\"\\nFirst-stage energy production cost = {firststagecost:.2f}\")\n",
    "print(\n",
    "    f\"Average energy production cost due to recourse actions = {averagerecoursecost:.2f}\"\n",
    ")\n",
    "print(f\"Total cost = {m.obj['obj'].value():.2f}\")"
   ]
  },
  {
   "cell_type": "markdown",
   "metadata": {},
   "source": [
    "This energy dispatch is about 1.4% cheaper than the solution with uniform participation factors. It might seem like a small difference but in view of the high volumes of energy produced and consumed, say at the national level, this makes a huge difference."
   ]
  }
 ],
 "metadata": {
  "kernelspec": {
   "display_name": "Python 3 (ipykernel)",
   "language": "python",
   "name": "python3"
  },
  "language_info": {
   "codemirror_mode": {
    "name": "ipython",
    "version": 3
   },
   "file_extension": ".py",
   "mimetype": "text/x-python",
   "name": "python",
   "nbconvert_exporter": "python",
   "pygments_lexer": "ipython3",
   "version": "3.10.12"
  },
  "vscode": {
   "interpreter": {
    "hash": "96c80cd78af1433053b8f057723d5c1af154f81d1718cfecf4b67cabd3ea98cf"
   }
  }
 },
 "nbformat": 4,
 "nbformat_minor": 4
}
