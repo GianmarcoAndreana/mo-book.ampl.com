{
 "cells": [
  {
   "cell_type": "markdown",
   "metadata": {
    "id": "TP7ReUS8K3iE"
   },
   "source": [
    "# Robust BIM microchip production problem"
   ]
  },
  {
   "cell_type": "code",
   "execution_count": 1,
   "metadata": {
    "id": "69kabDUFLFPt"
   },
   "outputs": [],
   "source": [
    "# install dependencies and select solver\n",
    "!pip install -q amplpy numpy pandas matplotlib\n",
    "\n",
    "SOLVER_MILP = \"highs\"  ## highs, scip, cbc, mosek, gurobi\n",
    "SOLVER_NLO = \"ipopt\"\n",
    "SOLVER_MINLO = \"bonmin\"  ## mosek, scip, gurobi, knitro"
   ]
  },
  {
   "cell_type": "code",
   "execution_count": 2,
   "metadata": {
    "id": "69kabDUFLFPt"
   },
   "outputs": [
    {
     "name": "stdout",
     "output_type": "stream",
     "text": [
      "Please provide a valid license UUID. You can use a free https://ampl.com/ce license.\n"
     ]
    },
    {
     "data": {
      "application/vnd.jupyter.widget-view+json": {
       "model_id": "6629f6c581b9416a8ffe0c7a0f22d816",
       "version_major": 2,
       "version_minor": 0
      },
      "text/plain": [
       "VBox(children=(Output(), HBox(children=(Text(value='', description='License UUID:', style=TextStyle(descriptio…"
      ]
     },
     "metadata": {},
     "output_type": "display_data"
    }
   ],
   "source": [
    "from amplpy import AMPL, tools\n",
    "\n",
    "ampl = tools.ampl_notebook(\n",
    "    modules=[\"coin\", \"highs\"],  # modules to install\n",
    "    license_uuid=\"default\",  # license to use\n",
    ")  # instantiate AMPL object and register notebook magics"
   ]
  },
  {
   "cell_type": "code",
   "execution_count": 3,
   "metadata": {
    "id": "69kabDUFLFPt"
   },
   "outputs": [],
   "source": [
    "import numpy as np\n",
    "import matplotlib.pyplot as plt\n",
    "import matplotlib.patches as patches"
   ]
  },
  {
   "cell_type": "markdown",
   "metadata": {
    "id": "fDTCzz34K3iF"
   },
   "source": [
    "## Original BIM production planning model\n",
    "\n",
    "The full description of the BIM production problem, can be found [here](../02/bim.ipynb). The resulting optimization problem was the following LP:\n",
    "\n",
    "$$\n",
    "\\begin{array}{rrcrcl}\n",
    "\\max    & 12x_1 & + & 9x_2               \\\\\n",
    "\\text{s.t.}    &   x_1 &   &      & \\leq & 1000 \\\\\n",
    "        &       &   &  x_2 & \\leq & 1500 \\\\\n",
    "        &   x_1 & + &  x_2 & \\leq & 1750 \\\\\n",
    "        &  4x_1 & + & 2x_2 & \\leq & 4800 \\\\\n",
    "        &   x_1 & , &  x_2 & \\geq & 0.\n",
    "\\end{array}\n",
    "$$"
   ]
  },
  {
   "cell_type": "code",
   "execution_count": 4,
   "metadata": {},
   "outputs": [],
   "source": [
    "%%ampl_eval\n",
    "\n",
    "set CHIPS;\n",
    "\n",
    "param profits{CHIPS};\n",
    "param copper{CHIPS};\n",
    "\n",
    "var x{CHIPS} >= 0;\n",
    "\n",
    "maximize Profit: sum {c in CHIPS} profits[c] * x[c];\n",
    "\n",
    "s.t. Silicon: x['logic'] <= 1000;\n",
    "s.t. Germanium: x['memory'] <= 1500;\n",
    "s.t. Plastic: sum {c in CHIPS} x[c] <= 1750;\n",
    "s.t. Copper: sum {c in CHIPS} copper[c] * x[c] <= 4800;"
   ]
  },
  {
   "cell_type": "code",
   "execution_count": 5,
   "metadata": {
    "id": "Ez-i12QiK3iG"
   },
   "outputs": [
    {
     "name": "stdout",
     "output_type": "stream",
     "text": [
      "HiGHS 1.5.1: HiGHS 1.5.1: optimal solution; objective 17700\n",
      "2 simplex iterations\n",
      "0 barrier iterations\n",
      "x = ({'logic': 650.0, 'memory': 1100.0})\n",
      "optimal value = 17700.00\n"
     ]
    }
   ],
   "source": [
    "chips = [\"logic\", \"memory\"]\n",
    "profits = {\"logic\": 12, \"memory\": 9}\n",
    "copper = {\"logic\": 4, \"memory\": 2}\n",
    "\n",
    "ampl.set[\"CHIPS\"] = chips\n",
    "ampl.param[\"profits\"] = profits\n",
    "ampl.param[\"copper\"] = copper\n",
    "\n",
    "ampl.option[\"solver\"] = SOLVER_MILP\n",
    "ampl.solve()\n",
    "\n",
    "x = ampl.get_variable(\"x\").get_values().to_dict()\n",
    "\n",
    "print(f\"x = ({x})\")\n",
    "print(f'optimal value = {ampl.obj[\"Profit\"].value():.2f}')"
   ]
  },
  {
   "cell_type": "code",
   "execution_count": 6,
   "metadata": {
    "id": "cv00HnWxK3iH"
   },
   "outputs": [
    {
     "name": "stdout",
     "output_type": "stream",
     "text": [
      "The dual variable corresponding to:\n",
      "\n",
      "- the constraint on Copper is equal to  3/2\n",
      "- the constraint on Germanium is equal to  0\n",
      "- the constraint on Plastic is equal to  6\n",
      "- the constraint on Silicon is equal to  0\n"
     ]
    }
   ],
   "source": [
    "def ShowDuals(ampl):\n",
    "    import fractions\n",
    "\n",
    "    # display all duals\n",
    "    print(\"The dual variable corresponding to:\\n\")\n",
    "    for name, con in ampl.get_constraints():\n",
    "        print(\n",
    "            \"- the constraint on\",\n",
    "            name,\n",
    "            \"is equal to \",\n",
    "            str(fractions.Fraction(con.dual())),\n",
    "        )\n",
    "\n",
    "\n",
    "ShowDuals(ampl)"
   ]
  },
  {
   "cell_type": "markdown",
   "metadata": {
    "id": "mlFIYk5KK3iH"
   },
   "source": [
    "## Robust BIM production planning models\n",
    "\n",
    "Suppose now that there is uncertainty affecting the microchip production at BIM. Specifically, the company notices that the amount of copper needed for the two types of microchips is not _exactly_ 4 and 2 gr, but varies due to some external factors affecting the production process. How does this uncertainty affect the optimal production plan?"
   ]
  },
  {
   "cell_type": "markdown",
   "metadata": {},
   "source": [
    "To get a feeling for what happens, let us first perform some simulations and data analysis on them. We start by simulating a sample of $n=2000$ observed copper consumption pairs for the production of `f` logic chips and `g` memory chips. The amounts vary around the original values, 4 gr and 2 gr, respectively, according to two independent lognormal distributions."
   ]
  },
  {
   "cell_type": "code",
   "execution_count": 7,
   "metadata": {
    "id": "5ppnDDbMK3iH"
   },
   "outputs": [
    {
     "data": {
      "image/png": "[encoded data removed]",
      "text/plain": [
       "<Figure size 640x480 with 1 Axes>"
      ]
     },
     "metadata": {},
     "output_type": "display_data"
    }
   ],
   "source": [
    "plt.rcParams.update({\"font.size\": 12})\n",
    "\n",
    "seed = 0\n",
    "rng = np.random.default_rng(seed)\n",
    "n = 2000\n",
    "\n",
    "f = rng.lognormal(np.log(4.0), 0.005, n)\n",
    "g = rng.lognormal(np.log(2.0), 0.005, n)\n",
    "\n",
    "plt.figure()\n",
    "plt.plot(f, g, \".\")\n",
    "plt.xlabel(\"Copper gr needed for logic chips\")\n",
    "plt.ylabel(\"Copper gr needed for memory chips\")\n",
    "plt.show()"
   ]
  },
  {
   "cell_type": "markdown",
   "metadata": {
    "id": "MO6fztcFK3iI"
   },
   "source": [
    "### Box uncertainty for copper consumption\n",
    "\n",
    "A very simple and somehow naive uncertainty set can be the minimal box that contains all the simulated data."
   ]
  },
  {
   "cell_type": "code",
   "execution_count": 8,
   "metadata": {
    "colab": {
     "base_uri": "https://localhost:8080/",
     "height": 282
    },
    "executionInfo": {
     "elapsed": 21,
     "status": "ok",
     "timestamp": 1633441687195,
     "user": {
      "displayName": "Joaquim Gromicho",
      "photoUrl": "https://lh3.googleusercontent.com/a/default-user=s64",
      "userId": "14375950305363805729"
     },
     "user_tz": -120
    },
    "id": "-YUKJpXWK3iI",
    "outputId": "6ffff6df-de4f-4355-9bba-86e5755e7cfd"
   },
   "outputs": [
    {
     "data": {
      "image/png": "[encoded data removed]",
      "text/plain": [
       "<Figure size 640x480 with 1 Axes>"
      ]
     },
     "metadata": {},
     "output_type": "display_data"
    },
    {
     "name": "stdout",
     "output_type": "stream",
     "text": [
      "Lower bounds {'logic': 3.922766922829344, 'memory': 1.9701110863753781}\n",
      "Upper bounds {'logic': 4.061793174956137, 'memory': 2.0328386701386703}\n"
     ]
    }
   ],
   "source": [
    "plt.figure()\n",
    "plt.plot(f, g, \".\")\n",
    "currentAxis = plt.gca()\n",
    "currentAxis.add_patch(\n",
    "    patches.Rectangle(\n",
    "        (min(f), min(g)),\n",
    "        max(f) - min(f),\n",
    "        max(g) - min(g),\n",
    "        fill=False,\n",
    "        color=\"r\",\n",
    "    )\n",
    ")\n",
    "plt.xlabel(\"Copper gr needed for logic chips\")\n",
    "plt.ylabel(\"Copper gr needed for memory chips\")\n",
    "plt.show()\n",
    "\n",
    "# calculate the upper and lower bounds for each uncertain parameter\n",
    "lower = {\"logic\": min(f), \"memory\": min(g)}\n",
    "upper = {\"logic\": max(f), \"memory\": max(g)}\n",
    "print(\"Lower bounds\", lower)\n",
    "print(\"Upper bounds\", upper)"
   ]
  },
  {
   "cell_type": "markdown",
   "metadata": {
    "id": "x-r6VhudK3iI"
   },
   "source": [
    "Using this empirical box uncertainty set, we can consider the following robust variant of their optimization model:\n",
    "\n",
    "$$\n",
    "\\begin{array}{rrcrcl}\n",
    "\\max    &  12 x_1 & + &   9 x_2               \\\\\n",
    "\\text{s.t.}    &     x_1 &   &         & \\leq & 1000 \\\\\n",
    "        &         &   &     x_2 & \\leq & 1500 \\\\\n",
    "        &     x_1 & + &     x_2 & \\leq & 1750 \\\\\n",
    "        & z_1 x_1 & + & z_2 x_2 & \\leq & 4800 & \\forall \\ell \\leq a \\leq u \\\\\n",
    "        &     x_1 & , &     x_2 & \\geq & 0    \\\\\n",
    "\\end{array}\n",
    "$$\n",
    "\n",
    "The above model has an infinite number of constraints, one for every realization of the uncertain coefficients $z$. However, using linear duality, we can deal with this and obtain a robustified LP that we can solve. "
   ]
  },
  {
   "cell_type": "markdown",
   "metadata": {},
   "source": [
    "### Robust counterpart of box uncertainty\n",
    "\n",
    "The first thing to notice is that the copper consumption is modeled by constraints that are equivalent to bounding the following optimization problem:\n",
    "    \n",
    "$$\n",
    "\\begin{array}{rrr}\n",
    "\\max    & x_1 z_1 + x_2 z_2 & \\leq 4800 \\\\\n",
    "\\text{s.t.}    & \\ell \\leq z \\leq u \n",
    "\\end{array}\n",
    "$$\n",
    "\n",
    "or\n",
    "\n",
    "$$\n",
    "\\begin{array}{rrr}\n",
    "\\max    & x_1 z_1 + x_2 z_2 & \\leq 4800 \\\\\n",
    "\\text{s.t.}    & z \\leq u \\\\\n",
    "        & -z \\leq -\\ell.\n",
    "\\end{array}\n",
    "$$\n",
    "\n",
    "Now we use linear duality to realize that the above is equivalent to:\n",
    " \n",
    "$$\n",
    "\\begin{array}{rrr}\n",
    "\\min    & u y  - \\ell w & \\leq 4800 \\\\\n",
    "\\text{s.t.}    & y - w = x \\\\\n",
    "        & y \\geq 0, w \\geq 0\n",
    "\\end{array}\n",
    "$$\n",
    "    \n",
    "and the constraint imposed by the last problem is equivalent to:\n",
    "\n",
    "$$\n",
    "\\begin{array}{rrl}\n",
    "   & u y  - \\ell w & \\leq 4800 \\\\\n",
    "   & y - w & = x \\\\\n",
    "   & y \\geq 0, w \\geq 0\n",
    "\\end{array}\n",
    "$$\n",
    "\n",
    "The only thing we need to do is add the new auxiliary variables and constraints to the original model and implement them in AMPL."
   ]
  },
  {
   "cell_type": "code",
   "execution_count": 9,
   "metadata": {},
   "outputs": [
    {
     "name": "stdout",
     "output_type": "stream",
     "text": [
      "Overwriting BIM_robust_box.mod\n"
     ]
    }
   ],
   "source": [
    "%%writefile BIM_robust_box.mod\n",
    "\n",
    "set CHIPS;\n",
    "\n",
    "param profits{CHIPS};\n",
    "param copper{CHIPS};\n",
    "\n",
    "var x{CHIPS} >= 0, integer;\n",
    "\n",
    "maximize Profit: sum {c in CHIPS} profits[c] * x[c];\n",
    "\n",
    "s.t. Silicon: x['logic'] <= 1000;\n",
    "s.t. Germanium: x['memory'] <= 1500;\n",
    "s.t. Plastic: sum {c in CHIPS} x[c] <= 1750;\n",
    "\n",
    "param lower{CHIPS};\n",
    "param upper{CHIPS};\n",
    "    \n",
    "var y{CHIPS} >= 0;\n",
    "var w{CHIPS} >= 0;\n",
    "\n",
    "s.t. RobustCopper:\n",
    "    sum {c in CHIPS} (upper[c]*y[c] - lower[c]*w[c]) <= 4800;\n",
    "s.t. PerVariable{c in CHIPS}:\n",
    "    x[c] == y[c] - w[c];\n"
   ]
  },
  {
   "cell_type": "code",
   "execution_count": 10,
   "metadata": {
    "id": "KdZk74bBK3iI"
   },
   "outputs": [
    {
     "name": "stdout",
     "output_type": "stream",
     "text": [
      "HiGHS 1.5.1: HiGHS 1.5.1: optimal solution; objective 17587.20087\n",
      "2 simplex iterations\n",
      "0 barrier iterations\n",
      "x = ({'logic': 612.4002900543649, 'memory': 1137.599709945635})\n",
      "optimal value = 17587.20\n"
     ]
    }
   ],
   "source": [
    "def BIMWithBoxUncertainty(lower, upper, int_x=False):\n",
    "    ampl = AMPL()\n",
    "    ampl.read(\"BIM_robust_box.mod\")\n",
    "\n",
    "    ampl.set[\"CHIPS\"] = chips\n",
    "    ampl.param[\"profits\"] = profits\n",
    "    ampl.param[\"copper\"] = copper\n",
    "\n",
    "    ampl.param[\"lower\"] = lower\n",
    "    ampl.param[\"upper\"] = upper\n",
    "\n",
    "    if not int_x:\n",
    "        ampl.eval(\"let {i in CHIPS} x[i].relax := 1;\")\n",
    "\n",
    "    ampl.option[\"solver\"] = SOLVER_MILP\n",
    "    ampl.solve()\n",
    "\n",
    "    return ampl\n",
    "\n",
    "\n",
    "ampl = BIMWithBoxUncertainty(lower, upper)\n",
    "\n",
    "x = ampl.get_variable(\"x\").get_values().to_dict()\n",
    "print(f\"x = ({x})\")\n",
    "print(f'optimal value = {ampl.obj[\"Profit\"].value():.2f}')"
   ]
  },
  {
   "cell_type": "markdown",
   "metadata": {},
   "source": [
    "We may want to impose the box uncertainty set to be symmetric with respect to the nominal values and just choose its width $\\delta$. This leads to a different optimal robust solution."
   ]
  },
  {
   "cell_type": "code",
   "execution_count": 11,
   "metadata": {
    "colab": {
     "base_uri": "https://localhost:8080/"
    },
    "executionInfo": {
     "elapsed": 18,
     "status": "ok",
     "timestamp": 1633441687553,
     "user": {
      "displayName": "Joaquim Gromicho",
      "photoUrl": "https://lh3.googleusercontent.com/a/default-user=s64",
      "userId": "14375950305363805729"
     },
     "user_tz": -120
    },
    "id": "ZM3Ym0UkK3iI",
    "outputId": "0f195fd9-1969-425f-b843-fb4288d4bc44"
   },
   "outputs": [
    {
     "name": "stdout",
     "output_type": "stream",
     "text": [
      "HiGHS 1.5.1: HiGHS 1.5.1: optimal solution; objective 17568.75\n",
      "2 simplex iterations\n",
      "0 barrier iterations\n",
      "x = ({'logic': 606.2499999999999, 'memory': 1143.75})\n",
      "optimal value = 17568.75\n"
     ]
    }
   ],
   "source": [
    "# The parameter delta allows you to tune the amount of uncertainty.\n",
    "# In particular, if you take delta=0, you obtain the same result as the nominal model.\n",
    "delta = 0.05\n",
    "\n",
    "\n",
    "def BIMWithSymmetricalBoxUncertainty(delta, int_x=False):\n",
    "    lower = {chip: copper[chip] - delta for chip in chips}\n",
    "    upper = {chip: copper[chip] + delta for chip in chips}\n",
    "    return BIMWithBoxUncertainty(lower, upper, int_x)\n",
    "\n",
    "\n",
    "ampl = BIMWithSymmetricalBoxUncertainty(delta)\n",
    "\n",
    "x = ampl.get_variable(\"x\").get_values().to_dict()\n",
    "print(f\"x = ({x})\")\n",
    "print(f'optimal value = {ampl.obj[\"Profit\"].value():.2f}')"
   ]
  },
  {
   "cell_type": "markdown",
   "metadata": {
    "id": "h4IvEuocK3iJ"
   },
   "source": [
    "### Integer solution variant\n",
    "\n",
    "The original BIM model gave integer solutions, but not the robust version. If we need integer solutions then we should impose that to the nature of the variables, which in this case of _box uncertainty_ is easy to do since the model remains linear, although it will be mixed integer. "
   ]
  },
  {
   "cell_type": "code",
   "execution_count": 12,
   "metadata": {
    "colab": {
     "base_uri": "https://localhost:8080/"
    },
    "executionInfo": {
     "elapsed": 16,
     "status": "ok",
     "timestamp": 1633441687554,
     "user": {
      "displayName": "Joaquim Gromicho",
      "photoUrl": "https://lh3.googleusercontent.com/a/default-user=s64",
      "userId": "14375950305363805729"
     },
     "user_tz": -120
    },
    "id": "lhAQo89qK3iJ",
    "outputId": "43b5ff1a-ade5-4704-e844-8c95a8dc7ba8"
   },
   "outputs": [
    {
     "name": "stdout",
     "output_type": "stream",
     "text": [
      "HiGHS 1.5.1: HiGHS 1.5.1: optimal solution; objective 17586\n",
      "3 simplex iterations\n",
      "1 branching nodes\n",
      "x = ({'logic': 612.0000000000006, 'memory': 1137.999999999999})\n",
      "optimal value = 17586.00\n"
     ]
    }
   ],
   "source": [
    "ampl = BIMWithBoxUncertainty(lower, upper, True)\n",
    "\n",
    "x = ampl.get_variable(\"x\").get_values().to_dict()\n",
    "print(f\"x = ({x})\")\n",
    "print(f'optimal value = {ampl.obj[\"Profit\"].value():.2f}')"
   ]
  },
  {
   "cell_type": "markdown",
   "metadata": {},
   "source": [
    "Let us see how the optimal solution behave as we vary the width of the box uncertainty set $\\delta$ from 0 to 0.5. "
   ]
  },
  {
   "cell_type": "code",
   "execution_count": 13,
   "metadata": {
    "colab": {
     "base_uri": "https://localhost:8080/",
     "height": 703
    },
    "executionInfo": {
     "elapsed": 808,
     "status": "ok",
     "timestamp": 1633441688349,
     "user": {
      "displayName": "Joaquim Gromicho",
      "photoUrl": "https://lh3.googleusercontent.com/a/default-user=s64",
      "userId": "14375950305363805729"
     },
     "user_tz": -120
    },
    "id": "1aGhPp8XPz4G",
    "outputId": "256b5175-ecc7-45c4-86eb-4925fb9a15a2"
   },
   "outputs": [
    {
     "name": "stdout",
     "output_type": "stream",
     "text": [
      "HiGHS 1.5.1: HiGHS 1.5.1: optimal solution; objective 17700\n",
      "2 simplex iterations\n",
      "1 branching nodes\n",
      "HiGHS 1.5.1: HiGHS 1.5.1: optimal solution; objective 17634\n",
      "3 simplex iterations\n",
      "1 branching nodes\n",
      "HiGHS 1.5.1: HiGHS 1.5.1: optimal solution; objective 17568\n",
      "3 simplex iterations\n",
      "1 branching nodes\n",
      "HiGHS 1.5.1: HiGHS 1.5.1: optimal solution; objective 17502\n",
      "3 simplex iterations\n",
      "1 branching nodes\n",
      "HiGHS 1.5.1: HiGHS 1.5.1: optimal solution; objective 17436\n",
      "3 simplex iterations\n",
      "1 branching nodes\n",
      "HiGHS 1.5.1: HiGHS 1.5.1: optimal solution; objective 17370\n",
      "3 simplex iterations\n",
      "1 branching nodes\n",
      "HiGHS 1.5.1: HiGHS 1.5.1: optimal solution; objective 17304\n",
      "3 simplex iterations\n",
      "1 branching nodes\n",
      "HiGHS 1.5.1: HiGHS 1.5.1: optimal solution; objective 17238\n",
      "3 simplex iterations\n",
      "1 branching nodes\n",
      "HiGHS 1.5.1: HiGHS 1.5.1: optimal solution; objective 17175\n",
      "2 simplex iterations\n",
      "1 branching nodes\n",
      "HiGHS 1.5.1: HiGHS 1.5.1: optimal solution; objective 17109\n",
      "3 simplex iterations\n",
      "1 branching nodes\n",
      "HiGHS 1.5.1: HiGHS 1.5.1: optimal solution; objective 17043\n",
      "3 simplex iterations\n",
      "1 branching nodes\n",
      "HiGHS 1.5.1: HiGHS 1.5.1: optimal solution; objective 16977\n",
      "3 simplex iterations\n",
      "1 branching nodes\n",
      "HiGHS 1.5.1: HiGHS 1.5.1: optimal solution; objective 16911\n",
      "3 simplex iterations\n",
      "1 branching nodes\n",
      "HiGHS 1.5.1: HiGHS 1.5.1: optimal solution; objective 16845\n",
      "3 simplex iterations\n",
      "1 branching nodes\n",
      "HiGHS 1.5.1: HiGHS 1.5.1: optimal solution; objective 16779\n",
      "3 simplex iterations\n",
      "1 branching nodes\n",
      "HiGHS 1.5.1: HiGHS 1.5.1: optimal solution; objective 16713\n",
      "3 simplex iterations\n",
      "1 branching nodes\n",
      "HiGHS 1.5.1: HiGHS 1.5.1: optimal solution; objective 16650\n",
      "2 simplex iterations\n",
      "1 branching nodes\n",
      "HiGHS 1.5.1: HiGHS 1.5.1: optimal solution; objective 16584\n",
      "3 simplex iterations\n",
      "1 branching nodes\n",
      "HiGHS 1.5.1: HiGHS 1.5.1: optimal solution; objective 16518\n",
      "3 simplex iterations\n",
      "1 branching nodes\n",
      "HiGHS 1.5.1: HiGHS 1.5.1: optimal solution; objective 16416\n",
      "3 simplex iterations\n",
      "1 branching nodes\n",
      "HiGHS 1.5.1: HiGHS 1.5.1: optimal solution; objective 16296\n",
      "1 simplex iterations\n",
      "1 branching nodes\n"
     ]
    },
    {
     "data": {
      "text/html": [
       "<div>\n",
       "<style scoped>\n",
       "    .dataframe tbody tr th:only-of-type {\n",
       "        vertical-align: middle;\n",
       "    }\n",
       "\n",
       "    .dataframe tbody tr th {\n",
       "        vertical-align: top;\n",
       "    }\n",
       "\n",
       "    .dataframe thead th {\n",
       "        text-align: right;\n",
       "    }\n",
       "</style>\n",
       "<table border=\"1\" class=\"dataframe\">\n",
       "  <thead>\n",
       "    <tr style=\"text-align: right;\">\n",
       "      <th></th>\n",
       "      <th>profit</th>\n",
       "      <th>logic</th>\n",
       "      <th>memory</th>\n",
       "    </tr>\n",
       "  </thead>\n",
       "  <tbody>\n",
       "    <tr>\n",
       "      <th>0.000</th>\n",
       "      <td>17700.0</td>\n",
       "      <td>650.0</td>\n",
       "      <td>1100.0</td>\n",
       "    </tr>\n",
       "    <tr>\n",
       "      <th>0.025</th>\n",
       "      <td>17634.0</td>\n",
       "      <td>628.0</td>\n",
       "      <td>1122.0</td>\n",
       "    </tr>\n",
       "    <tr>\n",
       "      <th>0.050</th>\n",
       "      <td>17568.0</td>\n",
       "      <td>606.0</td>\n",
       "      <td>1144.0</td>\n",
       "    </tr>\n",
       "    <tr>\n",
       "      <th>0.075</th>\n",
       "      <td>17502.0</td>\n",
       "      <td>584.0</td>\n",
       "      <td>1166.0</td>\n",
       "    </tr>\n",
       "    <tr>\n",
       "      <th>0.100</th>\n",
       "      <td>17436.0</td>\n",
       "      <td>562.0</td>\n",
       "      <td>1188.0</td>\n",
       "    </tr>\n",
       "    <tr>\n",
       "      <th>0.125</th>\n",
       "      <td>17370.0</td>\n",
       "      <td>540.0</td>\n",
       "      <td>1210.0</td>\n",
       "    </tr>\n",
       "    <tr>\n",
       "      <th>0.150</th>\n",
       "      <td>17304.0</td>\n",
       "      <td>518.0</td>\n",
       "      <td>1232.0</td>\n",
       "    </tr>\n",
       "    <tr>\n",
       "      <th>0.175</th>\n",
       "      <td>17238.0</td>\n",
       "      <td>496.0</td>\n",
       "      <td>1254.0</td>\n",
       "    </tr>\n",
       "    <tr>\n",
       "      <th>0.200</th>\n",
       "      <td>17175.0</td>\n",
       "      <td>475.0</td>\n",
       "      <td>1275.0</td>\n",
       "    </tr>\n",
       "    <tr>\n",
       "      <th>0.225</th>\n",
       "      <td>17109.0</td>\n",
       "      <td>453.0</td>\n",
       "      <td>1297.0</td>\n",
       "    </tr>\n",
       "    <tr>\n",
       "      <th>0.250</th>\n",
       "      <td>17043.0</td>\n",
       "      <td>431.0</td>\n",
       "      <td>1319.0</td>\n",
       "    </tr>\n",
       "    <tr>\n",
       "      <th>0.275</th>\n",
       "      <td>16977.0</td>\n",
       "      <td>409.0</td>\n",
       "      <td>1341.0</td>\n",
       "    </tr>\n",
       "    <tr>\n",
       "      <th>0.300</th>\n",
       "      <td>16911.0</td>\n",
       "      <td>387.0</td>\n",
       "      <td>1363.0</td>\n",
       "    </tr>\n",
       "    <tr>\n",
       "      <th>0.325</th>\n",
       "      <td>16845.0</td>\n",
       "      <td>365.0</td>\n",
       "      <td>1385.0</td>\n",
       "    </tr>\n",
       "    <tr>\n",
       "      <th>0.350</th>\n",
       "      <td>16779.0</td>\n",
       "      <td>343.0</td>\n",
       "      <td>1407.0</td>\n",
       "    </tr>\n",
       "    <tr>\n",
       "      <th>0.375</th>\n",
       "      <td>16713.0</td>\n",
       "      <td>321.0</td>\n",
       "      <td>1429.0</td>\n",
       "    </tr>\n",
       "    <tr>\n",
       "      <th>0.400</th>\n",
       "      <td>16650.0</td>\n",
       "      <td>300.0</td>\n",
       "      <td>1450.0</td>\n",
       "    </tr>\n",
       "    <tr>\n",
       "      <th>0.425</th>\n",
       "      <td>16584.0</td>\n",
       "      <td>278.0</td>\n",
       "      <td>1472.0</td>\n",
       "    </tr>\n",
       "    <tr>\n",
       "      <th>0.450</th>\n",
       "      <td>16518.0</td>\n",
       "      <td>256.0</td>\n",
       "      <td>1494.0</td>\n",
       "    </tr>\n",
       "    <tr>\n",
       "      <th>0.475</th>\n",
       "      <td>16416.0</td>\n",
       "      <td>243.0</td>\n",
       "      <td>1500.0</td>\n",
       "    </tr>\n",
       "    <tr>\n",
       "      <th>0.500</th>\n",
       "      <td>16296.0</td>\n",
       "      <td>233.0</td>\n",
       "      <td>1500.0</td>\n",
       "    </tr>\n",
       "  </tbody>\n",
       "</table>\n",
       "</div>"
      ],
      "text/plain": [
       "        profit  logic  memory\n",
       "0.000  17700.0  650.0  1100.0\n",
       "0.025  17634.0  628.0  1122.0\n",
       "0.050  17568.0  606.0  1144.0\n",
       "0.075  17502.0  584.0  1166.0\n",
       "0.100  17436.0  562.0  1188.0\n",
       "0.125  17370.0  540.0  1210.0\n",
       "0.150  17304.0  518.0  1232.0\n",
       "0.175  17238.0  496.0  1254.0\n",
       "0.200  17175.0  475.0  1275.0\n",
       "0.225  17109.0  453.0  1297.0\n",
       "0.250  17043.0  431.0  1319.0\n",
       "0.275  16977.0  409.0  1341.0\n",
       "0.300  16911.0  387.0  1363.0\n",
       "0.325  16845.0  365.0  1385.0\n",
       "0.350  16779.0  343.0  1407.0\n",
       "0.375  16713.0  321.0  1429.0\n",
       "0.400  16650.0  300.0  1450.0\n",
       "0.425  16584.0  278.0  1472.0\n",
       "0.450  16518.0  256.0  1494.0\n",
       "0.475  16416.0  243.0  1500.0\n",
       "0.500  16296.0  233.0  1500.0"
      ]
     },
     "execution_count": 13,
     "metadata": {},
     "output_type": "execute_result"
    }
   ],
   "source": [
    "import pandas as pd\n",
    "\n",
    "df = pd.DataFrame()\n",
    "for delta in np.linspace(0, 0.5, 21):\n",
    "    ampl = BIMWithSymmetricalBoxUncertainty(delta, True)\n",
    "    x = ampl.get_variable(\"x\").get_values().to_dict()\n",
    "    results = [ampl.get_value(\"Profit\")] + [x[str(i)] for i in chips]\n",
    "    df.at[delta, \"profit\"] = results[0]\n",
    "    df.at[delta, chips[0]] = results[1]\n",
    "    df.at[delta, chips[1]] = results[2]\n",
    "df"
   ]
  },
  {
   "cell_type": "markdown",
   "metadata": {},
   "source": [
    "We can visualize how these quantities change as a function of $\\delta$:"
   ]
  },
  {
   "cell_type": "code",
   "execution_count": 14,
   "metadata": {
    "colab": {
     "base_uri": "https://localhost:8080/",
     "height": 282
    },
    "executionInfo": {
     "elapsed": 314,
     "status": "ok",
     "timestamp": 1633441688637,
     "user": {
      "displayName": "Joaquim Gromicho",
      "photoUrl": "https://lh3.googleusercontent.com/a/default-user=s64",
      "userId": "14375950305363805729"
     },
     "user_tz": -120
    },
    "id": "LfUxfNz7UcIO",
    "outputId": "937c90d3-d590-4e2d-f73c-91d6cb6df02a"
   },
   "outputs": [
    {
     "data": {
      "image/png": "[encoded data removed]",
      "text/plain": [
       "<Figure size 640x480 with 1 Axes>"
      ]
     },
     "metadata": {},
     "output_type": "display_data"
    },
    {
     "data": {
      "image/png": "[encoded data removed]",
      "text/plain": [
       "<Figure size 640x480 with 1 Axes>"
      ]
     },
     "metadata": {},
     "output_type": "display_data"
    }
   ],
   "source": [
    "df[[\"profit\"]].plot()\n",
    "plt.ylim([16001, 17999])\n",
    "plt.xlabel(\"Margin $\\delta$ of the uncertainty box\")\n",
    "plt.ylabel(\"Profit\")\n",
    "plt.show()\n",
    "df[[\"logic\", \"memory\"]].plot()\n",
    "plt.xlabel(\"Margin $\\delta$ of the uncertainty box\")\n",
    "plt.ylabel(\"Optimal number of produced chips\")\n",
    "plt.show()"
   ]
  },
  {
   "cell_type": "markdown",
   "metadata": {
    "id": "WNDlWBWFK3iJ"
   },
   "source": [
    "## Cardinality-constrained uncertainty set\n",
    "\n",
    "Let us now make different assumptions regarding the uncertainty related to the copper consumption. More specifically, we now assume that each uncertain coefficient $z_j$ may deviate by at most $\\pm \\delta$ from the nominal value $\\bar{z}_j$ but no more than $\\Gamma$ will actually deviate.\n",
    "\n",
    "$$\n",
    "\\begin{array}{rrcrcl}\n",
    "\\max    &  12 x_1 & + &   9 x_2               \\\\\n",
    "\\text{s.t.}    &     x_1 &   &         & \\leq & 1000 \\\\\n",
    "        &         &   &     x_2 & \\leq & 1500 \\\\\n",
    "        &     x_1 & + &     x_2 & \\leq & 1750 \\\\\n",
    "        & z_1 x_1 & + & z_2 x_2 & \\leq & 4800 & \\forall \\, y \\in \\mathbb{R}^2 \\,:\\, z_j=\\bar{z}_j+\\delta y_j, \\, \\|y\\|_\\infty \\leq 1, \\, \\|y\\|_1\\leq \\Gamma \\\\\n",
    "        &     x_1 & , &     x_2 & \\geq & 0    \\\\\n",
    "\\end{array}\n",
    "$$"
   ]
  },
  {
   "cell_type": "markdown",
   "metadata": {},
   "source": [
    "### Robust counterpart of cardinality-constrained uncertainty\n",
    "Lagrange duality yields the following modification to the problem as equivalent to the robust model stated above:\n",
    "\n",
    "$$\n",
    "\\begin{array}{rrcrcrcrcrcrcl}\n",
    "\\max    &  12 x_1 & + &   9 x_2               \\\\\n",
    "\\text{s.t.}    &     x_1 &   &         & & & & & & & \\leq & 1000 \\\\\n",
    "        &         &   &     x_2 & & & & & & & \\leq & 1500 \\\\\n",
    "        &     x_1 & + &     x_2 & & & & & & & \\leq & 1750 \\\\\n",
    "        & \\bar{z}_1 x_1 & + & \\bar{z}_2 x_2 & + & \\lambda\\Gamma & + & t_1 & + & t_2 & \\leq & 4800 \\\\\n",
    "        &-\\delta x_1 &   &         & + & \\lambda & + & t_1 &   &     & \\geq & 0 \\\\\n",
    "        &         &   &-\\delta x_2 & + & \\lambda &   &     & + & t_2 & \\geq & 0 \\\\\n",
    "        &\\delta x_1 &   &         & + & \\lambda & + & t_1 &   &     & \\geq & 0 \\\\\n",
    "        &         &   &\\delta x_2 & + & \\lambda &   &     & + & t_2 & \\geq & 0 \\\\\n",
    "        &     x_1 & , &     x_2 & , & \\lambda & , & t_1 & , & t_2 & \\geq & 0    \\\\\n",
    "\\end{array}\n",
    "$$"
   ]
  },
  {
   "cell_type": "code",
   "execution_count": 15,
   "metadata": {},
   "outputs": [
    {
     "name": "stdout",
     "output_type": "stream",
     "text": [
      "Overwriting BIM_robust_cardinality.mod\n"
     ]
    }
   ],
   "source": [
    "%%writefile BIM_robust_cardinality.mod\n",
    "\n",
    "set CHIPS;\n",
    "\n",
    "param profits{CHIPS};\n",
    "param copper{CHIPS};\n",
    "\n",
    "var x{CHIPS} >= 0, integer;\n",
    "\n",
    "maximize Profit: sum {c in CHIPS} profits[c] * x[c];\n",
    "\n",
    "s.t. Silicon: x['logic'] <= 1000;\n",
    "s.t. Germanium: x['memory'] <= 1500;\n",
    "s.t. Plastic: sum {c in CHIPS} x[c] <= 1750;\n",
    "\n",
    "param Gamma;\n",
    "param delta;\n",
    "    \n",
    "var t{CHIPS} >= 0;\n",
    "var lam >= 0;\n",
    "\n",
    "s.t. RobustCopper:\n",
    "    sum {c in CHIPS} copper[c] * x[c]\n",
    "        + Gamma * lam\n",
    "        + sum {c in CHIPS} t[c]\n",
    "        <= 4800;\n",
    "\n",
    "s.t. UpRule{c in CHIPS}:\n",
    "    t[c] >= delta * x[c] - lam;\n",
    "s.t. DownRule{c in CHIPS}:\n",
    "    t[c] >= -delta * x[c] - lam;\n"
   ]
  },
  {
   "cell_type": "code",
   "execution_count": 16,
   "metadata": {
    "id": "pi13XIN0K3iJ"
   },
   "outputs": [
    {
     "name": "stdout",
     "output_type": "stream",
     "text": [
      "HiGHS 1.5.1: HiGHS 1.5.1: optimal solution; objective 17673\n",
      "4 simplex iterations\n",
      "1 branching nodes\n",
      "x = ({'logic': 641.0, 'memory': 1109.0})\n",
      "optimal value = 17673.00\n"
     ]
    }
   ],
   "source": [
    "def BIMWithBudgetUncertainty(delta, gamma):\n",
    "    ampl = AMPL()\n",
    "    ampl.read(\"BIM_robust_cardinality.mod\")\n",
    "\n",
    "    ampl.set[\"CHIPS\"] = chips\n",
    "    ampl.param[\"profits\"] = profits\n",
    "    ampl.param[\"copper\"] = copper\n",
    "\n",
    "    ampl.param[\"delta\"] = delta\n",
    "    ampl.param[\"Gamma\"] = gamma\n",
    "\n",
    "    ampl.option[\"solver\"] = SOLVER_MILP\n",
    "    ampl.solve()\n",
    "\n",
    "    return ampl\n",
    "\n",
    "\n",
    "ampl = BIMWithBudgetUncertainty(0.01, 2)\n",
    "\n",
    "x = ampl.get_variable(\"x\").get_values().to_dict()\n",
    "print(f\"x = ({x})\")\n",
    "print(f'optimal value = {ampl.obj[\"Profit\"].value():.2f}')"
   ]
  },
  {
   "cell_type": "markdown",
   "metadata": {},
   "source": [
    "### Adversarial approach for the budgeted uncertainty set\n",
    "\n",
    "Instead of adopting the approach of robust counterparts, we could also use the adversarial approach where we initially solve the problem for the nominal value of the data. Then, we iteratively search for scenarios that make the current solution violate the copper constraint, and pre-solve the problem to take this scenario into account. To do so, we need to slightly modify our problem formulation function to allow for many scenarios for the parameter $z$."
   ]
  },
  {
   "cell_type": "code",
   "execution_count": 17,
   "metadata": {},
   "outputs": [
    {
     "name": "stdout",
     "output_type": "stream",
     "text": [
      "Overwriting BIM_robust_cardinality_adversarial.mod\n"
     ]
    }
   ],
   "source": [
    "%%writefile BIM_robust_cardinality_adversarial.mod\n",
    "\n",
    "set CHIPS;\n",
    "\n",
    "param profits{CHIPS};\n",
    "param copper{CHIPS};\n",
    "\n",
    "var x{CHIPS} >= 0;\n",
    "\n",
    "maximize Profit: sum {c in CHIPS} profits[c] * x[c];\n",
    "\n",
    "s.t. Silicon: x['logic'] <= 1000;\n",
    "s.t. Germanium: x['memory'] <= 1500;\n",
    "s.t. Plastic: sum {c in CHIPS} x[c] <= 1750;\n",
    "\n",
    "set CUTS;\n",
    "    \n",
    "param Z{CUTS, CHIPS};\n",
    "\n",
    "s.t. Balance{i in CUTS}:\n",
    "    sum {c in CHIPS}\n",
    "        copper[c] * x[c] * (1 + Z[i, c]) <= 4800;\n"
   ]
  },
  {
   "cell_type": "code",
   "execution_count": 18,
   "metadata": {},
   "outputs": [],
   "source": [
    "def BIMWithSetOfScenarios(Z=[{\"logic\": 0, \"memory\": 0}]):\n",
    "    ampl = AMPL()\n",
    "    ampl.read(\"BIM_robust_cardinality_adversarial.mod\")\n",
    "\n",
    "    ampl.set[\"CHIPS\"] = chips\n",
    "    ampl.param[\"profits\"] = profits\n",
    "    ampl.param[\"copper\"] = copper\n",
    "\n",
    "    dfZ = pd.DataFrame(Z)\n",
    "    ampl.set[\"CUTS\"] = list(dfZ.index)\n",
    "    ampl.param[\"Z\"] = dfZ.T.unstack(1)\n",
    "\n",
    "    ampl.option[\"solver\"] = SOLVER_MILP\n",
    "    ampl.solve()\n",
    "\n",
    "    return ampl"
   ]
  },
  {
   "cell_type": "markdown",
   "metadata": {},
   "source": [
    "We also need a function that for a given solution finds the worst-possible realization of the uncertainty restricted by the parameters $\\Gamma$ and $\\delta$. In other words, its role is to solve the following maximization problem for a given solution $(\\bar{x}_1, \\bar{x}_2)$:\n",
    "\n",
    "$$\n",
    "\\begin{align*}\n",
    "\\max \\ & (\\bar{z}_1 + \\delta y_1) \\bar{x}_1 + (\\bar{z}_2 + \\delta y_2) \\bar{x}_2 - 4800 \\\\\n",
    "\\text{s.t.} \\ & |y_1| + |y_2| \\leq \\Gamma \\\\\n",
    "& -1 \\leq y_i \\leq 1 && i = 1, 2.\n",
    "\\end{align*}\n",
    "$$\n",
    "\n",
    "Such a function is implemented below and takes as argument also the maximum magnitude of the individual deviations $\\delta$ and the total budget $\\Gamma$."
   ]
  },
  {
   "cell_type": "code",
   "execution_count": 19,
   "metadata": {},
   "outputs": [
    {
     "name": "stdout",
     "output_type": "stream",
     "text": [
      "Overwriting BIM_robust_cardinality_pessimizer.mod\n"
     ]
    }
   ],
   "source": [
    "%%writefile BIM_robust_cardinality_pessimizer.mod\n",
    "\n",
    "set CHIPS;\n",
    "param copper{CHIPS};\n",
    "\n",
    "var z{CHIPS};\n",
    "var u{CHIPS} >= 0;\n",
    "\n",
    "s.t. AbsValue1{i in CHIPS}:\n",
    "    z[i] <= u[i];\n",
    "\n",
    "s.t. AbsValue2{i in CHIPS}:\n",
    "    -z[i] <= u[i];\n",
    "\n",
    "s.t. AbsValueLE1{i in CHIPS}:\n",
    "    u[i] <= 1.0;\n",
    "\n",
    "param x{CHIPS};\n",
    "param Gamma;\n",
    "param delta;\n",
    "\n",
    "s.t. Budget:\n",
    "    sum {i in CHIPS} u[i] <= Gamma;\n",
    "\n",
    "maximize Violation:\n",
    "        -4800\n",
    "        + sum {c in CHIPS}\n",
    "            copper[c] * x[c] * (1 + delta * z[c]);\n"
   ]
  },
  {
   "cell_type": "code",
   "execution_count": 20,
   "metadata": {},
   "outputs": [],
   "source": [
    "def BIMPessimization(x, delta, gamma):\n",
    "    ampl = AMPL()\n",
    "    ampl.read(\"BIM_robust_cardinality_pessimizer.mod\")\n",
    "\n",
    "    ampl.set[\"CHIPS\"] = chips\n",
    "    ampl.param[\"copper\"] = copper\n",
    "\n",
    "    ampl.param[\"x\"] = x\n",
    "    ampl.param[\"Gamma\"] = gamma\n",
    "    ampl.param[\"delta\"] = delta\n",
    "\n",
    "    ampl.option[\"solver\"] = SOLVER_MILP\n",
    "    ampl.solve()\n",
    "\n",
    "    worst_z = ampl.get_variable(\"z\").get_values().to_dict()\n",
    "\n",
    "    return worst_z, ampl.get_value(\"Violation\")"
   ]
  },
  {
   "cell_type": "markdown",
   "metadata": {},
   "source": [
    "We wrap the two functions above into a loop of the adversarial approach, which begins with a non-perturbation assumption and gradually generates violating scenarios, reoptimizing until the maximum constraint violation is below a tolerable threshold."
   ]
  },
  {
   "cell_type": "code",
   "execution_count": 21,
   "metadata": {},
   "outputs": [
    {
     "name": "stdout",
     "output_type": "stream",
     "text": [
      "HiGHS 1.5.1: HiGHS 1.5.1: optimal solution; objective 17700\n",
      "2 simplex iterations\n",
      "0 barrier iterations\n",
      "\n",
      "Iteration #0\n",
      "Current solution: \n",
      "x['logic']= 650.00\n",
      "x['memory']= 1100.00\n",
      "HiGHS 1.5.1: HiGHS 1.5.1: optimal solution; objective 740\n",
      "1 simplex iterations\n",
      "0 barrier iterations\n",
      "Violation found: z['logic'] = 1.0,  z['memory'] = 0.5, constraint violation: 740.00\n",
      "HiGHS 1.5.1: HiGHS 1.5.1: optimal solution; objective 13950\n",
      "1 simplex iterations\n",
      "0 barrier iterations\n",
      "\n",
      "Iteration #1\n",
      "Current solution: \n",
      "x['logic']= 37.50\n",
      "x['memory']= 1500.00\n",
      "HiGHS 1.5.1: HiGHS 1.5.1: optimal solution; objective -1035\n",
      "1 simplex iterations\n",
      "0 barrier iterations\n",
      "No violation found. Stopping the procedure.\n"
     ]
    }
   ],
   "source": [
    "# Parameters\n",
    "adversarial_converged = False\n",
    "stopping_precision = 0.1\n",
    "max_iterations = 5\n",
    "adversarial_iterations = 0\n",
    "delta = 0.2\n",
    "gamma = 1.5\n",
    "chips = [\"logic\", \"memory\"]\n",
    "\n",
    "# Initialize the null scenario - no perturbation\n",
    "Z = [{\"logic\": 0, \"memory\": 0}]\n",
    "\n",
    "while (not adversarial_converged) and (adversarial_iterations < max_iterations):\n",
    "    # Building and solving the master problem\n",
    "    ampl = BIMWithSetOfScenarios(Z)\n",
    "\n",
    "    # Saving the current solution\n",
    "    x = ampl.get_variable(\"x\").get_values().to_dict()\n",
    "\n",
    "    print(f\"\\nIteration #{adversarial_iterations}\")\n",
    "    print(f\"Current solution: \")\n",
    "    for c in chips:\n",
    "        print(f\"x['{c}']= {x[c]:.2f}\")\n",
    "\n",
    "    # Pessimization\n",
    "    worst_z, constraint_violation = BIMPessimization(x, delta, gamma)\n",
    "\n",
    "    # If pessimization yields no violation, stop the procedure, otherwise add a scenario and repeat\n",
    "    if constraint_violation < stopping_precision:\n",
    "        print(\"No violation found. Stopping the procedure.\")\n",
    "        adversarial_converged = True\n",
    "    else:\n",
    "        print(\n",
    "            f\"Violation found: z['logic'] = {worst_z['logic']},  z['memory'] = {worst_z['memory']}, \"\n",
    "            f\"constraint violation: {constraint_violation:6.2f}\"\n",
    "        )\n",
    "        Z.append(worst_z)\n",
    "\n",
    "    adversarial_iterations += 1"
   ]
  },
  {
   "cell_type": "markdown",
   "metadata": {},
   "source": [
    "It takes only two scenarios to be added to the baseline scenario to arrive at the solution which is essentially robust! For that reason, in many settings the adversarial approach is very viable. In fact, because the budgeted uncertainty set for two uncertain parameters has at most 8 vertices, we are guaranteed that it would never take more than 8 iterations to reach a fully robust solution (constraint violation of exactly $0$).\n",
    "\n",
    "This is not true, however, if the uncertainty set is not a polytope, but is, for example, an ellipsoid (ball) with infinitely many extreme points - it is expected that there will always be some minuscule constraint violation remaining after a certain number of iterations. "
   ]
  },
  {
   "cell_type": "markdown",
   "metadata": {},
   "source": [
    "We will now illustrate how to use conic optimization to solve the problem using robust counterparts for an ellipsoidal uncertainty set."
   ]
  },
  {
   "cell_type": "markdown",
   "metadata": {
    "id": "FeH2kXz6K3iJ"
   },
   "source": [
    "## Ball uncertainty set\n",
    "\n",
    "Let us now make yet another different assumption regarding the uncertainty related to copper consumption. More specifically, we assume that the two uncertain coefficients $z_1$ and $z_2$ can vary in a 2-dimensional ball centered around the point $(\\bar{z}_1,\\bar{z}_2) = (4,2)$ and with radius $r$. \n",
    "\n",
    "### Robust counterpart of ball uncertainty\n",
    "A straightforward reformulation leads to the equivalent constraint:\n",
    "\n",
    "$$\n",
    "  \\bar{z}_1x_1+\\bar{z}_2x_2 + r \\|x\\|_2 \\leq 4800\n",
    "$$\n",
    "\n",
    "By defining $y = 4800 - \\bar{z}_1x_1 - \\bar{z}_2x_2$ and $w = r x$, we may write:\n",
    "\n",
    "$$\n",
    "  \\|w\\|^2_2 \\leq y^2\n",
    "$$"
   ]
  },
  {
   "cell_type": "markdown",
   "metadata": {
    "id": "PdNL7TLNB18o"
   },
   "source": [
    "We now need to add this newly obtained conic constraint to the original BIM model. The optimization problem is nonlinear, but dedicated solvers can leverage the fact that it is conic and solve it efficiently. Specifically, `cplex`, `gurobi`, `xpress`, `copt`, and `mosek` support second-order cones. On the other hand, `ipopt` is a generic solver for nonlinear optimization problems.\n",
    "\n",
    "Note that $\\| x \\| \\leq t$ is for $t \\geq 0$ equivalent to $\\| x \\|^2 \\leq t^2$. A few commercial solvers (`gurobi`, `cplex`, `xpress`, and `copt`) auto-detect second-order cones from quadratic inequalities. AMPL Mosek driver [recognizes conic algebra in the model](https://amplmp.readthedocs.io/en/latest/rst/model-guide.html) and presents it to Mosek via its API. Note that the essential part to make the model convex is having the right-hand side nonnegative."
   ]
  },
  {
   "cell_type": "code",
   "execution_count": 22,
   "metadata": {},
   "outputs": [
    {
     "name": "stdout",
     "output_type": "stream",
     "text": [
      "Overwriting BIM_robust_ball.mod\n"
     ]
    }
   ],
   "source": [
    "%%writefile BIM_robust_ball.mod\n",
    "\n",
    "set CHIPS;\n",
    "\n",
    "param profits{CHIPS};\n",
    "param copper{CHIPS};\n",
    "\n",
    "var x{CHIPS} >= 0;\n",
    "\n",
    "maximize Profit: sum {c in CHIPS} profits[c] * x[c];\n",
    "\n",
    "s.t. Silicon: x['logic'] <= 1000;\n",
    "s.t. Germanium: x['memory'] <= 1500;\n",
    "s.t. Plastic: sum {c in CHIPS} x[c] <= 1750;\n",
    "\n",
    "param radius;\n",
    "    \n",
    "var y >= 0;\n",
    "var w{CHIPS} >= 0;\n",
    "\n",
    "s.t. Copper:\n",
    "    y == 4800 - sum {c in CHIPS} copper[c] * x[c];\n",
    "s.t. X2W{i in CHIPS}:\n",
    "    w[i] == radius * x[i];\n",
    "s.t. Robust:\n",
    "    y^2 >= sum {c in CHIPS} w[c]^2;\n"
   ]
  },
  {
   "cell_type": "code",
   "execution_count": 23,
   "metadata": {},
   "outputs": [],
   "source": [
    "def BIMWithBallUncertainty(radius, SOLVER, int_x=False):\n",
    "    ampl = AMPL()\n",
    "    ampl.read(\"BIM_robust_ball.mod\")\n",
    "    if int_x:\n",
    "        ampl.eval(\"redeclare var x{CHIPS} >= 0, integer;\")\n",
    "\n",
    "    ampl.set[\"CHIPS\"] = chips\n",
    "    ampl.param[\"profits\"] = profits\n",
    "    ampl.param[\"copper\"] = copper\n",
    "\n",
    "    ampl.param[\"radius\"] = radius\n",
    "\n",
    "    ampl.option[\"solver\"] = SOLVER\n",
    "    ampl.solve()\n",
    "\n",
    "    return ampl"
   ]
  },
  {
   "cell_type": "code",
   "execution_count": 24,
   "metadata": {
    "colab": {
     "base_uri": "https://localhost:8080/"
    },
    "executionInfo": {
     "elapsed": 29,
     "status": "ok",
     "timestamp": 1633441689060,
     "user": {
      "displayName": "Joaquim Gromicho",
      "photoUrl": "https://lh3.googleusercontent.com/a/default-user=s64",
      "userId": "14375950305363805729"
     },
     "user_tz": -120
    },
    "id": "RB17G1AqK3iK",
    "outputId": "8f2d5c93-bb47-4574-a4d5-15a2f4cc6c54"
   },
   "outputs": [
    {
     "name": "stdout",
     "output_type": "stream",
     "text": [
      "Ipopt 3.12.13: \n",
      "\n",
      "******************************************************************************\n",
      "This program contains Ipopt, a library for large-scale nonlinear optimization.\n",
      " Ipopt is released as open source code under the Eclipse Public License (EPL).\n",
      "         For more information visit http://projects.coin-or.org/Ipopt\n",
      "******************************************************************************\n",
      "\n",
      "This is Ipopt version 3.12.13, running with linear solver mumps.\n",
      "NOTE: Other linear solvers might be more efficient (see Ipopt documentation).\n",
      "\n",
      "Number of nonzeros in equality constraint Jacobian...:        7\n",
      "Number of nonzeros in inequality constraint Jacobian.:        5\n",
      "Number of nonzeros in Lagrangian Hessian.............:        3\n",
      "\n",
      "Total number of variables............................:        5\n",
      "                     variables with only lower bounds:        3\n",
      "                variables with lower and upper bounds:        2\n",
      "                     variables with only upper bounds:        0\n",
      "Total number of equality constraints.................:        3\n",
      "Total number of inequality constraints...............:        2\n",
      "        inequality constraints with only lower bounds:        1\n",
      "   inequality constraints with lower and upper bounds:        0\n",
      "        inequality constraints with only upper bounds:        1\n",
      "\n",
      "iter    objective    inf_pr   inf_du lg(mu)  ||d||  lg(rg) alpha_du alpha_pr  ls\n",
      "   0 -2.0999979e-01 4.80e+03 1.68e+00  -1.0 0.00e+00    -  0.00e+00 0.00e+00   0\n",
      "   1 -1.5068986e+04 9.09e-13 1.26e+05  -1.0 1.37e+03    -  1.08e-05 1.00e+00f  1\n",
      "   2 -1.5401654e+04 0.00e+00 4.25e+04  -1.0 1.11e+02   2.0 6.57e-01 1.00e+00f  1\n",
      "   3 -1.5551016e+04 9.09e-13 1.15e+04  -1.0 4.99e+01   1.5 9.84e-01 1.00e+00f  1\n",
      "   4 -1.5602002e+04 9.09e-13 2.22e+03  -1.0 1.70e+01   1.0 1.00e+00 1.00e+00f  1\n",
      "   5 -1.5611246e+04 0.00e+00 1.06e+02  -1.0 2.56e+00   0.6 1.00e+00 1.00e+00h  1\n",
      "   6 -1.5616306e+04 0.00e+00 2.01e+00  -1.0 1.62e+00   0.1 1.00e+00 1.00e+00f  1\n",
      "   7 -1.7601149e+04 1.36e+03 1.93e+00  -1.0 1.70e+04    -  4.97e-03 3.89e-02f  1\n",
      "   8 -1.7620596e+04 1.36e+03 1.93e+00  -1.0 2.53e+04    -  2.25e-02 2.67e-04f  1\n",
      "   9 -1.7620526e+04 1.34e+03 4.92e+00  -1.0 5.25e+02    -  1.00e+00 9.75e-03h  1\n",
      "iter    objective    inf_pr   inf_du lg(mu)  ||d||  lg(rg) alpha_du alpha_pr  ls\n",
      "  10 -1.7601097e+04 0.00e+00 4.69e-01  -1.0 1.29e+01    -  1.00e+00 1.00e+00h  1\n",
      "  11 -1.7603063e+04 7.11e-15 9.83e-03  -1.0 5.16e+00    -  1.00e+00 1.00e+00h  1\n",
      "  12 -1.7603064e+04 0.00e+00 1.00e-06  -1.0 1.62e+00    -  1.00e+00 1.00e+00h  1\n",
      "  13 -1.7603259e+04 3.55e-15 2.90e-06  -2.5 8.31e+00    -  1.00e+00 1.00e+00f  1\n",
      "  14 -1.7603264e+04 0.00e+00 1.50e-09  -3.8 2.12e-01    -  1.00e+00 1.00e+00h  1\n",
      "  15 -1.7603265e+04 7.11e-15 1.84e-11  -5.7 1.26e-02    -  1.00e+00 1.00e+00h  1\n",
      "  16 -1.7603265e+04 0.00e+00 2.51e-14  -8.6 1.57e-04    -  1.00e+00 1.00e+00h  1\n",
      "\n",
      "Number of Iterations....: 16\n",
      "\n",
      "                                   (scaled)                 (unscaled)\n",
      "Objective...............:  -1.7603264635190098e+04   -1.7603264635190098e+04\n",
      "Dual infeasibility......:   2.5059815333960955e-14    2.5059815333960955e-14\n",
      "Constraint violation....:   0.0000000000000000e+00    0.0000000000000000e+00\n",
      "Complementarity.........:   2.5059819139477092e-09    2.5059819139477092e-09\n",
      "Overall NLP error.......:   2.5059819139477092e-09    2.5059819139477092e-09\n",
      "\n",
      "\n",
      "Number of objective function evaluations             = 17\n",
      "Number of objective gradient evaluations             = 17\n",
      "Number of equality constraint evaluations            = 17\n",
      "Number of inequality constraint evaluations          = 17\n",
      "Number of equality constraint Jacobian evaluations   = 17\n",
      "Number of inequality constraint Jacobian evaluations = 17\n",
      "Number of Lagrangian Hessian evaluations             = 16\n",
      "Total CPU secs in IPOPT (w/o function evaluations)   =      0.011\n",
      "Total CPU secs in NLP function evaluations           =      0.000\n",
      "\n",
      "EXIT: Optimal Solution Found.\n",
      "\b\b\b\b\b\b\b\b\b\b\b\b\b\b\b \n",
      "Ipopt 3.12.13: Optimal Solution Found\n",
      "\n",
      "suffix ipopt_zU_out OUT;\n",
      "suffix ipopt_zL_out OUT;\n",
      "Solver: ipopt, solver status: solve_result\n",
      "  'solved'  \n",
      "\n",
      "x = ({'logic': 617.7548258979735, 'memory': 1132.245191601602})\n",
      "optimal value = 17603.26\n"
     ]
    }
   ],
   "source": [
    "radius = 0.05\n",
    "ampl = BIMWithBallUncertainty(radius, SOLVER_NLO)\n",
    "\n",
    "x = ampl.get_variable(\"x\").get_values().to_dict()\n",
    "print(f\"Solver: {SOLVER_NLO}, solver status:\", ampl.get_data(\"solve_result\"))\n",
    "print(f\"x = ({x})\")\n",
    "print(f'optimal value = {ampl.obj[\"Profit\"].value():.2f}')"
   ]
  },
  {
   "cell_type": "markdown",
   "metadata": {
    "id": "CGAcVL5yK3iK"
   },
   "source": [
    "The solvers `bonmin`, `cplex`, `gurobi` and `xpress` are capable of solving the mixed integer version of the same model: "
   ]
  },
  {
   "cell_type": "code",
   "execution_count": 25,
   "metadata": {
    "colab": {
     "base_uri": "https://localhost:8080/"
    },
    "executionInfo": {
     "elapsed": 526,
     "status": "ok",
     "timestamp": 1633441689559,
     "user": {
      "displayName": "Joaquim Gromicho",
      "photoUrl": "https://lh3.googleusercontent.com/a/default-user=s64",
      "userId": "14375950305363805729"
     },
     "user_tz": -120
    },
    "id": "WGJvS_K_K3iK",
    "outputId": "556705bc-5883-4c02-b6dd-394cfbc5e969"
   },
   "outputs": [
    {
     "name": "stdout",
     "output_type": "stream",
     "text": [
      "Bonmin 1.8.9 using Cbc 2.10.8 and Ipopt 3.12.13\n",
      "bonmin: \n",
      "\n",
      "******************************************************************************\n",
      "This program contains Ipopt, a library for large-scale nonlinear optimization.\n",
      " Ipopt is released as open source code under the Eclipse Public License (EPL).\n",
      "         For more information visit http://projects.coin-or.org/Ipopt\n",
      "******************************************************************************\n",
      "\n",
      "NLP0012I \n",
      "              Num      Status      Obj             It       time                 Location\n",
      "NLP0014I             1         OPT -17603.265       16 0.035354\n",
      "NLP0014I             2         OPT -17602.552        7 0.007343\n",
      "NLP0014I             3         OPT -17601       10 0.009459\n",
      "NLP0014I             4         OPT -17601        7 0.005379\n",
      "NLP0014I             5         OPT -17601.863        7 0.00515\n",
      "Cbc0010I After 0 nodes, 1 on tree, 1e+50 best solution, best possible -1.7976931e+308 (0.03 seconds)\n",
      "NLP0014I             6         OPT -17601.863        7 0.006115\n",
      "NLP0014I             7         OPT -17601        7 0.006989\n",
      "NLP0014I             8      INFEAS 0.4853767       14 0.016151\n",
      "NLP0014I             9         OPT -17599.648        7 0.005641\n",
      "NLP0014I            10         OPT -17595        9 0.006713\n",
      "NLP0012I \n",
      "              Num      Status      Obj             It       time                 Location\n",
      "NLP0014I             1         OPT -17595        1 0.00125\n",
      "Cbc0004I Integer solution of -17595 found after 44 iterations and 5 nodes (0.08 seconds)\n",
      "NLP0014I            11         OPT -17601       11 0.008915\n",
      "NLP0014I             2         OPT -17601        1 0.001178\n",
      "Cbc0004I Integer solution of -17601 found after 55 iterations and 6 nodes (0.09 seconds)\n",
      "Cbc0001I Search completed - best objective -17601, took 55 iterations and 6 nodes (0.09 seconds)\n",
      "Cbc0032I Strong branching done 2 times (31 iterations), fathomed 0 nodes and fixed 0 variables\n",
      "Cbc0035I Maximum depth 2, 0 variables fixed on reduced cost\n",
      "\n",
      " \t\"Finished\"\n",
      "\n",
      "bonmin: Optimal\n",
      "Solver: bonmin, solver status: solve_result\n",
      "  'solved'  \n",
      "\n",
      "x = ({'logic': 617.0, 'memory': 1133.0})\n",
      "optimal value = 17601.00\n"
     ]
    }
   ],
   "source": [
    "ampl = BIMWithBallUncertainty(radius, SOLVER_MINLO, True)\n",
    "\n",
    "x = ampl.get_variable(\"x\").get_values().to_dict()\n",
    "print(f\"Solver: {SOLVER_MINLO}, solver status:\", ampl.get_data(\"solve_result\"))\n",
    "print(f\"x = ({x})\")\n",
    "print(f'optimal value = {ampl.obj[\"Profit\"].value():.2f}')"
   ]
  }
 ],
 "metadata": {
  "kernelspec": {
   "display_name": "Python 3 (ipykernel)",
   "language": "python",
   "name": "python3"
  },
  "language_info": {
   "codemirror_mode": {
    "name": "ipython",
    "version": 3
   },
   "file_extension": ".py",
   "mimetype": "text/x-python",
   "name": "python",
   "nbconvert_exporter": "python",
   "pygments_lexer": "ipython3",
   "version": "3.10.6"
  }
 },
 "nbformat": 4,
 "nbformat_minor": 4
}
