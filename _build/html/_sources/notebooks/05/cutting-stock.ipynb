{
 "cells": [
  {
   "cell_type": "markdown",
   "metadata": {
    "id": "_eaxyfyDjXUh"
   },
   "source": [
    "# Extra Material: Cutting Stock\n",
    "\n",
    "The cutting stock problem is familiar to anyone who has cut parts out of stock materials. In the one-dimensional case, the stock materials are available in predetermined lengths and prices. The task is to cut a specific list of parts from the stock materials. The problem is to determine which parts to cut from each piece of stock material to minimize cost. This problem applies broadly to commercial applications, including the allocation of non-physical resources like capital budgeting or resource allocation.\n",
    "\n",
    "This notebook presents several models and solution algorithms for the cutting stock problem."
   ]
  },
  {
   "cell_type": "code",
   "execution_count": 57,
   "metadata": {
    "colab": {
     "base_uri": "https://localhost:8080/"
    },
    "executionInfo": {
     "elapsed": 52005,
     "status": "ok",
     "timestamp": 1683316564313,
     "user": {
      "displayName": "Jeffrey Kantor",
      "userId": "09038942003589296665"
     },
     "user_tz": 240
    },
    "id": "bmKKVtw8jcK6",
    "outputId": "a84b1ba2-6a3f-4453-c6aa-3bfc4a4760f6"
   },
   "outputs": [],
   "source": [
    "# install Pyomo and solvers\n",
    "import sys\n",
    "import os\n",
    "\n",
    "if 'google.colab' in sys.modules:\n",
    "    !pip install idaes-pse --pre >/dev/null 2>/dev/null\n",
    "    !idaes get-extensions --to ./bin \n",
    "    os.environ['PATH'] += ':bin'\n",
    "    \n",
    "SOLVER_MILO = \"cbc\"\n",
    "SOLVER_MINLO = \"couenne\""
   ]
  },
  {
   "cell_type": "markdown",
   "metadata": {
    "id": "IYpKQkbd7fnS"
   },
   "source": [
    "## Problem formulation\n",
    "\n",
    "Consider a set ${S}$ of available stock materials that can be cut to size to produce a set of finished parts. Each stock $s\\in S$ is characterized by a length $l^S_s$, a cost $c_s$ per piece, and is available in unlimited quantity. A customer order is received to product a set of finished products $F$. Each finished product $f\\in F$ is specified by a required number $d_f$ and length $l^F_f$. \n",
    "\n",
    "The **cutting stock problem** is to find a minimum cost solution to fulfill the customer order from the stock materials. The problem is illustrated is by data for an example given in the original paper by Gilmore and Gamory (1961).\n",
    "\n",
    "**Stocks**\n",
    "\n",
    "| stocks <br> $s$ | length <br> $l^S_s$ | cost <br> $c_s$ |\n",
    "| :--: | :--: | :--: |\n",
    "| A | 5 | 6 |\n",
    "| B | 6 | 7 |\n",
    "| C | 9 |10 |\n",
    "\n",
    "**Finished Parts**\n",
    "\n",
    "| finished parts <br> $f$ | length <br> $l^F_f$ | demand <br> $d_f$ |\n",
    "| :--: | :--: | :--: |\n",
    "| S | 2 | 20 |\n",
    "| M | 3 | 10 |\n",
    "| L | 4 | 20 |\n",
    "\n",
    "This information is represented in Python as nested dictionaries where the names for stocks and finished parts are used as indices."
   ]
  },
  {
   "cell_type": "code",
   "execution_count": 58,
   "metadata": {},
   "outputs": [],
   "source": [
    "stocks = {\n",
    "    'A': {'length': 5, 'cost': 6},\n",
    "    'B': {'length': 6, 'cost': 7},\n",
    "    'C': {'length': 9, 'cost': 10},\n",
    "}\n",
    "\n",
    "finish = {\n",
    "    'S': {'length': 2, 'demand': 20},\n",
    "    'M': {'length': 3, 'demand': 10},\n",
    "    'L': {'length': 4, 'demand': 20},\n",
    "}"
   ]
  },
  {
   "cell_type": "markdown",
   "metadata": {
    "id": "nu-V5mAWD_h0"
   },
   "source": [
    "## Patterns\n",
    "\n",
    "One approach to solving this problem is to create a list of all finished parts, a list of stocks for each length, and then use a set of binary decision variables to assign each finished product to a particular piece of stock. This approach will work well for a small problems, but the computational complexity scales much too rapidly with the size of the problem to be practical for business applications.\n",
    "\n",
    "To address the issue of computational complexity, in 1961 Gilmore and Gamory introduced an additional data structure for the problem that is now referred to as \"patterns\". A pattern is a list of finished parts that can be cut from a particular stock item. \n",
    "\n",
    "A pattern $p$ is specified by the stock $s_p$ assigned to the pattern and integers $a_{pf}$ that specify how many finished parts of type $f$ are cut from stock $s_p$. A pattern $p\\in P$ is feasible if\n",
    "\n",
    "$$\n",
    "\\begin{align}\n",
    "\\sum_{f\\in F}a_{pf}l^F_f  & \\leq   l^S_{s_p}\n",
    "\\end{align}\n",
    "$$\n",
    "\n",
    "The function `make_patterns` defined below produces a partial list of feasible patterns for given sets of stocks and finished parts. Each pattern is represented as dictionary that specifies an associated stock item, and a dictionary of cuts that specify the finished parts cut from the stock. The algorithm is simple, it just considers every finished parts and stock items, then reports the number of parts $f$ that can be cut from stock item $s$."
   ]
  },
  {
   "cell_type": "code",
   "execution_count": 59,
   "metadata": {},
   "outputs": [
    {
     "data": {
      "text/plain": [
       "[{'stock': 'A', 'cuts': {'S': 2, 'M': 0, 'L': 0}},\n",
       " {'stock': 'B', 'cuts': {'S': 3, 'M': 0, 'L': 0}},\n",
       " {'stock': 'C', 'cuts': {'S': 4, 'M': 0, 'L': 0}},\n",
       " {'stock': 'A', 'cuts': {'S': 0, 'M': 1, 'L': 0}},\n",
       " {'stock': 'B', 'cuts': {'S': 0, 'M': 2, 'L': 0}},\n",
       " {'stock': 'C', 'cuts': {'S': 0, 'M': 3, 'L': 0}},\n",
       " {'stock': 'A', 'cuts': {'S': 0, 'M': 0, 'L': 1}},\n",
       " {'stock': 'B', 'cuts': {'S': 0, 'M': 0, 'L': 1}},\n",
       " {'stock': 'C', 'cuts': {'S': 0, 'M': 0, 'L': 2}}]"
      ]
     },
     "metadata": {},
     "output_type": "display_data"
    }
   ],
   "source": [
    "def make_patterns(stocks, finish):\n",
    "    \"\"\"\n",
    "    Generates patterns of feasible cuts from stock lengths to meet specified finish lengths.\n",
    "\n",
    "    Parameters:\n",
    "    stocks (dict): A dictionary where keys are stock identifiers and values are dictionaries \n",
    "                   with key 'length' representing the length of each stock.\n",
    "\n",
    "    finish (dict): A dictionary where keys are finish identifiers and values are dictionaries\n",
    "                   with key 'length' representing the required finish lengths.\n",
    "\n",
    "    Returns:\n",
    "    patterns (list): A list of dictionaries, where each dictionary represents a pattern of cuts. \n",
    "                   Each pattern dictionary contains 'stock' (the stock identifier) and 'cuts' \n",
    "                   (a dictionary where keys are finish identifiers and the value is the number \n",
    "                   of cuts from the stock for each finish).\n",
    "    \"\"\"\n",
    "    \n",
    "    patterns = []\n",
    "    for f in finish:\n",
    "        feasible = False\n",
    "        for s in stocks:\n",
    "            \n",
    "            # max number of f that fit on s\n",
    "            num_cuts = int(stocks[s]['length']/finish[f]['length'])\n",
    "            \n",
    "            # make pattern and add to list of patterns\n",
    "            if num_cuts > 0:\n",
    "                feasible = True\n",
    "                cuts_dict = {key: 0 for key in finish.keys()}\n",
    "                cuts_dict[f] = num_cuts\n",
    "                patterns.append({'stock': s, 'cuts': cuts_dict})\n",
    "                    \n",
    "        if not feasible:\n",
    "            print(f\"No feasible pattern was found for {f}\")\n",
    "            return []\n",
    "        \n",
    "    return patterns\n",
    "\n",
    "patterns = make_patterns(stocks, finish)\n",
    "display(patterns)"
   ]
  },
  {
   "cell_type": "markdown",
   "metadata": {},
   "source": [
    "The function `plot_patterns`, defined below, displays a graphical depiction of the list of patterns. "
   ]
  },
  {
   "cell_type": "code",
   "execution_count": 60,
   "metadata": {},
   "outputs": [
    {
     "data": {
      "image/png": "[encoded data removed]",
      "text/plain": [
       "<Figure size 800x365 with 1 Axes>"
      ]
     },
     "metadata": {},
     "output_type": "display_data"
    }
   ],
   "source": [
    "import matplotlib.pyplot as plt\n",
    "\n",
    "def plot_patterns(stocks, finish, patterns):\n",
    "    \n",
    "    # set up figure parameters\n",
    "    lw = 0.6\n",
    "    cmap = plt.get_cmap(\"tab10\")\n",
    "    colors = {f: cmap(k % 10) for k, f in enumerate(finish.keys())}\n",
    "    fig, ax = plt.subplots(1, 1, figsize=(8, 0.05 + 0.4*len(patterns)))\n",
    "    \n",
    "    for k, pattern in enumerate(patterns):\n",
    "        \n",
    "        # get stock key/name\n",
    "        s = pattern['stock']\n",
    "        \n",
    "        # plot stock as a grey background\n",
    "        y_lo = (-k - lw/2, -k - lw/2)\n",
    "        y_hi = (-k + lw/2, -k + lw/2)\n",
    "        ax.fill_between((0, stocks[s]['length']), y_lo, y_hi, color=\"k\", alpha=0.1)\n",
    "        \n",
    "        # overlay finished parts\n",
    "        xa = 0\n",
    "        for f, n  in pattern['cuts'].items():\n",
    "            for j in range(n):\n",
    "                xb = xa + finish[f]['length']\n",
    "                ax.fill_between((xa, xb), y_lo, y_hi, alpha=1.0, color=colors[f])\n",
    "                ax.plot((xb, xb), (y_lo[0], y_hi[0]), 'w', lw=1, solid_capstyle=\"butt\")\n",
    "                ax.text((xa + xb)/2, -k, f, ha=\"center\", va=\"center\", fontsize=6, color=\"w\", weight=\"bold\")\n",
    "                xa = xb\n",
    "        \n",
    "    # clean up axes\n",
    "    ax.spines[['top', 'right', 'left', 'bottom']].set_visible(False)\n",
    "    ax.set_yticks(range(0, -len(patterns), -1), [pattern['stock'] for pattern in patterns], fontsize=8)\n",
    "    \n",
    "    return ax\n",
    "\n",
    "ax = plot_patterns(stocks, finish, patterns)\n"
   ]
  },
  {
   "cell_type": "markdown",
   "metadata": {},
   "source": [
    "## Optimal cutting using known patterns\n",
    "\n",
    "Given a list of patterns, the optimization problem is to compute how many copies of each pattern should be cut to meet the demand for finished parts at minimum cost. \n",
    "\n",
    "Let the index $s_p$ denote the stock specified by pattern $p$, and let $x_{s_p}$ denote the number pieces of stock $s_p$ is used. For a given list of patterns, the minimum cost optimization problem is a mixed integer linear optimization (MILO) subject to meeting demand constraints for each finished item.\n",
    "\n",
    "$$\n",
    "\\begin{align}\n",
    "\\min\\quad & \\sum_{p\\in P} c_{s_p} x_{s_p} \\\\\n",
    "\\text{s.t.}\\quad\n",
    "& \\sum_{p\\in P}a_{pf} x_{s_p} \\geq d_f && \\forall f\\in F\\\\\n",
    "& x_{s_p}  \\in \\mathbb{Z}_+ && \\forall p\\in P\\\\\n",
    "\\end{align}\n",
    "$$\n",
    "\n",
    "The following cell is a Pyomo implementation of this optimization model."
   ]
  },
  {
   "cell_type": "code",
   "execution_count": 61,
   "metadata": {},
   "outputs": [],
   "source": [
    "import pyomo.environ as pyo\n",
    "\n",
    "# Given dictionaries of stocks and finished parts, and a list of patterns, \n",
    "# find minimum choice of patterns to cut\n",
    "\n",
    "def cut_patterns(stocks, finish, patterns):\n",
    "    m = pyo.ConcreteModel()\n",
    "\n",
    "    m.S = pyo.Set(initialize=list(stocks.keys()))\n",
    "    m.F = pyo.Set(initialize=list(finish.keys()))\n",
    "    m.P = pyo.RangeSet(0, len(patterns)-1)\n",
    "    \n",
    "    m.x = pyo.Var(m.P, domain=pyo.NonNegativeIntegers)\n",
    "\n",
    "    @m.Objective(sense=pyo.minimize)\n",
    "    def cost(m):\n",
    "        s = {p: patterns[p]['stock'] for p in m.P}\n",
    "        c = {p:  stocks[s[p]]['cost'] for p in m.P}\n",
    "        return sum(c[p] * m.x[p] for p in m.P)\n",
    "\n",
    "    @m.Constraint(m.F)\n",
    "    def demand(m, f):\n",
    "        a = {p: patterns[p]['cuts'][f] for p in m.P}\n",
    "        return sum(a[p] * m.x[p] for p in m.P) >= finish[f]['demand']\n",
    "    \n",
    "    solver = pyo.SolverFactory(SOLVER_MILO)\n",
    "    solver.solve(m)\n",
    "\n",
    "    return [m.x[p]() for p in m.P], m.cost()\n",
    "\n",
    "x, cost = cut_patterns(stocks, finish, patterns)"
   ]
  },
  {
   "cell_type": "markdown",
   "metadata": {},
   "source": [
    "The following function `plot_nonzero_patterns` is wrapper for `plot_patterns` that removes unused patterns from graphic, shows the number of times each pattern is used, and adds cost to the title."
   ]
  },
  {
   "cell_type": "code",
   "execution_count": 62,
   "metadata": {},
   "outputs": [
    {
     "data": {
      "image/png": "[encoded data removed]",
      "text/plain": [
       "<Figure size 800x205 with 1 Axes>"
      ]
     },
     "metadata": {},
     "output_type": "display_data"
    }
   ],
   "source": [
    "def plot_nonzero_patterns(stocks, finish, patterns, x, cost):\n",
    "    k = [j for j, _ in enumerate(x) if _ > 0]\n",
    "    ax = plot_patterns(stocks, finish, [patterns[j] for j in k])\n",
    "    ticks = [f\"{x[k]} x {pattern['stock']}\" for k, pattern in enumerate(patterns) if x[k] > 0]\n",
    "    ax.set_yticks(range(0, -len(k), -1), ticks, fontsize=8)\n",
    "    ax.set_title(f\"Cost = {round(cost,2)}\", fontsize=10)\n",
    "    return ax\n",
    "    \n",
    "ax = plot_nonzero_patterns(stocks, finish, patterns, x, cost)"
   ]
  },
  {
   "cell_type": "markdown",
   "metadata": {},
   "source": [
    "## Cutting Stock Problem: Bilinear reformulation\n",
    "\n",
    "The `cut_patterns` model requires a known list of cutting patterns. This works well if the patterns comprising an optimal solution to the problem are known. But since they are not initially known, an optimization model is needed that simultaneously solves for an optimal patterns and the cutting list.\n",
    "\n",
    "Let binary variable $b_{sp}\\in\\mathbb{Z}_2$ denote the assignment of stock $s$ to pattern $p$, and let $P = 0, 1, \\ldots, N_p-1$ index a list of patterns. For sufficiently large $N_p$, an optimal solution to the stock cutting problem is given by the model\n",
    "\n",
    "$$\n",
    "\\begin{align}\n",
    "\\min\\quad & \\sum_{s\\in S} \\sum_{p\\in P} c_{s} b_{sp} x_{p} \\\\\n",
    "\\text{s.t.}\\quad\n",
    "& \\sum_{s\\in S}b_{sp} =  1 && \\forall p\\in P \\\\\n",
    "& \\sum_{f\\in F}a_{fp}l^F_f  \\leq \\sum_{s\\in S} b_{sp} l^S_s && \\forall p\\in P \\\\\n",
    "& \\sum_{p\\in P}a_{fp} x_{p} \\geq d_f && \\forall f\\in F\\\\\n",
    "& a_{fp}, x_p  \\in \\mathbb{Z}_+ && \\forall f\\in F,  \\forall p\\in P \\\\\n",
    "& b_{sp} \\in \\mathbb{Z}_2 && \\forall s\\in S,  \\forall p\\in P \\\\\n",
    "\\end{align}\n",
    "$$\n",
    "\n",
    "Since there is no ordering of the patterns, without loss of generality an additional constraint can be added to reduce the symmetries present in the problem.\n",
    "\n",
    "$$\n",
    "\\begin{align}\n",
    "& x_{p-1} \\geq x_{p} && \\forall p\\in P, p > 0\n",
    "\\end{align}\n",
    "$$\n",
    "\n",
    "This is a challenging optimization problem with a cost objective that is bilinear with respect to the the decision variables $b_{sp}$ and $x_p$, and a set of constraints for the demand of finished parts that are bilinear in the decision variables $a_{fp}$ and $x_p$. Because the constraints are a lower bound on a positive sum of bilinear terms, a simple substitution to create rotated quadratic cones fails to produce a convex program.\n",
    "\n",
    "The following model is a direct translation of the bilinear optimization model into Pyomo. A solution is attempted using a mixed-integer nonlinear optimization (MINLO) solver."
   ]
  },
  {
   "cell_type": "code",
   "execution_count": 63,
   "metadata": {},
   "outputs": [
    {
     "data": {
      "image/png": "[encoded data removed]",
      "text/plain": [
       "<Figure size 800x85 with 1 Axes>"
      ]
     },
     "metadata": {},
     "output_type": "display_data"
    }
   ],
   "source": [
    "import pyomo.environ as pyo\n",
    "\n",
    "def bilinear_cut_stock(stocks, finish, Np=len(finish)):\n",
    "    m = pyo.ConcreteModel()\n",
    "\n",
    "    m.S = pyo.Set(initialize=list(stocks.keys()))\n",
    "    m.F = pyo.Set(initialize=list(finish.keys()))\n",
    "    m.P = pyo.RangeSet(0, Np-1)\n",
    "    \n",
    "    # sum of all finished parts\n",
    "    f_total_demand = max([finish[f]['demand'] for f in m.F])\n",
    "    \n",
    "    # define a with bounded values\n",
    "    def a_bounds(m, f, p):\n",
    "        return (0, max([int(stocks[s]['length']/finish[f]['length']) for s in m.S]))\n",
    "    m.a = pyo.Var(m.F, m.P, domain=pyo.NonNegativeIntegers, bounds=a_bounds)\n",
    "    m.b = pyo.Var(m.S, m.P, domain=pyo.Binary)\n",
    "    m.x = pyo.Var(m.P, domain=pyo.NonNegativeIntegers, bounds=(0, f_total_demand))\n",
    "    \n",
    "    # minimize cost\n",
    "    @m.Objective(sense=pyo.minimize)\n",
    "    def cost(m):\n",
    "        c = {s:  stocks[s]['cost'] for s in m.S}\n",
    "        return sum(c[s]* m.b[s, p] * m.x[p] for s in m.S for p in m.P)\n",
    "\n",
    "    # assign one stock to each pattern\n",
    "    @m.Constraint(m.P)\n",
    "    def assign_each_stock_to_pattern(m, p):\n",
    "        return sum(m.b[s, p] for s in m.S) == 1\n",
    "\n",
    "    # pattern feasibility\n",
    "    @m.Constraint(m.P)\n",
    "    def feasible_pattern(m, p):\n",
    "        return sum(m.a[f, p] * finish[f]['length'] for f in m.F) <= sum(m.b[s, p] * stocks[s]['length'] for s in m.S)\n",
    "\n",
    "    # demand constraints\n",
    "    @m.Constraint(m.F)\n",
    "    def demand(m, f):\n",
    "        return sum(m.a[f, p] * m.x[p] for p in m.P) >= finish[f]['demand']\n",
    "    \n",
    "    # order the patterns to reduce symmetries\n",
    "    @m.Constraint(m.P)\n",
    "    def order(m, p):\n",
    "        if p == 0:\n",
    "            return pyo.Constraint.Skip\n",
    "        return m.x[p] >= m.x[p-1]\n",
    "    \n",
    "    # upper bound on sum of all patterns\n",
    "    @m.Constraint()\n",
    "    def max_patterns(m):\n",
    "        return sum(m.x[p] for p in m.P) <= f_total_demand\n",
    "\n",
    "    pyo.SolverFactory(SOLVER_MINLO).solve(m)\n",
    "    \n",
    "    cost = m.cost()\n",
    "    x = [m.x[p]() for p in m.P]\n",
    "    patterns = []\n",
    "    for p in m.P:\n",
    "        a = {f: round(m.a[f, p]()) for f in m.F}\n",
    "        patterns.append({'stock': [s for s in m.S if m.b[s, p]() > 0][0], 'cuts': a})        \n",
    "    \n",
    "    return patterns, x, cost\n",
    "\n",
    "\n",
    "patterns, x, cost = bilinear_cut_stock(stocks, finish, 2)\n",
    "plot_nonzero_patterns(stocks, finish, patterns, x, cost);"
   ]
  },
  {
   "cell_type": "markdown",
   "metadata": {},
   "source": [
    "## Pattern Generation: Bilinear Model\n",
    "\n",
    "From limited testing, the bilinear model for the cutting stock problem appears to work well for small data sets, but does not scale well for larger problem instances, at least for the solvers included in the testing. This shouldn't be surprising given the non-convex nature of the problem, the exclusive use of integer and binary decision variables, and a high degree of symmetry in the model equations.\n",
    "\n",
    "So rather than attempt to solve the full problem all at once, the following model assumes an initial list of patterns has been determined, perhaps using the `make_patterns` function defined above, then attempts to generate one more pattern that further reduces the objective function. The result remains a non-convex, bilinear optimization problem, but with fewer binary decision variables and at most one bilinear term in the objective and constraints.\n",
    "\n",
    "$$\n",
    "\\begin{align}\n",
    "\\min\\quad & \\sum_{p\\in P} c_{s_p} x_{s_p} + x' \\sum_{s\\in S} b_s c_s\\\\\n",
    "\\text{s.t.}\\quad\n",
    "& \\sum_{s\\in S}b'_{s} =  1  \\\\\n",
    "& \\sum_{f\\in F}a'_{f}l^F_f  \\leq \\sum_{s\\in S} b'_{s} l^S_s  \\\\\n",
    "& \\sum_{p\\in P}a_{fp} x_{s_p}  + a'_f x'\\geq d_f && \\forall f\\in F\\\\\n",
    "& a'_{f}, x_p  \\in \\mathbb{Z}_+ && \\forall f\\in F,  \\forall p\\in P \\\\\n",
    "& b'_{s} \\in \\mathbb{Z}_2 && \\forall s\\in S \\\\\n",
    "\\end{align}\n",
    "$$\n",
    "\n",
    "The function `generate_pattern_bilinear` is a direct Pyomo implementation that uses a MINLO solver to create one additional feasible pattern that could be added to the list of known patterns."
   ]
  },
  {
   "cell_type": "code",
   "execution_count": 64,
   "metadata": {},
   "outputs": [],
   "source": [
    "def generate_pattern_bilinear(stocks, finish, patterns):\n",
    "    m = pyo.ConcreteModel()\n",
    "\n",
    "    m.S = pyo.Set(initialize=list(stocks.keys()))\n",
    "    m.F = pyo.Set(initialize=list(finish.keys()))\n",
    "    m.P = pyo.RangeSet(0, len(patterns)-1)\n",
    "    \n",
    "    m.x = pyo.Var(m.P, domain=pyo.NonNegativeIntegers)\n",
    "    m.xp = pyo.Var(domain=pyo.NonNegativeReals)\n",
    "    \n",
    "    def a_bounds(m, f):\n",
    "        return (0, max([int(stocks[s]['length']/finish[f]['length']) for s in m.S]))\n",
    "    m.ap = pyo.Var(m.F, domain=pyo.NonNegativeIntegers, bounds=a_bounds)\n",
    "    m.bp = pyo.Var(m.S, domain=pyo.Binary)\n",
    "\n",
    "    @m.Objective(sense=pyo.minimize)\n",
    "    def cost(m):\n",
    "        s = {p: patterns[p]['stock'] for p in m.P}\n",
    "        c = {p:  stocks[s[p]]['cost'] for p in m.P}\n",
    "        return sum(c[p] * m.x[p] for p in m.P) + m.xp * sum(m.bp[s] * stocks[s]['cost'] for s in m.S)\n",
    "    \n",
    "    @m.Constraint()\n",
    "    def sum_to_one(m):\n",
    "        return sum(m.bp[s] for s in m.S) == 1\n",
    "    \n",
    "    @m.Constraint()\n",
    "    def add_pattern(m):\n",
    "        return sum(m.ap[f] * finish[f]['length'] for f in m.F) <= sum(m.bp[s] * stocks[s]['length'] for s in m.S)\n",
    "\n",
    "    @m.Constraint(m.F)\n",
    "    def demand(m, f):\n",
    "        return sum(patterns[p]['cuts'][f] * m.x[p] for p in m.P) + m.ap[f] * m.xp >= finish[f]['demand']\n",
    "    \n",
    "    solver = pyo.SolverFactory(SOLVER_MINLO)\n",
    "    solver.solve(m)\n",
    "    \n",
    "    new_pattern = {'stock': [s for s in m.S if m.bp[s]() > 0.5][0], \n",
    "                   'cuts': {f: round(m.ap[f]()) for f in m.F}}\n",
    "    \n",
    "    return new_pattern"
   ]
  },
  {
   "cell_type": "code",
   "execution_count": 65,
   "metadata": {},
   "outputs": [
    {
     "data": {
      "text/plain": [
       "{'stock': 'B', 'cuts': {'S': 1, 'M': 0, 'L': 1}}"
      ]
     },
     "execution_count": 65,
     "metadata": {},
     "output_type": "execute_result"
    }
   ],
   "source": [
    "stocks = {\n",
    "    'A': {'length': 5, 'cost': 6},\n",
    "    'B': {'length': 6, 'cost': 7},\n",
    "    'C': {'length': 9, 'cost': 10},\n",
    "}\n",
    "\n",
    "finish = {\n",
    "    'S': {'length': 2, 'demand': 20},\n",
    "    'M': {'length': 3, 'demand': 10},\n",
    "    'L': {'length': 4, 'demand': 20},\n",
    "}\n",
    "\n",
    "patterns = make_patterns(stocks, finish)\n",
    "generate_pattern_bilinear(stocks, finish, patterns)"
   ]
  },
  {
   "cell_type": "markdown",
   "metadata": {},
   "source": [
    "## Pattern Generation: Linear Dual\n",
    "\n",
    "A common approach to pattern generation for stock cutting begins by relaxing the MILO optimization problem with known patterns. The integer variables $x_{s_p}$ are relaxed to non-negative reals.\n",
    "\n",
    "$$\n",
    "\\begin{align}\n",
    "\\min\\quad & \\sum_{p\\in P} c_{s_p} x_{s_p} \\\\\n",
    "\\text{s.t.}\\quad\n",
    "& \\sum_{p\\in P}a_{pf} x_{s_p} \\geq d_f && \\forall f\\in F\\\\\n",
    "& x_{s_p}  \\in \\mathbb{R}_+ && \\forall p\\in P\\\\\n",
    "\\end{align}\n",
    "$$\n",
    "\n",
    "Let $\\pi_f \\geq 0$ be the dual variables associated with the demand constraints. A large positive value $\\pi_f$ suggests a high value for including finished part $f$ in a new pattern. This motivates a set of dual optimization problems where the objective is to construct a new patterns that maximizes the the marginal value of each stock $s\\in S$.\n",
    "\n",
    "$$\n",
    "\\begin{align}\n",
    "V_s = \\max\\quad & \\left(\\sum_{f\\in F} \\pi_{f} a'_{sf}\\right) - c_s \\\\\n",
    "\\text{s.t.}\\quad\n",
    "& \\sum_{f\\in F}l^F_f a'_{sf} \\leq l^S_s && \\\\\n",
    "& a'_{sf}  \\in \\mathbb{Z}_+ && \\forall f\\in F\\\\\n",
    "\\end{align}\n",
    "$$\n",
    "\n",
    "The pattern demonstrating the largest return $V_s$ is returned as a candidate to add the list of patterns."
   ]
  },
  {
   "cell_type": "code",
   "execution_count": 71,
   "metadata": {},
   "outputs": [],
   "source": [
    "import pyomo.environ as pyo\n",
    "\n",
    "def generate_pattern_dual(stocks, finish, patterns):\n",
    "    m = pyo.ConcreteModel()\n",
    "\n",
    "    m.S = pyo.Set(initialize=list(stocks.keys()))\n",
    "    m.F = pyo.Set(initialize=list(finish.keys()))\n",
    "    m.P = pyo.RangeSet(0, len(patterns)-1)\n",
    "    \n",
    "    m.x = pyo.Var(m.P, domain=pyo.NonNegativeReals)\n",
    "\n",
    "    @m.Objective(sense=pyo.minimize)\n",
    "    def cost(m):\n",
    "        s = {p: patterns[p]['stock'] for p in m.P}\n",
    "        c = {p: stocks[s[p]]['cost'] for p in m.P}\n",
    "        return sum(c[p] * m.x[p] for p in m.P)\n",
    "\n",
    "    @m.Constraint(m.F)\n",
    "    def demand(m, f):\n",
    "        a = {p: patterns[p]['cuts'][f] for p in m.P}\n",
    "        return sum(a[p] * m.x[p] for p in m.P) >= finish[f]['demand']\n",
    "    \n",
    "    # solve and get duals\n",
    "    m.dual = pyo.Suffix(direction=pyo.Suffix.IMPORT)\n",
    "    solver = pyo.SolverFactory('cbc')\n",
    "    solver.solve(m)\n",
    "    \n",
    "    # solve for reduced cost for each stock\n",
    "    @m.Block(m.S)\n",
    "    def subprob(b, s):\n",
    "        m = b.model()\n",
    "        b.a = pyo.Var(m.F, domain=pyo.NonNegativeIntegers)\n",
    "        \n",
    "        @b.Objective(sense=pyo.maximize)\n",
    "        def marginal_value(b):\n",
    "            return  sum(b.a[f] * m.dual[m.demand[f]] for f in m.F)\n",
    "        \n",
    "        @b.Constraint()\n",
    "        def stock_length(b):\n",
    "            return sum(b.a[f] * finish[f]['length'] for f in m.F) <= stocks[s]['length']\n",
    "    \n",
    "        pyo.SolverFactory(SOLVER_MILO).solve(b)\n",
    "        \n",
    "        return b\n",
    "        \n",
    "    reduced_value = [m.subprob[s].marginal_value() - stocks[s]['cost']  for s in m.S]\n",
    "    s = list(m.S)[reduced_value.index(max(reduced_value))]\n",
    "\n",
    "    return {'stock': s, 'cuts': {f: round(m.subprob[s].a[f]()) for f in m.F}}"
   ]
  },
  {
   "cell_type": "code",
   "execution_count": 69,
   "metadata": {},
   "outputs": [
    {
     "data": {
      "text/plain": [
       "{'stock': 'C', 'cuts': {'S': 1, 'M': 1, 'L': 1}}"
      ]
     },
     "execution_count": 69,
     "metadata": {},
     "output_type": "execute_result"
    }
   ],
   "source": [
    "stocks = {\n",
    "    'A': {'length': 5, 'cost': 6},\n",
    "    'B': {'length': 6, 'cost': 7},\n",
    "    'C': {'length': 9, 'cost': 10},\n",
    "}\n",
    "\n",
    "finish = {\n",
    "    'S': {'length': 2, 'demand': 20},\n",
    "    'M': {'length': 3, 'demand': 10},\n",
    "    'L': {'length': 4, 'demand': 20},\n",
    "}\n",
    "\n",
    "patterns = make_patterns(stocks, finish)\n",
    "generate_pattern_dual(stocks, finish, patterns)"
   ]
  },
  {
   "cell_type": "markdown",
   "metadata": {},
   "source": [
    "The following cell compares the time required to generatuses a somewhat larger data set to determine the time required to produce one pattern. Note this test is "
   ]
  },
  {
   "cell_type": "code",
   "execution_count": 70,
   "metadata": {},
   "outputs": [
    {
     "name": "stdout",
     "output_type": "stream",
     "text": [
      "Testing generate_patterns_bilinear: 1.46 s ± 10.7 ms per loop (mean ± std. dev. of 7 runs, 1 loop each)\n",
      "Testing generate_patterns_dual: 155 ms ± 4.12 ms per loop (mean ± std. dev. of 7 runs, 10 loops each)\n"
     ]
    }
   ],
   "source": [
    "stocks = {\n",
    "    'log': {'length': 100, 'cost': 1},\n",
    "}\n",
    "\n",
    "finish = {\n",
    "    1:  {'length': 75.0, 'demand': 38},\n",
    "    2:  {'length': 75.0, 'demand': 44},\n",
    "    3:  {'length': 75.0, 'demand': 30},\n",
    "    4:  {'length': 75.0, 'demand': 41},\n",
    "    5:  {'length': 75.0, 'demand': 36},\n",
    "    6:  {'length': 53.8, 'demand': 33},\n",
    "    7:  {'length': 53.0, 'demand': 36},\n",
    "    8:  {'length': 51.0, 'demand': 41},\n",
    "    9:  {'length': 50.2, 'demand': 35},\n",
    "    10: {'length': 32.2, 'demand': 37},\n",
    "    11: {'length': 30.8, 'demand': 44},\n",
    "    12: {'length': 29.8, 'demand': 49},\n",
    "    13: {'length': 20.1, 'demand': 37},\n",
    "    14: {'length': 16.2, 'demand': 36},\n",
    "    15: {'length': 14.5, 'demand': 42},\n",
    "    16: {'length': 11.0, 'demand': 33},\n",
    "    17: {'length':  8.6, 'demand': 47},\n",
    "    18: {'length':  8.2, 'demand': 35},\n",
    "    19: {'length':  6.6, 'demand': 49},\n",
    "    20: {'length':  5.1, 'demand': 42},\n",
    "}\n",
    "\n",
    "patterns = make_patterns(stocks, finish)\n",
    "\n",
    "print(\"Testing generate_patterns_bilinear: \", end=\"\")\n",
    "%timeit generate_pattern_bilinear(stocks, finish, patterns)\n",
    "\n",
    "print(\"Testing generate_patterns_dual: \", end=\"\")\n",
    "%timeit generate_pattern_dual(stocks, finish, patterns)\n"
   ]
  },
  {
   "cell_type": "markdown",
   "metadata": {},
   "source": [
    "## A Solution Algorithm\n",
    "\n",
    "The following cell implements an algorithm to solve the cutting stock problem. The algorithm starts with "
   ]
  },
  {
   "cell_type": "code",
   "execution_count": 36,
   "metadata": {},
   "outputs": [
    {
     "name": "stdout",
     "output_type": "stream",
     "text": [
      "... Finished\n",
      "\n"
     ]
    },
    {
     "data": {
      "text/plain": [
       "<Axes: title={'center': 'Cost = 170.0'}>"
      ]
     },
     "execution_count": 36,
     "metadata": {},
     "output_type": "execute_result"
    },
    {
     "data": {
      "image/png": "[encoded data removed]",
      "text/plain": [
       "<Figure size 800x85 with 1 Axes>"
      ]
     },
     "metadata": {},
     "output_type": "display_data"
    }
   ],
   "source": [
    "def cut_stock(stocks, finish, pattern_generator, max_iter=50):\n",
    "    \n",
    "    patterns = make_patterns(stocks, finish)\n",
    "    \n",
    "    for k in range(max_iter):\n",
    "        print(\".\", end=\"\")\n",
    "        new_pattern = pattern_generator(stocks, finish, patterns)\n",
    "        if new_pattern in patterns:\n",
    "            break\n",
    "        patterns.append(new_pattern)\n",
    "        \n",
    "    else:\n",
    "        print(f\"\\nDidn't Converge in {max_iter} iterations\")\n",
    "        return\n",
    "    \n",
    "    # return non-zero patterns\n",
    "    print(\" Finished\\n\")\n",
    "    x, cost = cut_patterns(stocks, finish, patterns) \n",
    "    k = [j for j, _ in enumerate(x) if _ > 0]\n",
    "    return [patterns[j] for j in k], [x[j] for j in k], cost\n",
    "       \n",
    "patterns, x, cost = cut_stock(stocks, finish, generate_pattern_dual)\n",
    "plot_nonzero_patterns(stocks, finish, patterns, x, cost)"
   ]
  },
  {
   "cell_type": "markdown",
   "metadata": {},
   "source": [
    "## Examples"
   ]
  },
  {
   "cell_type": "markdown",
   "metadata": {},
   "source": [
    "### Example from JuMP documentation for column generation\n",
    "\n",
    "https://jump.dev/JuMP.jl/stable/tutorials/algorithms/cutting_stock_column_generation/#:~:text=The%20cutting%20stock%20problem%20is,while%20maximizing%20the%20total%20profit."
   ]
  },
  {
   "cell_type": "code",
   "execution_count": 38,
   "metadata": {},
   "outputs": [
    {
     "name": "stdout",
     "output_type": "stream",
     "text": [
      "............ Finished\n",
      "\n"
     ]
    },
    {
     "data": {
      "text/plain": [
       "<Axes: title={'center': 'Cost = 334.0'}>"
      ]
     },
     "execution_count": 38,
     "metadata": {},
     "output_type": "execute_result"
    },
    {
     "data": {
      "image/png": "[encoded data removed]",
      "text/plain": [
       "<Figure size 800x605 with 1 Axes>"
      ]
     },
     "metadata": {},
     "output_type": "display_data"
    }
   ],
   "source": [
    "stocks = {\n",
    "    'log': {'length': 100, 'cost': 1},\n",
    "}\n",
    "\n",
    "finish = {\n",
    "    1:  {'length': 75.0, 'demand': 38},\n",
    "    2:  {'length': 75.0, 'demand': 44},\n",
    "    3:  {'length': 75.0, 'demand': 30},\n",
    "    4:  {'length': 75.0, 'demand': 41},\n",
    "    5:  {'length': 75.0, 'demand': 36},\n",
    "    6:  {'length': 53.8, 'demand': 33},\n",
    "    7:  {'length': 53.0, 'demand': 36},\n",
    "    8:  {'length': 51.0, 'demand': 41},\n",
    "    9:  {'length': 50.2, 'demand': 35},\n",
    "    10: {'length': 32.2, 'demand': 37},\n",
    "    11: {'length': 30.8, 'demand': 44},\n",
    "    12: {'length': 29.8, 'demand': 49},\n",
    "    13: {'length': 20.1, 'demand': 37},\n",
    "    14: {'length': 16.2, 'demand': 36},\n",
    "    15: {'length': 14.5, 'demand': 42},\n",
    "    16: {'length': 11.0, 'demand': 33},\n",
    "    17: {'length':  8.6, 'demand': 47},\n",
    "    18: {'length':  8.2, 'demand': 35},\n",
    "    19: {'length':  6.6, 'demand': 49},\n",
    "    20: {'length':  5.1, 'demand': 42},\n",
    "}\n",
    "\n",
    "patterns, x, cost = cut_stock(stocks, finish, generate_pattern_bilinear)\n",
    "plot_nonzero_patterns(stocks, finish, patterns, x, cost)"
   ]
  },
  {
   "cell_type": "markdown",
   "metadata": {},
   "source": [
    "### Example from Wikipedia\n",
    "\n",
    "https://en.wikipedia.org/wiki/Cutting_stock_problem\n",
    "\n",
    "The minimum number of rolls is 73.0."
   ]
  },
  {
   "cell_type": "code",
   "execution_count": 13,
   "metadata": {},
   "outputs": [
    {
     "name": "stdout",
     "output_type": "stream",
     "text": [
      ".......................... Finished\n",
      "\n"
     ]
    },
    {
     "data": {
      "text/plain": [
       "<Axes: title={'center': 'Cost = 73.0'}>"
      ]
     },
     "execution_count": 13,
     "metadata": {},
     "output_type": "execute_result"
    },
    {
     "data": {
      "image/png": "[encoded data removed]",
      "text/plain": [
       "<Figure size 800x525 with 1 Axes>"
      ]
     },
     "metadata": {},
     "output_type": "display_data"
    }
   ],
   "source": [
    "stocks = {\n",
    "    'roll': {'length': 5600, 'cost': 1},\n",
    "}\n",
    "\n",
    "finish = {\n",
    "    1380: {'length': 1380, 'demand': 22},\n",
    "    1520: {'length': 1520, 'demand': 25},\n",
    "    1560: {'length': 1560, 'demand': 12},\n",
    "    1710: {'length': 1710, 'demand': 14},\n",
    "    1820: {'length': 1820, 'demand': 18},\n",
    "    1880: {'length': 1880, 'demand': 18},\n",
    "    1930: {'length': 1930, 'demand': 20},\n",
    "    2000: {'length': 2000, 'demand': 10},\n",
    "    2050: {'length': 2050, 'demand': 12},\n",
    "    2100: {'length': 2100, 'demand': 14},\n",
    "    2140: {'length': 2140, 'demand': 16},\n",
    "    2150: {'length': 2150, 'demand': 18},\n",
    "    2200: {'length': 2200, 'demand': 20},\n",
    "}\n",
    "\n",
    "patterns, x, cost = cut_stock(stocks, finish, generate_pattern_dual)\n",
    "plot_nonzero_patterns(stocks, finish, patterns, x, cost)"
   ]
  },
  {
   "cell_type": "markdown",
   "metadata": {
    "id": "DOmXamBBuM17"
   },
   "source": [
    "### Woodworking: Problem data from Google sheets\n",
    "\n",
    "Find a minimum cost order of 2x4 lumber to build the [\"One Arm 2x4 Outdoor Sofa\" described by Ana White](https://www.ana-white.com/woodworking-projects/one-arm-2x4-outdoor-sofa-sectional-piece).\n",
    "\n",
    "![](https://www.ana-white.com/sites/default/files/images/diy%202x4%20sectional%20single%20arm%20ana%20white%20dimensions.jpg)\n",
    "Image source: www.ana-white.com"
   ]
  },
  {
   "cell_type": "markdown",
   "metadata": {
    "id": "RbMtlRjbY7YO"
   },
   "source": [
    "Data source: https://docs.google.com/spreadsheets/d/1ZX7KJ2kwTGgyqEv_a3LOG0nQSxsc38Ykk53A7vGWAFU/edit#gid=1104632299"
   ]
  },
  {
   "cell_type": "code",
   "execution_count": 14,
   "metadata": {
    "id": "BZtYAaoxDwsS"
   },
   "outputs": [],
   "source": [
    "import pandas as pd\n",
    "\n",
    "def read_google_sheet(sheet_id, sheet_name):\n",
    "    \"\"\"\n",
    "    Reads a Google Sheet and returns a pandas DataFrame.\n",
    "\n",
    "    This function reads a Google Sheet with the specified sheet ID and sheet name,\n",
    "    and returns a pandas DataFrame with the data. The column names are converted to\n",
    "    lowercase.\n",
    "\n",
    "    Args:\n",
    "        sheet_id (str): The Google Sheet ID.\n",
    "        sheet_name (str): The name of the sheet to read.\n",
    "\n",
    "    Returns:\n",
    "        df (pd.DataFrame): A pandas DataFrame containing the data from the Google Sheet.\n",
    "    \"\"\"\n",
    "    url = f\"https://docs.google.com/spreadsheets/d/{sheet_id}/gviz/tq?tqx=out:csv&sheet={sheet_name}\"\n",
    "    df = pd.read_csv(url)\n",
    "    df.columns = map(str.lower, df.columns)\n",
    "    return df"
   ]
  },
  {
   "cell_type": "code",
   "execution_count": 15,
   "metadata": {
    "colab": {
     "base_uri": "https://localhost:8080/",
     "height": 783
    },
    "executionInfo": {
     "elapsed": 265,
     "status": "ok",
     "timestamp": 1683039209383,
     "user": {
      "displayName": "Jeffrey Kantor",
      "userId": "09038942003589296665"
     },
     "user_tz": 240
    },
    "id": "s13K6p_eu5IQ",
    "outputId": "840858ba-6d3c-41f7-df59-e381947c2f72"
   },
   "outputs": [
    {
     "name": "stdout",
     "output_type": "stream",
     "text": [
      "\n",
      "Settings\n"
     ]
    },
    {
     "data": {
      "text/html": [
       "<div>\n",
       "<style scoped>\n",
       "    .dataframe tbody tr th:only-of-type {\n",
       "        vertical-align: middle;\n",
       "    }\n",
       "\n",
       "    .dataframe tbody tr th {\n",
       "        vertical-align: top;\n",
       "    }\n",
       "\n",
       "    .dataframe thead th {\n",
       "        text-align: right;\n",
       "    }\n",
       "</style>\n",
       "<table border=\"1\" class=\"dataframe\">\n",
       "  <thead>\n",
       "    <tr style=\"text-align: right;\">\n",
       "      <th></th>\n",
       "      <th>setting</th>\n",
       "      <th>value</th>\n",
       "    </tr>\n",
       "  </thead>\n",
       "  <tbody>\n",
       "    <tr>\n",
       "      <th>0</th>\n",
       "      <td>kerf</td>\n",
       "      <td>0.125</td>\n",
       "    </tr>\n",
       "  </tbody>\n",
       "</table>\n",
       "</div>"
      ],
      "text/plain": [
       "  setting  value\n",
       "0    kerf  0.125"
      ]
     },
     "metadata": {},
     "output_type": "display_data"
    },
    {
     "name": "stdout",
     "output_type": "stream",
     "text": [
      "\n",
      "Finish\n"
     ]
    },
    {
     "data": {
      "text/html": [
       "<div>\n",
       "<style scoped>\n",
       "    .dataframe tbody tr th:only-of-type {\n",
       "        vertical-align: middle;\n",
       "    }\n",
       "\n",
       "    .dataframe tbody tr th {\n",
       "        vertical-align: top;\n",
       "    }\n",
       "\n",
       "    .dataframe thead th {\n",
       "        text-align: right;\n",
       "    }\n",
       "</style>\n",
       "<table border=\"1\" class=\"dataframe\">\n",
       "  <thead>\n",
       "    <tr style=\"text-align: right;\">\n",
       "      <th></th>\n",
       "      <th>kind</th>\n",
       "      <th>length</th>\n",
       "      <th>quantity</th>\n",
       "      <th>label</th>\n",
       "    </tr>\n",
       "  </thead>\n",
       "  <tbody>\n",
       "    <tr>\n",
       "      <th>0</th>\n",
       "      <td>2x4</td>\n",
       "      <td>70.50</td>\n",
       "      <td>3</td>\n",
       "      <td>70.50</td>\n",
       "    </tr>\n",
       "    <tr>\n",
       "      <th>1</th>\n",
       "      <td>2x4</td>\n",
       "      <td>25.50</td>\n",
       "      <td>10</td>\n",
       "      <td>25.50</td>\n",
       "    </tr>\n",
       "    <tr>\n",
       "      <th>2</th>\n",
       "      <td>2x4</td>\n",
       "      <td>12.50</td>\n",
       "      <td>1</td>\n",
       "      <td>12.50</td>\n",
       "    </tr>\n",
       "    <tr>\n",
       "      <th>3</th>\n",
       "      <td>2x4</td>\n",
       "      <td>72.00</td>\n",
       "      <td>6</td>\n",
       "      <td>72.00</td>\n",
       "    </tr>\n",
       "    <tr>\n",
       "      <th>4</th>\n",
       "      <td>2x4</td>\n",
       "      <td>70.75</td>\n",
       "      <td>1</td>\n",
       "      <td>70.75</td>\n",
       "    </tr>\n",
       "    <tr>\n",
       "      <th>5</th>\n",
       "      <td>2x4</td>\n",
       "      <td>28.50</td>\n",
       "      <td>1</td>\n",
       "      <td>28.50</td>\n",
       "    </tr>\n",
       "  </tbody>\n",
       "</table>\n",
       "</div>"
      ],
      "text/plain": [
       "  kind  length  quantity  label\n",
       "0  2x4   70.50         3  70.50\n",
       "1  2x4   25.50        10  25.50\n",
       "2  2x4   12.50         1  12.50\n",
       "3  2x4   72.00         6  72.00\n",
       "4  2x4   70.75         1  70.75\n",
       "5  2x4   28.50         1  28.50"
      ]
     },
     "metadata": {},
     "output_type": "display_data"
    },
    {
     "name": "stdout",
     "output_type": "stream",
     "text": [
      "\n",
      "Stocks\n"
     ]
    },
    {
     "data": {
      "text/html": [
       "<div>\n",
       "<style scoped>\n",
       "    .dataframe tbody tr th:only-of-type {\n",
       "        vertical-align: middle;\n",
       "    }\n",
       "\n",
       "    .dataframe tbody tr th {\n",
       "        vertical-align: top;\n",
       "    }\n",
       "\n",
       "    .dataframe thead th {\n",
       "        text-align: right;\n",
       "    }\n",
       "</style>\n",
       "<table border=\"1\" class=\"dataframe\">\n",
       "  <thead>\n",
       "    <tr style=\"text-align: right;\">\n",
       "      <th></th>\n",
       "      <th>kind</th>\n",
       "      <th>length</th>\n",
       "      <th>price</th>\n",
       "    </tr>\n",
       "  </thead>\n",
       "  <tbody>\n",
       "    <tr>\n",
       "      <th>0</th>\n",
       "      <td>2x4</td>\n",
       "      <td>36</td>\n",
       "      <td>1.68</td>\n",
       "    </tr>\n",
       "    <tr>\n",
       "      <th>1</th>\n",
       "      <td>2x4</td>\n",
       "      <td>48</td>\n",
       "      <td>1.86</td>\n",
       "    </tr>\n",
       "    <tr>\n",
       "      <th>2</th>\n",
       "      <td>2x4</td>\n",
       "      <td>72</td>\n",
       "      <td>2.57</td>\n",
       "    </tr>\n",
       "    <tr>\n",
       "      <th>3</th>\n",
       "      <td>2x4</td>\n",
       "      <td>84</td>\n",
       "      <td>2.65</td>\n",
       "    </tr>\n",
       "    <tr>\n",
       "      <th>4</th>\n",
       "      <td>2x4</td>\n",
       "      <td>96</td>\n",
       "      <td>2.92</td>\n",
       "    </tr>\n",
       "    <tr>\n",
       "      <th>5</th>\n",
       "      <td>2x4</td>\n",
       "      <td>120</td>\n",
       "      <td>3.67</td>\n",
       "    </tr>\n",
       "    <tr>\n",
       "      <th>6</th>\n",
       "      <td>2x4</td>\n",
       "      <td>144</td>\n",
       "      <td>4.40</td>\n",
       "    </tr>\n",
       "    <tr>\n",
       "      <th>7</th>\n",
       "      <td>2x4</td>\n",
       "      <td>168</td>\n",
       "      <td>5.14</td>\n",
       "    </tr>\n",
       "    <tr>\n",
       "      <th>8</th>\n",
       "      <td>2x4</td>\n",
       "      <td>192</td>\n",
       "      <td>6.92</td>\n",
       "    </tr>\n",
       "    <tr>\n",
       "      <th>9</th>\n",
       "      <td>2x4</td>\n",
       "      <td>216</td>\n",
       "      <td>8.62</td>\n",
       "    </tr>\n",
       "    <tr>\n",
       "      <th>10</th>\n",
       "      <td>2x4</td>\n",
       "      <td>240</td>\n",
       "      <td>10.40</td>\n",
       "    </tr>\n",
       "    <tr>\n",
       "      <th>11</th>\n",
       "      <td>2x6</td>\n",
       "      <td>96</td>\n",
       "      <td>4.43</td>\n",
       "    </tr>\n",
       "    <tr>\n",
       "      <th>12</th>\n",
       "      <td>2x6</td>\n",
       "      <td>192</td>\n",
       "      <td>9.36</td>\n",
       "    </tr>\n",
       "  </tbody>\n",
       "</table>\n",
       "</div>"
      ],
      "text/plain": [
       "   kind  length  price\n",
       "0   2x4      36   1.68\n",
       "1   2x4      48   1.86\n",
       "2   2x4      72   2.57\n",
       "3   2x4      84   2.65\n",
       "4   2x4      96   2.92\n",
       "5   2x4     120   3.67\n",
       "6   2x4     144   4.40\n",
       "7   2x4     168   5.14\n",
       "8   2x4     192   6.92\n",
       "9   2x4     216   8.62\n",
       "10  2x4     240  10.40\n",
       "11  2x6      96   4.43\n",
       "12  2x6     192   9.36"
      ]
     },
     "metadata": {},
     "output_type": "display_data"
    }
   ],
   "source": [
    "# Google Sheet ID\n",
    "sheet_id = \"1ZX7KJ2kwTGgyqEv_a3LOG0nQSxsc38Ykk53A7vGWAFU\"\n",
    "\n",
    "# read settings\n",
    "settings_df = read_google_sheet(sheet_id, \"settings\")\n",
    "print(\"\\nSettings\")\n",
    "display(settings_df)\n",
    "\n",
    "# read parts\n",
    "finish_df = read_google_sheet(sheet_id, \"finish\")\n",
    "print(\"\\nFinish\")\n",
    "display(finish_df)\n",
    "\n",
    "# read and display stocks\n",
    "stocks_df = read_google_sheet(sheet_id, \"stocks\")\n",
    "#stocks = stocks.drop([\"price\"], axis=1)\n",
    "if not \"price\" in stocks_df.columns:\n",
    "    stocks[\"price\"] = stocks_df[\"length\"]\n",
    "print(\"\\nStocks\")\n",
    "display(stocks_df)"
   ]
  },
  {
   "cell_type": "code",
   "execution_count": 17,
   "metadata": {
    "id": "c2tfCmEo3QDC"
   },
   "outputs": [
    {
     "name": "stdout",
     "output_type": "stream",
     "text": [
      "Kind = 2x4\n",
      ".... Finished\n",
      "\n"
     ]
    },
    {
     "data": {
      "image/png": "[encoded data removed]",
      "text/plain": [
       "<Figure size 800x245 with 1 Axes>"
      ]
     },
     "metadata": {},
     "output_type": "display_data"
    }
   ],
   "source": [
    "kinds = tuple(set(finish_df['kind']))\n",
    "\n",
    "kerf = 0.25\n",
    "\n",
    "for kind in kinds:\n",
    "    print(f\"Kind = {kind}\")\n",
    "    \n",
    "    finish = dict()\n",
    "    for i in finish_df.loc[finish_df['kind'] == kind].index:\n",
    "        finish[finish_df.loc[i, 'label']] = {'length': finish_df.loc[i, 'length'] + kerf,\n",
    "                                             'demand': finish_df.loc[i, 'quantity']}\n",
    "        \n",
    "    stocks = dict()\n",
    "    for i in stocks_df.loc[stocks_df['kind'] == kind].index:\n",
    "        stocks[stocks_df.loc[i, 'length']] = {'length': stocks_df.loc[i, 'length'] + 0*kerf,\n",
    "                                             'cost': stocks_df.loc[i, 'price']}\n",
    "    \n",
    "    patterns, x, cost = cut_stock(stocks, finish, generate_pattern_dual)\n",
    "    plot_nonzero_patterns(stocks, finish, patterns, x, cost)\n",
    "    "
   ]
  },
  {
   "cell_type": "markdown",
   "metadata": {},
   "source": [
    "Purchase List"
   ]
  },
  {
   "cell_type": "code",
   "execution_count": 18,
   "metadata": {},
   "outputs": [
    {
     "data": {
      "text/html": [
       "<div>\n",
       "<style scoped>\n",
       "    .dataframe tbody tr th:only-of-type {\n",
       "        vertical-align: middle;\n",
       "    }\n",
       "\n",
       "    .dataframe tbody tr th {\n",
       "        vertical-align: top;\n",
       "    }\n",
       "\n",
       "    .dataframe thead th {\n",
       "        text-align: right;\n",
       "    }\n",
       "</style>\n",
       "<table border=\"1\" class=\"dataframe\">\n",
       "  <thead>\n",
       "    <tr style=\"text-align: right;\">\n",
       "      <th></th>\n",
       "      <th>cuts</th>\n",
       "    </tr>\n",
       "    <tr>\n",
       "      <th>stock</th>\n",
       "      <th></th>\n",
       "    </tr>\n",
       "  </thead>\n",
       "  <tbody>\n",
       "    <tr>\n",
       "      <th>84</th>\n",
       "      <td>2.0</td>\n",
       "    </tr>\n",
       "    <tr>\n",
       "      <th>144</th>\n",
       "      <td>5.0</td>\n",
       "    </tr>\n",
       "    <tr>\n",
       "      <th>168</th>\n",
       "      <td>1.0</td>\n",
       "    </tr>\n",
       "  </tbody>\n",
       "</table>\n",
       "</div>"
      ],
      "text/plain": [
       "       cuts\n",
       "stock      \n",
       "84      2.0\n",
       "144     5.0\n",
       "168     1.0"
      ]
     },
     "execution_count": 18,
     "metadata": {},
     "output_type": "execute_result"
    }
   ],
   "source": [
    "df = pd.DataFrame(patterns)\n",
    "df['cuts'] = x\n",
    "df['stock'] = df['stock'].astype(str)\n",
    "df = df.pivot_table(index='stock', values='cuts', aggfunc='sum')\n",
    "df.index = df.index.astype(int)\n",
    "df = df.sort_index()\n",
    "\n",
    "df"
   ]
  },
  {
   "cell_type": "markdown",
   "metadata": {
    "id": "LLM-1Fqm3BKd"
   },
   "source": [
    "## References\n",
    "\n",
    "The one dimensional cutting stock problem addressed in this notebook is generally attributed to two classic papers by Gilmore and Gomory. This first paper considers the more general case of stocks available in multiple lengths, while the second paper specializes to the needs of a paper trimming operation.\n",
    "\n",
    "> Gilmore, P. C., & Gomory, R. E. (1961). A linear programming approach to the cutting-stock problem. Operations research, 9(6), 849-859. [[jstor](https://www.jstor.org/stable/pdf/167051.pdf)]\n",
    "\n",
    "> Gilmore, P. C., & Gomory, R. E. (1963). A linear programming approach to the cutting stock problem—Part II. Operations research, 11(6), 863-888. [[jstor](https://www.jstor.org/stable/pdf/167827.pdf)]\n",
    "\n",
    "A useful survey of subsequent development of the cutting stock problem is given by:\n",
    "\n",
    "> Haessler, R. W., & Sweeney, P. E. (1991). Cutting stock problems and solution procedures. European Journal of Operational Research, 54(2), 141-150. [[pdf](https://deepblue.lib.umich.edu/bitstream/handle/2027.42/29128/0000167.pdf)]\n",
    "\n",
    "> Delorme, M., Iori, M., & Martello, S. (2016). Bin packing and cutting stock problems: Mathematical models and exact algorithms. European Journal of Operational Research, 255(1), 1-20. [[sciencedirect](https://www.sciencedirect.com/science/article/pii/S0377221716302491)]\n",
    "\n",
    "The solution proposed by Gilmore and Gamory has been refined over time and now generally referred to as \"column generation\". A number of tutorial implemenations are available, these are representative:\n",
    "\n",
    "> * [Mathworks/Matlab: Cutting Stock Problem](https://www.mathworks.com/help/optim/ug/cutting-stock-problem-based.html)\n",
    "* [AIMMS: Cutting Stock Problem](https://download.aimms.com/aimms/download/manuals/AIMMS3OM_CuttingStock.pdf)\n",
    "* [SCIP:Bin packing and cutting stock problems](https://scipbook.readthedocs.io/en/latest/bpp.html)\n",
    "* [PuLP: Implementation](https://github.com/coin-or/pulp/blob/master/examples/CGcolumnwise.py)\n",
    "\n",
    "More recently, the essential bilinear structure of the problem has been noted, and various convex transformations of the problem have been studied:\n",
    "\n",
    "> Harjunkoski, I., Westerlund, T., Pörn, R., & Skrifvars, H. (1998). Different transformations for solving non-convex trim-loss problems by MINLP. European Journal of Operational Research, 105(3), 594-603. [[abo.fi](http://users.abo.fi/twesterl/some-selected-papers/49.%20EJOR-IH-TW-RP-HS-1998.pdf)][[sciencedirect](https://www.sciencedirect.com/science/article/pii/S0377221797000660)]\n",
    "\n",
    "> Harjunkoski, I., Pörn, R., & Westerlund, T. (1999). Exploring the convex transformations for solving non-convex bilinear integer problems. Computers & Chemical Engineering, 23, S471-S474. [[sciencedirect](https://www.sciencedirect.com/science/article/pii/S0098135499801161)"
   ]
  },
  {
   "cell_type": "code",
   "execution_count": null,
   "metadata": {},
   "outputs": [],
   "source": []
  }
 ],
 "metadata": {
  "colab": {
   "authorship_tag": "ABX9TyMAEgtZ2QtPtbxWXdXZAIk/",
   "provenance": []
  },
  "kernelspec": {
   "display_name": "Python 3 (ipykernel)",
   "language": "python",
   "name": "python3"
  },
  "language_info": {
   "codemirror_mode": {
    "name": "ipython",
    "version": 3
   },
   "file_extension": ".py",
   "mimetype": "text/x-python",
   "name": "python",
   "nbconvert_exporter": "python",
   "pygments_lexer": "ipython3",
   "version": "3.9.16"
  }
 },
 "nbformat": 4,
 "nbformat_minor": 4
}
